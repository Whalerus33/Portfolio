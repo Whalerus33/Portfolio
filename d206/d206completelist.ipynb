{
 "cells": [
  {
   "cell_type": "code",
   "execution_count": 2,
   "id": "c39f6fbe-6e97-41e6-850b-de756efb23ff",
   "metadata": {},
   "outputs": [],
   "source": [
    "import pandas as pd\n",
    "import numpy as np\n",
    "import matplotlib.pyplot as plt\n",
    "from sklearn.decomposition import PCA\n",
    "import seaborn\n",
    "import scipy.stats as stats\n",
    "import statistics\n",
    "%matplotlib inline\n",
    "\n",
    "# Importing and naming packages/libraries to be used\n",
    "medicaldata = \"/Users/Owner/Desktop/Skool/D206 - Data Cleaning/Medical Data/medical_raw_data.csv\"\n",
    "# Opening original .csv data set for manipulation\n",
    "df = pd.read_csv(medicaldata, index_col=0)\n",
    "\n",
    "\n"
   ]
  },
  {
   "cell_type": "code",
   "execution_count": 3,
   "id": "a903cab6-a649-41dc-a6e4-ccdc5b72b08a",
   "metadata": {},
   "outputs": [
    {
     "name": "stdout",
     "output_type": "stream",
     "text": [
      "<class 'pandas.core.frame.DataFrame'>\n",
      "Index: 10000 entries, 1 to 10000\n",
      "Data columns (total 52 columns):\n",
      " #   Column              Non-Null Count  Dtype  \n",
      "---  ------              --------------  -----  \n",
      " 0   CaseOrder           10000 non-null  int64  \n",
      " 1   Customer_id         10000 non-null  object \n",
      " 2   Interaction         10000 non-null  object \n",
      " 3   UID                 10000 non-null  object \n",
      " 4   City                10000 non-null  object \n",
      " 5   State               10000 non-null  object \n",
      " 6   County              10000 non-null  object \n",
      " 7   Zip                 10000 non-null  int64  \n",
      " 8   Lat                 10000 non-null  float64\n",
      " 9   Lng                 10000 non-null  float64\n",
      " 10  Population          10000 non-null  int64  \n",
      " 11  Area                10000 non-null  object \n",
      " 12  Timezone            10000 non-null  object \n",
      " 13  Job                 10000 non-null  object \n",
      " 14  Children            7412 non-null   float64\n",
      " 15  Age                 7586 non-null   float64\n",
      " 16  Education           10000 non-null  object \n",
      " 17  Employment          10000 non-null  object \n",
      " 18  Income              7536 non-null   float64\n",
      " 19  Marital             10000 non-null  object \n",
      " 20  Gender              10000 non-null  object \n",
      " 21  ReAdmis             10000 non-null  object \n",
      " 22  VitD_levels         10000 non-null  float64\n",
      " 23  Doc_visits          10000 non-null  int64  \n",
      " 24  Full_meals_eaten    10000 non-null  int64  \n",
      " 25  VitD_supp           10000 non-null  int64  \n",
      " 26  Soft_drink          7533 non-null   object \n",
      " 27  Initial_admin       10000 non-null  object \n",
      " 28  HighBlood           10000 non-null  object \n",
      " 29  Stroke              10000 non-null  object \n",
      " 30  Complication_risk   10000 non-null  object \n",
      " 31  Overweight          9018 non-null   float64\n",
      " 32  Arthritis           10000 non-null  object \n",
      " 33  Diabetes            10000 non-null  object \n",
      " 34  Hyperlipidemia      10000 non-null  object \n",
      " 35  BackPain            10000 non-null  object \n",
      " 36  Anxiety             9016 non-null   float64\n",
      " 37  Allergic_rhinitis   10000 non-null  object \n",
      " 38  Reflux_esophagitis  10000 non-null  object \n",
      " 39  Asthma              10000 non-null  object \n",
      " 40  Services            10000 non-null  object \n",
      " 41  Initial_days        8944 non-null   float64\n",
      " 42  TotalCharge         10000 non-null  float64\n",
      " 43  Additional_charges  10000 non-null  float64\n",
      " 44  Item1               10000 non-null  int64  \n",
      " 45  Item2               10000 non-null  int64  \n",
      " 46  Item3               10000 non-null  int64  \n",
      " 47  Item4               10000 non-null  int64  \n",
      " 48  Item5               10000 non-null  int64  \n",
      " 49  Item6               10000 non-null  int64  \n",
      " 50  Item7               10000 non-null  int64  \n",
      " 51  Item8               10000 non-null  int64  \n",
      "dtypes: float64(11), int64(14), object(27)\n",
      "memory usage: 4.0+ MB\n"
     ]
    }
   ],
   "source": [
    "# Ensuring file loaded correctly\n",
    "df.info()"
   ]
  },
  {
   "cell_type": "code",
   "execution_count": 4,
   "id": "e9cfdee5-c539-4512-89bd-b0b385a69573",
   "metadata": {},
   "outputs": [
    {
     "data": {
      "text/plain": [
       "CaseOrder                0\n",
       "Customer_id              0\n",
       "Interaction              0\n",
       "UID                      0\n",
       "City                     0\n",
       "State                    0\n",
       "County                   0\n",
       "Zip                      0\n",
       "Lat                      0\n",
       "Lng                      0\n",
       "Population               0\n",
       "Area                     0\n",
       "Timezone                 0\n",
       "Job                      0\n",
       "Children              2588\n",
       "Age                   2414\n",
       "Education                0\n",
       "Employment               0\n",
       "Income                2464\n",
       "Marital                  0\n",
       "Gender                   0\n",
       "ReAdmis                  0\n",
       "VitD_levels              0\n",
       "Doc_visits               0\n",
       "Full_meals_eaten         0\n",
       "VitD_supp                0\n",
       "Soft_drink            2467\n",
       "Initial_admin            0\n",
       "HighBlood                0\n",
       "Stroke                   0\n",
       "Complication_risk        0\n",
       "Overweight             982\n",
       "Arthritis                0\n",
       "Diabetes                 0\n",
       "Hyperlipidemia           0\n",
       "BackPain                 0\n",
       "Anxiety                984\n",
       "Allergic_rhinitis        0\n",
       "Reflux_esophagitis       0\n",
       "Asthma                   0\n",
       "Services                 0\n",
       "Initial_days          1056\n",
       "TotalCharge              0\n",
       "Additional_charges       0\n",
       "Item1                    0\n",
       "Item2                    0\n",
       "Item3                    0\n",
       "Item4                    0\n",
       "Item5                    0\n",
       "Item6                    0\n",
       "Item7                    0\n",
       "Item8                    0\n",
       "dtype: int64"
      ]
     },
     "execution_count": 4,
     "metadata": {},
     "output_type": "execute_result"
    }
   ],
   "source": [
    "# Check data set for missing values\n",
    "df.isnull().sum()"
   ]
  },
  {
   "cell_type": "code",
   "execution_count": 5,
   "id": "21eaeb08-acdc-4864-bbd6-27d046604b27",
   "metadata": {},
   "outputs": [
    {
     "data": {
      "image/png": "[encoded data removed]",
      "text/plain": [
       "<Figure size 640x480 with 1 Axes>"
      ]
     },
     "metadata": {},
     "output_type": "display_data"
    },
    {
     "data": {
      "image/png": "[encoded data removed]",
      "text/plain": [
       "<Figure size 640x480 with 1 Axes>"
      ]
     },
     "metadata": {},
     "output_type": "display_data"
    },
    {
     "data": {
      "image/png": "[encoded data removed]",
      "text/plain": [
       "<Figure size 640x480 with 1 Axes>"
      ]
     },
     "metadata": {},
     "output_type": "display_data"
    },
    {
     "data": {
      "image/png": "[encoded data removed]",
      "text/plain": [
       "<Figure size 640x480 with 1 Axes>"
      ]
     },
     "metadata": {},
     "output_type": "display_data"
    },
    {
     "data": {
      "image/png": "[encoded data removed]",
      "text/plain": [
       "<Figure size 640x480 with 1 Axes>"
      ]
     },
     "metadata": {},
     "output_type": "display_data"
    },
    {
     "data": {
      "image/png": "[encoded data removed]",
      "text/plain": [
       "<Figure size 640x480 with 1 Axes>"
      ]
     },
     "metadata": {},
     "output_type": "display_data"
    },
    {
     "data": {
      "image/png": "[encoded data removed]",
      "text/plain": [
       "<Figure size 640x480 with 1 Axes>"
      ]
     },
     "metadata": {},
     "output_type": "display_data"
    },
    {
     "data": {
      "image/png": "[encoded data removed]",
      "text/plain": [
       "<Figure size 640x480 with 1 Axes>"
      ]
     },
     "metadata": {},
     "output_type": "display_data"
    },
    {
     "data": {
      "image/png": "[encoded data removed]",
      "text/plain": [
       "<Figure size 640x480 with 1 Axes>"
      ]
     },
     "metadata": {},
     "output_type": "display_data"
    },
    {
     "data": {
      "image/png": "[encoded data removed]",
      "text/plain": [
       "<Figure size 640x480 with 1 Axes>"
      ]
     },
     "metadata": {},
     "output_type": "display_data"
    },
    {
     "data": {
      "image/png": "[encoded data removed]",
      "text/plain": [
       "<Figure size 640x480 with 1 Axes>"
      ]
     },
     "metadata": {},
     "output_type": "display_data"
    },
    {
     "data": {
      "image/png": "[encoded data removed]",
      "text/plain": [
       "<Figure size 640x480 with 1 Axes>"
      ]
     },
     "metadata": {},
     "output_type": "display_data"
    },
    {
     "data": {
      "image/png": "[encoded data removed]",
      "text/plain": [
       "<Figure size 640x480 with 1 Axes>"
      ]
     },
     "metadata": {},
     "output_type": "display_data"
    }
   ],
   "source": [
    "# Check quantitative variables for outliers.  More in depth queries further down.\n",
    "\n",
    "quant_columns = ['Lat', 'Lng', 'Population', 'Children', 'Age', 'Income', 'VitD_levels', 'Doc_visits', 'Full_meals_eaten', 'VitD_supp', 'Initial_days', 'TotalCharge', 'Additional_charges']\n",
    "\n",
    "\n",
    "for column in df:\n",
    "    if column in quant_columns:\n",
    "        plt.figure()\n",
    "        plt.gca().set_title(column)\n",
    "        df.boxplot([column])"
   ]
  },
  {
   "cell_type": "code",
   "execution_count": 6,
   "id": "48cebd42-9ba1-48cb-800c-a5adbf8bad80",
   "metadata": {
    "tags": []
   },
   "outputs": [
    {
     "data": {
      "text/plain": [
       "False    10000\n",
       "Name: count, dtype: int64"
      ]
     },
     "execution_count": 6,
     "metadata": {},
     "output_type": "execute_result"
    }
   ],
   "source": [
    "#  Boolean check to see if there are any duplicated rows in the data set\n",
    "df.duplicated().value_counts()"
   ]
  },
  {
   "cell_type": "code",
   "execution_count": 7,
   "id": "2d8b7cdc-a536-451c-9ec1-8f48fb20442d",
   "metadata": {
    "tags": []
   },
   "outputs": [
    {
     "data": {
      "text/plain": [
       "CaseOrder\n",
       "False    10000\n",
       "Name: count, dtype: int64"
      ]
     },
     "execution_count": 7,
     "metadata": {},
     "output_type": "execute_result"
    }
   ],
   "source": [
    "df.CaseOrder.duplicated().value_counts()\n",
    "# 2 CaseOrder duplicate verification"
   ]
  },
  {
   "cell_type": "code",
   "execution_count": 8,
   "id": "6687b1e5-292d-47c0-8ee8-da7bb3bf163e",
   "metadata": {
    "tags": []
   },
   "outputs": [
    {
     "data": {
      "text/plain": [
       "Customer_id\n",
       "False    10000\n",
       "Name: count, dtype: int64"
      ]
     },
     "execution_count": 8,
     "metadata": {},
     "output_type": "execute_result"
    }
   ],
   "source": [
    "df.Customer_id.duplicated().value_counts()\n",
    "# 3 Customer_id duplicate verification"
   ]
  },
  {
   "cell_type": "code",
   "execution_count": 9,
   "id": "742119c9-b96f-4f41-9074-f8e851c1191c",
   "metadata": {
    "tags": []
   },
   "outputs": [
    {
     "data": {
      "text/plain": [
       "Interaction\n",
       "False    10000\n",
       "Name: count, dtype: int64"
      ]
     },
     "execution_count": 9,
     "metadata": {},
     "output_type": "execute_result"
    }
   ],
   "source": [
    "df.Interaction.duplicated().value_counts()\n",
    "# 4 Interaction duplicate verification"
   ]
  },
  {
   "cell_type": "code",
   "execution_count": 10,
   "id": "3b19ac50-5551-4a49-86e7-b12287e5de3a",
   "metadata": {
    "tags": []
   },
   "outputs": [
    {
     "data": {
      "text/plain": [
       "UID\n",
       "False    10000\n",
       "Name: count, dtype: int64"
      ]
     },
     "execution_count": 10,
     "metadata": {},
     "output_type": "execute_result"
    }
   ],
   "source": [
    "df.UID.duplicated().value_counts()\n",
    "# 5 UID duplicate verification"
   ]
  },
  {
   "cell_type": "code",
   "execution_count": 11,
   "id": "32c81ba5-d206-4188-b36e-07015b1c24dc",
   "metadata": {
    "tags": []
   },
   "outputs": [
    {
     "data": {
      "text/plain": [
       "City\n",
       "Houston             36\n",
       "San Antonio         26\n",
       "Springfield         22\n",
       "New York            21\n",
       "Miami               21\n",
       "                    ..\n",
       "Coyote               1\n",
       "Tiline               1\n",
       "Monon                1\n",
       "Sullivans Island     1\n",
       "Coraopolis           1\n",
       "Name: count, Length: 6072, dtype: int64"
      ]
     },
     "execution_count": 11,
     "metadata": {},
     "output_type": "execute_result"
    }
   ],
   "source": [
    "df.City.value_counts()\n",
    "# 6 City checking values"
   ]
  },
  {
   "cell_type": "code",
   "execution_count": 12,
   "id": "2258a5e4-afed-44d3-978e-1e0c8c2ff36e",
   "metadata": {
    "tags": []
   },
   "outputs": [
    {
     "data": {
      "text/plain": [
       "State\n",
       "TX    553\n",
       "CA    550\n",
       "PA    547\n",
       "NY    514\n",
       "IL    442\n",
       "OH    383\n",
       "MO    328\n",
       "FL    304\n",
       "VA    287\n",
       "IA    276\n",
       "MI    273\n",
       "MN    267\n",
       "NC    254\n",
       "GA    247\n",
       "KS    220\n",
       "WI    214\n",
       "KY    210\n",
       "OK    207\n",
       "WV    207\n",
       "IN    195\n",
       "AL    194\n",
       "TN    194\n",
       "WA    191\n",
       "AR    190\n",
       "NE    185\n",
       "CO    179\n",
       "NJ    176\n",
       "LA    173\n",
       "MA    149\n",
       "MS    134\n",
       "MD    131\n",
       "SC    128\n",
       "SD    123\n",
       "ME    122\n",
       "OR    122\n",
       "MT    112\n",
       "NM    110\n",
       "ID    109\n",
       "ND    108\n",
       "AZ    108\n",
       "CT     80\n",
       "NH     79\n",
       "UT     72\n",
       "AK     70\n",
       "VT     60\n",
       "NV     51\n",
       "WY     51\n",
       "PR     43\n",
       "HI     34\n",
       "DE     17\n",
       "RI     14\n",
       "DC     13\n",
       "Name: count, dtype: int64"
      ]
     },
     "execution_count": 12,
     "metadata": {},
     "output_type": "execute_result"
    }
   ],
   "source": [
    "df.State.value_counts()\n",
    "# 7 State checking values"
   ]
  },
  {
   "cell_type": "code",
   "execution_count": 13,
   "id": "5a4ef98f-9d45-4b39-bfe1-9d2dcd8b1164",
   "metadata": {
    "tags": []
   },
   "outputs": [
    {
     "data": {
      "text/plain": [
       "County\n",
       "Jefferson      118\n",
       "Washington     100\n",
       "Franklin        93\n",
       "Los Angeles     88\n",
       "Montgomery      80\n",
       "              ... \n",
       "Jenkins          1\n",
       "Sully            1\n",
       "Panola           1\n",
       "Kandiyohi        1\n",
       "Sterling         1\n",
       "Name: count, Length: 1607, dtype: int64"
      ]
     },
     "execution_count": 13,
     "metadata": {},
     "output_type": "execute_result"
    }
   ],
   "source": [
    "df.County.value_counts()\n",
    "# 8 County checking values"
   ]
  },
  {
   "cell_type": "code",
   "execution_count": 14,
   "id": "be1777aa-34d5-40cc-b520-e36cde220463",
   "metadata": {
    "tags": []
   },
   "outputs": [
    {
     "data": {
      "text/plain": [
       "count    10000.000000\n",
       "mean     50159.323900\n",
       "std      27469.588208\n",
       "min        610.000000\n",
       "25%      27592.000000\n",
       "50%      50207.000000\n",
       "75%      72411.750000\n",
       "max      99929.000000\n",
       "Name: Zip, dtype: float64"
      ]
     },
     "execution_count": 14,
     "metadata": {},
     "output_type": "execute_result"
    }
   ],
   "source": [
    "df.Zip.describe()\n",
    "# 9 Zip checking for invalid zips, data type mismatch"
   ]
  },
  {
   "cell_type": "code",
   "execution_count": 15,
   "id": "d11132f2-5e33-4721-8c7f-4b05f91adf04",
   "metadata": {
    "tags": []
   },
   "outputs": [
    {
     "data": {
      "text/plain": [
       "count    10000.000000\n",
       "mean        38.751099\n",
       "std          5.403085\n",
       "min         17.967190\n",
       "25%         35.255120\n",
       "50%         39.419355\n",
       "75%         42.044175\n",
       "max         70.560990\n",
       "Name: Lat, dtype: float64"
      ]
     },
     "execution_count": 15,
     "metadata": {},
     "output_type": "execute_result"
    }
   ],
   "source": [
    "df.Lat.describe()\n",
    "# 10 Lat checking to ensure latitude is within the range of 0-90"
   ]
  },
  {
   "cell_type": "code",
   "execution_count": 16,
   "id": "cd6dc26e-29a2-4c76-b281-3b67bca8c0d0",
   "metadata": {
    "tags": []
   },
   "outputs": [
    {
     "data": {
      "text/plain": [
       "count    10000.000000\n",
       "mean       -91.243080\n",
       "std         15.205998\n",
       "min       -174.209690\n",
       "25%        -97.352982\n",
       "50%        -88.397230\n",
       "75%        -80.438050\n",
       "max        -65.290170\n",
       "Name: Lng, dtype: float64"
      ]
     },
     "execution_count": 16,
     "metadata": {},
     "output_type": "execute_result"
    }
   ],
   "source": [
    "df.Lng.describe()\n",
    "# 11 Lng checking to ensure longitude is within the range of -180 - 180"
   ]
  },
  {
   "cell_type": "code",
   "execution_count": 17,
   "id": "025f84af-9545-4b32-9042-6faa13983511",
   "metadata": {
    "tags": []
   },
   "outputs": [
    {
     "data": {
      "text/plain": [
       "count     10000.000000\n",
       "mean       9965.253800\n",
       "std       14824.758614\n",
       "min           0.000000\n",
       "25%         694.750000\n",
       "50%        2769.000000\n",
       "75%       13945.000000\n",
       "max      122814.000000\n",
       "Name: Population, dtype: float64"
      ]
     },
     "execution_count": 17,
     "metadata": {},
     "output_type": "execute_result"
    }
   ],
   "source": [
    "df.Population.describe()\n",
    "# 12 Population checking values and outliers"
   ]
  },
  {
   "cell_type": "code",
   "execution_count": 18,
   "id": "5bb841e7-b6c6-4501-9c33-3bca2f64d4a2",
   "metadata": {
    "tags": []
   },
   "outputs": [
    {
     "data": {
      "text/plain": [
       "Area\n",
       "Rural       3369\n",
       "Suburban    3328\n",
       "Urban       3303\n",
       "Name: count, dtype: int64"
      ]
     },
     "execution_count": 18,
     "metadata": {},
     "output_type": "execute_result"
    }
   ],
   "source": [
    "df.Area.value_counts()\n",
    "# 13 Area checking values, data dictionary mismatch"
   ]
  },
  {
   "cell_type": "code",
   "execution_count": 19,
   "id": "5ce92252-8b96-450d-a958-eb1acd7b2950",
   "metadata": {
    "tags": []
   },
   "outputs": [
    {
     "data": {
      "text/plain": [
       "Timezone\n",
       "America/New_York                  3889\n",
       "America/Chicago                   3771\n",
       "America/Los_Angeles                937\n",
       "America/Denver                     612\n",
       "America/Detroit                    262\n",
       "America/Indiana/Indianapolis       151\n",
       "America/Phoenix                    100\n",
       "America/Boise                       86\n",
       "America/Anchorage                   50\n",
       "America/Puerto_Rico                 43\n",
       "Pacific/Honolulu                    34\n",
       "America/Menominee                   14\n",
       "America/Nome                        12\n",
       "America/Indiana/Vincennes            8\n",
       "America/Kentucky/Louisville          6\n",
       "America/Sitka                        6\n",
       "America/Toronto                      5\n",
       "America/Indiana/Marengo              3\n",
       "America/Indiana/Tell_City            3\n",
       "America/North_Dakota/Beulah          2\n",
       "America/Yakutat                      1\n",
       "America/Indiana/Winamac              1\n",
       "America/Indiana/Knox                 1\n",
       "America/North_Dakota/New_Salem       1\n",
       "America/Indiana/Vevay                1\n",
       "America/Adak                         1\n",
       "Name: count, dtype: int64"
      ]
     },
     "execution_count": 19,
     "metadata": {},
     "output_type": "execute_result"
    }
   ],
   "source": [
    "df.Timezone.value_counts()\n",
    "# 14 TimeZone  checking values, named TimeZone in data dictionary"
   ]
  },
  {
   "cell_type": "code",
   "execution_count": 20,
   "id": "858629f1-82ff-45a7-a602-43112c47c989",
   "metadata": {
    "tags": []
   },
   "outputs": [
    {
     "data": {
      "text/plain": [
       "Job\n",
       "Outdoor activities/education manager     29\n",
       "Exhibition designer                      27\n",
       "Theatre director                         27\n",
       "Scientist, audiological                  26\n",
       "Toxicologist                             25\n",
       "                                         ..\n",
       "Government social research officer        6\n",
       "Phytotherapist                            6\n",
       "Engineer, control and instrumentation     6\n",
       "Public relations account executive        6\n",
       "Licensed conveyancer                      6\n",
       "Name: count, Length: 639, dtype: int64"
      ]
     },
     "execution_count": 20,
     "metadata": {},
     "output_type": "execute_result"
    }
   ],
   "source": [
    "df.Job.value_counts()\n",
    "# 15 Job checking values"
   ]
  },
  {
   "cell_type": "code",
   "execution_count": 21,
   "id": "226bc515-caf2-462a-9ccd-71a4cd7428af",
   "metadata": {
    "tags": []
   },
   "outputs": [
    {
     "data": {
      "text/plain": [
       "Children\n",
       "0.0     1880\n",
       "1.0     1858\n",
       "3.0     1113\n",
       "2.0     1094\n",
       "4.0      739\n",
       "8.0      157\n",
       "7.0      154\n",
       "6.0      145\n",
       "5.0      126\n",
       "9.0       83\n",
       "10.0      63\n",
       "Name: count, dtype: int64"
      ]
     },
     "execution_count": 21,
     "metadata": {},
     "output_type": "execute_result"
    }
   ],
   "source": [
    "df.Children.value_counts()\n",
    "# 16 Children checking for missing values, data type mismatch, and outliers"
   ]
  },
  {
   "cell_type": "code",
   "execution_count": 22,
   "id": "b7cf0a9f-b1e3-40f6-99bc-0d8820ba6203",
   "metadata": {
    "tags": []
   },
   "outputs": [
    {
     "data": {
      "text/plain": [
       "Age\n",
       "30.0    126\n",
       "47.0    124\n",
       "74.0    123\n",
       "38.0    123\n",
       "40.0    122\n",
       "       ... \n",
       "75.0     90\n",
       "82.0     90\n",
       "63.0     90\n",
       "51.0     89\n",
       "36.0     85\n",
       "Name: count, Length: 72, dtype: int64"
      ]
     },
     "execution_count": 22,
     "metadata": {},
     "output_type": "execute_result"
    }
   ],
   "source": [
    "df.Age.value_counts()\n",
    "# 17 Age checking values, outliers"
   ]
  },
  {
   "cell_type": "code",
   "execution_count": 23,
   "id": "025fa527-0f8b-4c54-b649-b51d09952098",
   "metadata": {
    "tags": []
   },
   "outputs": [
    {
     "data": {
      "text/plain": [
       "Education\n",
       "Regular High School Diploma                 2444\n",
       "Bachelor's Degree                           1724\n",
       "Some College, 1 or More Years, No Degree    1484\n",
       "9th Grade to 12th Grade, No Diploma          832\n",
       "Associate's Degree                           797\n",
       "Master's Degree                              701\n",
       "Some College, Less than 1 Year               642\n",
       "Nursery School to 8th Grade                  552\n",
       "GED or Alternative Credential                389\n",
       "Professional School Degree                   208\n",
       "No Schooling Completed                       133\n",
       "Doctorate Degree                              94\n",
       "Name: count, dtype: int64"
      ]
     },
     "execution_count": 23,
     "metadata": {},
     "output_type": "execute_result"
    }
   ],
   "source": [
    "df.Education.value_counts()\n",
    "# 18 Education checking values"
   ]
  },
  {
   "cell_type": "code",
   "execution_count": 24,
   "id": "f935bde7-9524-49ab-8b1f-a0d8a18315e5",
   "metadata": {
    "tags": []
   },
   "outputs": [
    {
     "data": {
      "text/plain": [
       "Employment\n",
       "Full Time     6029\n",
       "Student       1017\n",
       "Part Time      991\n",
       "Unemployed     983\n",
       "Retired        980\n",
       "Name: count, dtype: int64"
      ]
     },
     "execution_count": 24,
     "metadata": {},
     "output_type": "execute_result"
    }
   ],
   "source": [
    "df.Employment.value_counts()\n",
    "# 19 Employment checking values"
   ]
  },
  {
   "cell_type": "code",
   "execution_count": 25,
   "id": "e72275f6-4087-4fd5-9b45-ed30769af80b",
   "metadata": {
    "tags": []
   },
   "outputs": [
    {
     "data": {
      "text/plain": [
       "count      7536.000000\n",
       "mean      40484.438268\n",
       "std       28664.861050\n",
       "min         154.080000\n",
       "25%       19450.792500\n",
       "50%       33942.280000\n",
       "75%       54075.235000\n",
       "max      207249.130000\n",
       "Name: Income, dtype: float64"
      ]
     },
     "execution_count": 25,
     "metadata": {},
     "output_type": "execute_result"
    }
   ],
   "source": [
    "df.Income.describe()\n",
    "# 20 Income checking for missing data, outliers"
   ]
  },
  {
   "cell_type": "code",
   "execution_count": 26,
   "id": "a1c46611-7c33-49cc-8c5f-d983c78c4bf8",
   "metadata": {
    "tags": []
   },
   "outputs": [
    {
     "data": {
      "text/plain": [
       "Marital\n",
       "Widowed          2045\n",
       "Married          2023\n",
       "Separated        1987\n",
       "Never Married    1984\n",
       "Divorced         1961\n",
       "Name: count, dtype: int64"
      ]
     },
     "execution_count": 26,
     "metadata": {},
     "output_type": "execute_result"
    }
   ],
   "source": [
    "df.Marital.value_counts()\n",
    "# 21 Marital checking values"
   ]
  },
  {
   "cell_type": "code",
   "execution_count": 27,
   "id": "f881ed9a-c7dc-4df1-957e-3a94f65985d7",
   "metadata": {
    "tags": []
   },
   "outputs": [
    {
     "data": {
      "text/plain": [
       "Gender\n",
       "Female                  5018\n",
       "Male                    4768\n",
       "Prefer not to answer     214\n",
       "Name: count, dtype: int64"
      ]
     },
     "execution_count": 27,
     "metadata": {},
     "output_type": "execute_result"
    }
   ],
   "source": [
    "df.Gender.value_counts()\n",
    "# 22 Gender checking values, data dictionary mismatch"
   ]
  },
  {
   "cell_type": "code",
   "execution_count": 28,
   "id": "33447708-48f6-4a58-8458-d1b9cf533eb0",
   "metadata": {
    "tags": []
   },
   "outputs": [
    {
     "data": {
      "text/plain": [
       "ReAdmis\n",
       "No     6331\n",
       "Yes    3669\n",
       "Name: count, dtype: int64"
      ]
     },
     "execution_count": 28,
     "metadata": {},
     "output_type": "execute_result"
    }
   ],
   "source": [
    "df.ReAdmis.value_counts()\n",
    "# 23 ReAdmis Yes/No  checking values, data dictionary mismatch"
   ]
  },
  {
   "cell_type": "code",
   "execution_count": 29,
   "id": "d4d7e09d-0404-40c1-870b-ed5fea48e284",
   "metadata": {
    "tags": []
   },
   "outputs": [
    {
     "data": {
      "text/plain": [
       "count    10000.000000\n",
       "mean        19.412675\n",
       "std          6.723277\n",
       "min          9.519012\n",
       "25%         16.513171\n",
       "50%         18.080560\n",
       "75%         19.789740\n",
       "max         53.019124\n",
       "Name: VitD_levels, dtype: float64"
      ]
     },
     "execution_count": 29,
     "metadata": {},
     "output_type": "execute_result"
    }
   ],
   "source": [
    "df.VitD_levels.describe()\n",
    "# 24 VitD_levels checking values, outliers"
   ]
  },
  {
   "cell_type": "code",
   "execution_count": 30,
   "id": "387a97ed-c363-4b44-a457-33529a1a0464",
   "metadata": {
    "tags": []
   },
   "outputs": [
    {
     "data": {
      "text/plain": [
       "Doc_visits\n",
       "5    3823\n",
       "6    2436\n",
       "4    2385\n",
       "7     634\n",
       "3     595\n",
       "8      61\n",
       "2      58\n",
       "1       6\n",
       "9       2\n",
       "Name: count, dtype: int64"
      ]
     },
     "execution_count": 30,
     "metadata": {},
     "output_type": "execute_result"
    }
   ],
   "source": [
    "df.Doc_visits.value_counts()\n",
    "# 25 Doc_visits checking values, outliers"
   ]
  },
  {
   "cell_type": "code",
   "execution_count": 31,
   "id": "3cb83e8a-453d-47b8-bfe9-08bdfe776f0a",
   "metadata": {
    "tags": []
   },
   "outputs": [
    {
     "data": {
      "text/plain": [
       "Full_meals_eaten\n",
       "0    3715\n",
       "1    3615\n",
       "2    1856\n",
       "3     612\n",
       "4     169\n",
       "5      25\n",
       "6       6\n",
       "7       2\n",
       "Name: count, dtype: int64"
      ]
     },
     "execution_count": 31,
     "metadata": {},
     "output_type": "execute_result"
    }
   ],
   "source": [
    "df.Full_meals_eaten.value_counts()\n",
    "# 26 Full_meals_eaten checking values, outliers.  Partial meals count as 0.  More than 3 fine."
   ]
  },
  {
   "cell_type": "code",
   "execution_count": 32,
   "id": "7d87820f-240a-4246-99e6-39bec1468291",
   "metadata": {
    "tags": []
   },
   "outputs": [
    {
     "data": {
      "text/plain": [
       "VitD_supp\n",
       "0    6702\n",
       "1    2684\n",
       "2     544\n",
       "3      64\n",
       "4       5\n",
       "5       1\n",
       "Name: count, dtype: int64"
      ]
     },
     "execution_count": 32,
     "metadata": {},
     "output_type": "execute_result"
    }
   ],
   "source": [
    "df.VitD_supp.value_counts()\n",
    "# 27 VitD_supp checking values, outliers"
   ]
  },
  {
   "cell_type": "code",
   "execution_count": 33,
   "id": "d2094600-ef3a-4ae7-8177-18fc1694841c",
   "metadata": {
    "tags": []
   },
   "outputs": [
    {
     "data": {
      "text/plain": [
       "Soft_drink\n",
       "No     5589\n",
       "Yes    1944\n",
       "Name: count, dtype: int64"
      ]
     },
     "execution_count": 33,
     "metadata": {},
     "output_type": "execute_result"
    }
   ],
   "source": [
    "df.Soft_drink.value_counts()\n",
    "# 28 Soft_drink checking values, data dictionary mismatch, missing values"
   ]
  },
  {
   "cell_type": "code",
   "execution_count": 34,
   "id": "468b0124-50ca-4e80-881a-9c6255c2d23c",
   "metadata": {
    "tags": []
   },
   "outputs": [
    {
     "data": {
      "text/plain": [
       "Initial_admin\n",
       "Emergency Admission      5060\n",
       "Elective Admission       2504\n",
       "Observation Admission    2436\n",
       "Name: count, dtype: int64"
      ]
     },
     "execution_count": 34,
     "metadata": {},
     "output_type": "execute_result"
    }
   ],
   "source": [
    "df.Initial_admin.value_counts()\n",
    "# 29 Initial_admin checking values, data dictionary mismatch"
   ]
  },
  {
   "cell_type": "code",
   "execution_count": 35,
   "id": "b336f9cc-ce58-42fa-af88-1b00dd874202",
   "metadata": {
    "tags": []
   },
   "outputs": [
    {
     "data": {
      "text/plain": [
       "HighBlood\n",
       "No     5910\n",
       "Yes    4090\n",
       "Name: count, dtype: int64"
      ]
     },
     "execution_count": 35,
     "metadata": {},
     "output_type": "execute_result"
    }
   ],
   "source": [
    "df.HighBlood.value_counts()\n",
    "# 30 HighBlood checking values, data dictionary mismatch"
   ]
  },
  {
   "cell_type": "code",
   "execution_count": 36,
   "id": "b7ec26ee-5b77-4011-acd8-cc53eaef2555",
   "metadata": {
    "tags": []
   },
   "outputs": [
    {
     "data": {
      "text/plain": [
       "Stroke\n",
       "No     8007\n",
       "Yes    1993\n",
       "Name: count, dtype: int64"
      ]
     },
     "execution_count": 36,
     "metadata": {},
     "output_type": "execute_result"
    }
   ],
   "source": [
    "df.Stroke.value_counts()\n",
    "# 31 Stroke checking values, data dictionary mismatch"
   ]
  },
  {
   "cell_type": "code",
   "execution_count": 37,
   "id": "2602d1c3-49aa-4e6e-8afa-434ffb1ddaf1",
   "metadata": {
    "tags": []
   },
   "outputs": [
    {
     "data": {
      "text/plain": [
       "Complication_risk\n",
       "Medium    4517\n",
       "High      3358\n",
       "Low       2125\n",
       "Name: count, dtype: int64"
      ]
     },
     "execution_count": 37,
     "metadata": {},
     "output_type": "execute_result"
    }
   ],
   "source": [
    "df.Complication_risk.value_counts()\n",
    "# 32 Complication_risk checking values, data dictionary mismatch"
   ]
  },
  {
   "cell_type": "code",
   "execution_count": 38,
   "id": "97738ee9-864d-4ae5-a362-e633946bd79f",
   "metadata": {
    "tags": []
   },
   "outputs": [
    {
     "data": {
      "text/plain": [
       "Overweight\n",
       "1.0    6395\n",
       "0.0    2623\n",
       "Name: count, dtype: int64"
      ]
     },
     "execution_count": 38,
     "metadata": {},
     "output_type": "execute_result"
    }
   ],
   "source": [
    "df.Overweight.value_counts()\n",
    "# 33 Overweight checking values, data type mismatch, missing values, data dictionary mismatch"
   ]
  },
  {
   "cell_type": "code",
   "execution_count": 39,
   "id": "8507e2db-9a42-4087-9561-24e8117c385b",
   "metadata": {
    "tags": []
   },
   "outputs": [
    {
     "data": {
      "text/plain": [
       "Arthritis\n",
       "No     6426\n",
       "Yes    3574\n",
       "Name: count, dtype: int64"
      ]
     },
     "execution_count": 39,
     "metadata": {},
     "output_type": "execute_result"
    }
   ],
   "source": [
    "df.Arthritis.value_counts()\n",
    "# 34 Arthritis checking values, data dictionary mismatch"
   ]
  },
  {
   "cell_type": "code",
   "execution_count": 40,
   "id": "f7974c1e-471e-4130-b751-1025174ab9f9",
   "metadata": {
    "tags": []
   },
   "outputs": [
    {
     "data": {
      "text/plain": [
       "Diabetes\n",
       "No     7262\n",
       "Yes    2738\n",
       "Name: count, dtype: int64"
      ]
     },
     "execution_count": 40,
     "metadata": {},
     "output_type": "execute_result"
    }
   ],
   "source": [
    "df.Diabetes.value_counts()\n",
    "# 35 Diabetes checking values, data dictionary mismatch"
   ]
  },
  {
   "cell_type": "code",
   "execution_count": 41,
   "id": "294f1509-b889-4419-9841-6c2b5c8c38e3",
   "metadata": {
    "tags": []
   },
   "outputs": [
    {
     "data": {
      "text/plain": [
       "Hyperlipidemia\n",
       "No     6628\n",
       "Yes    3372\n",
       "Name: count, dtype: int64"
      ]
     },
     "execution_count": 41,
     "metadata": {},
     "output_type": "execute_result"
    }
   ],
   "source": [
    "df.Hyperlipidemia.value_counts()\n",
    "# 36 Hyperlipidemia checking values, data dictionary mismatch"
   ]
  },
  {
   "cell_type": "code",
   "execution_count": 42,
   "id": "a5c810bd-ca7c-4f2d-a007-2b8bc53776fd",
   "metadata": {
    "tags": []
   },
   "outputs": [
    {
     "data": {
      "text/plain": [
       "BackPain\n",
       "No     5886\n",
       "Yes    4114\n",
       "Name: count, dtype: int64"
      ]
     },
     "execution_count": 42,
     "metadata": {},
     "output_type": "execute_result"
    }
   ],
   "source": [
    "df.BackPain.value_counts()\n",
    "# 37 BackPain checking values, data dictionary mismatch"
   ]
  },
  {
   "cell_type": "code",
   "execution_count": 43,
   "id": "fe32a759-3d99-47e7-9771-01dc905295ca",
   "metadata": {
    "tags": []
   },
   "outputs": [
    {
     "data": {
      "text/plain": [
       "Anxiety\n",
       "0.0    6110\n",
       "1.0    2906\n",
       "Name: count, dtype: int64"
      ]
     },
     "execution_count": 43,
     "metadata": {},
     "output_type": "execute_result"
    }
   ],
   "source": [
    "df.Anxiety.value_counts()\n",
    "# 38 Anxiety checking values, data type mismatch, missing values, data dictionary mismatch"
   ]
  },
  {
   "cell_type": "code",
   "execution_count": 44,
   "id": "a2075076-28ba-48b7-9df7-92486826fade",
   "metadata": {
    "tags": []
   },
   "outputs": [
    {
     "data": {
      "text/plain": [
       "Allergic_rhinitis\n",
       "No     6059\n",
       "Yes    3941\n",
       "Name: count, dtype: int64"
      ]
     },
     "execution_count": 44,
     "metadata": {},
     "output_type": "execute_result"
    }
   ],
   "source": [
    "df.Allergic_rhinitis.value_counts()\n",
    "# 39 Allergic_rhinitis checking values, data dictionary mismatch"
   ]
  },
  {
   "cell_type": "code",
   "execution_count": 45,
   "id": "6ced08ae-0dea-4914-9674-0b2ec7bfca4d",
   "metadata": {
    "tags": []
   },
   "outputs": [
    {
     "data": {
      "text/plain": [
       "Reflux_esophagitis\n",
       "No     5865\n",
       "Yes    4135\n",
       "Name: count, dtype: int64"
      ]
     },
     "execution_count": 45,
     "metadata": {},
     "output_type": "execute_result"
    }
   ],
   "source": [
    "df.Reflux_esophagitis.value_counts()\n",
    "# 40 Reflux_esophagitis checking values, data dictionary mismatch"
   ]
  },
  {
   "cell_type": "code",
   "execution_count": 46,
   "id": "e5b3dc32-a820-49e2-bb45-18ef4dbbbe78",
   "metadata": {
    "tags": []
   },
   "outputs": [
    {
     "data": {
      "text/plain": [
       "Asthma\n",
       "No     7107\n",
       "Yes    2893\n",
       "Name: count, dtype: int64"
      ]
     },
     "execution_count": 46,
     "metadata": {},
     "output_type": "execute_result"
    }
   ],
   "source": [
    "df.Asthma.value_counts()\n",
    "# 41 Asthma checking values, data dictionary mismatch"
   ]
  },
  {
   "cell_type": "code",
   "execution_count": 47,
   "id": "2e3dfe94-aee5-414a-839a-0efaf615a67e",
   "metadata": {
    "tags": []
   },
   "outputs": [
    {
     "data": {
      "text/plain": [
       "Services\n",
       "Blood Work     5265\n",
       "Intravenous    3130\n",
       "CT Scan        1225\n",
       "MRI             380\n",
       "Name: count, dtype: int64"
      ]
     },
     "execution_count": 47,
     "metadata": {},
     "output_type": "execute_result"
    }
   ],
   "source": [
    "df.Services.value_counts()\n",
    "# 42 Services checking values, data dictionary mismatch"
   ]
  },
  {
   "cell_type": "code",
   "execution_count": 48,
   "id": "cb374317-d3ae-436e-a87b-82f79a3ffbc2",
   "metadata": {
    "tags": []
   },
   "outputs": [
    {
     "data": {
      "text/plain": [
       "count    8944.000000\n",
       "mean       34.432082\n",
       "std        26.287050\n",
       "min         1.001981\n",
       "25%         7.911709\n",
       "50%        34.446941\n",
       "75%        61.124654\n",
       "max        71.981486\n",
       "Name: Initial_days, dtype: float64"
      ]
     },
     "execution_count": 48,
     "metadata": {},
     "output_type": "execute_result"
    }
   ],
   "source": [
    "df.Initial_days.describe()\n",
    "# 43 Initial_days checking values, missing data, outliers"
   ]
  },
  {
   "cell_type": "code",
   "execution_count": 49,
   "id": "f8bc0810-2ad7-404d-ab39-c025bc3d5cb9",
   "metadata": {
    "tags": []
   },
   "outputs": [
    {
     "data": {
      "text/plain": [
       "count    10000.000000\n",
       "mean      5891.538261\n",
       "std       3377.558136\n",
       "min       1256.751699\n",
       "25%       3253.239465\n",
       "50%       5852.250564\n",
       "75%       7614.989701\n",
       "max      21524.224210\n",
       "Name: TotalCharge, dtype: float64"
      ]
     },
     "execution_count": 49,
     "metadata": {},
     "output_type": "execute_result"
    }
   ],
   "source": [
    "df.TotalCharge.describe()\n",
    "# 44 TotalCharge checking values, outliers"
   ]
  },
  {
   "cell_type": "code",
   "execution_count": 50,
   "id": "02557569-e866-4e4d-b99d-119d29c68eb5",
   "metadata": {
    "tags": []
   },
   "outputs": [
    {
     "data": {
      "text/plain": [
       "count    10000.000000\n",
       "mean     12934.528586\n",
       "std       6542.601544\n",
       "min       3125.702716\n",
       "25%       7986.487642\n",
       "50%      11573.979365\n",
       "75%      15626.491033\n",
       "max      30566.073130\n",
       "Name: Additional_charges, dtype: float64"
      ]
     },
     "execution_count": 50,
     "metadata": {},
     "output_type": "execute_result"
    }
   ],
   "source": [
    "df.Additional_charges.describe()\n",
    "# 45 Additional_charges checking values, outliers"
   ]
  },
  {
   "cell_type": "code",
   "execution_count": 51,
   "id": "4eaaba9a-23da-476c-bc2f-979cd7b812f4",
   "metadata": {
    "tags": []
   },
   "outputs": [
    {
     "data": {
      "text/plain": [
       "Item1\n",
       "4    3455\n",
       "3    3404\n",
       "5    1377\n",
       "2    1315\n",
       "6     225\n",
       "1     213\n",
       "7      10\n",
       "8       1\n",
       "Name: count, dtype: int64"
      ]
     },
     "execution_count": 51,
     "metadata": {},
     "output_type": "execute_result"
    }
   ],
   "source": [
    "df.Item1.value_counts()\n",
    "# 46 Item1 Timely admission, range 1-8"
   ]
  },
  {
   "cell_type": "code",
   "execution_count": 52,
   "id": "24110baa-3b35-4494-9944-d5837336b743",
   "metadata": {
    "tags": []
   },
   "outputs": [
    {
     "data": {
      "text/plain": [
       "Item2\n",
       "3    3439\n",
       "4    3351\n",
       "5    1421\n",
       "2    1360\n",
       "1     213\n",
       "6     204\n",
       "7      12\n",
       "Name: count, dtype: int64"
      ]
     },
     "execution_count": 52,
     "metadata": {},
     "output_type": "execute_result"
    }
   ],
   "source": [
    "df.Item2.value_counts()\n",
    "# 47 Item2 Timely treatment, range 1-8"
   ]
  },
  {
   "cell_type": "code",
   "execution_count": 53,
   "id": "1abf1bfc-b14f-442b-b0bb-7d470146f206",
   "metadata": {
    "tags": []
   },
   "outputs": [
    {
     "data": {
      "text/plain": [
       "Item3\n",
       "4    3464\n",
       "3    3379\n",
       "5    1358\n",
       "2    1356\n",
       "6     220\n",
       "1     211\n",
       "7      11\n",
       "8       1\n",
       "Name: count, dtype: int64"
      ]
     },
     "execution_count": 53,
     "metadata": {},
     "output_type": "execute_result"
    }
   ],
   "source": [
    "df.Item3.value_counts()\n",
    "# 48 Item3 Timely visits, range 1-8"
   ]
  },
  {
   "cell_type": "code",
   "execution_count": 54,
   "id": "11f2ad7e-b5c5-470b-94bd-644ad17c150b",
   "metadata": {
    "tags": []
   },
   "outputs": [
    {
     "data": {
      "text/plain": [
       "Item4\n",
       "3    3422\n",
       "4    3394\n",
       "5    1388\n",
       "2    1346\n",
       "6     231\n",
       "1     207\n",
       "7      12\n",
       "Name: count, dtype: int64"
      ]
     },
     "execution_count": 54,
     "metadata": {},
     "output_type": "execute_result"
    }
   ],
   "source": [
    "df.Item4.value_counts()\n",
    "# 49 Item4 Reliability 1-8, range 1-8"
   ]
  },
  {
   "cell_type": "code",
   "execution_count": 55,
   "id": "43723aec-5735-462c-9f16-941587218ba9",
   "metadata": {
    "tags": []
   },
   "outputs": [
    {
     "data": {
      "text/plain": [
       "Item5\n",
       "4    3446\n",
       "3    3423\n",
       "2    1380\n",
       "5    1308\n",
       "6     219\n",
       "1     211\n",
       "7      13\n",
       "Name: count, dtype: int64"
      ]
     },
     "execution_count": 55,
     "metadata": {},
     "output_type": "execute_result"
    }
   ],
   "source": [
    "df.Item5.value_counts()\n",
    "# 50 Item5 Options 1-8, range 1-8"
   ]
  },
  {
   "cell_type": "code",
   "execution_count": 56,
   "id": "cbc04681-386e-45d8-aa62-7646276b1917",
   "metadata": {
    "tags": []
   },
   "outputs": [
    {
     "data": {
      "text/plain": [
       "Item6\n",
       "4    3464\n",
       "3    3371\n",
       "5    1403\n",
       "2    1319\n",
       "6     220\n",
       "1     213\n",
       "7      10\n",
       "Name: count, dtype: int64"
      ]
     },
     "execution_count": 56,
     "metadata": {},
     "output_type": "execute_result"
    }
   ],
   "source": [
    "df.Item6.value_counts()\n",
    "# 51 Item6 Hours of treatment, range 1-8"
   ]
  },
  {
   "cell_type": "code",
   "execution_count": 57,
   "id": "3771c0f4-d52a-4924-964f-d1b5e44017d6",
   "metadata": {
    "tags": []
   },
   "outputs": [
    {
     "data": {
      "text/plain": [
       "Item7\n",
       "4    3487\n",
       "3    3456\n",
       "2    1345\n",
       "5    1274\n",
       "1     215\n",
       "6     212\n",
       "7      11\n",
       "Name: count, dtype: int64"
      ]
     },
     "execution_count": 57,
     "metadata": {},
     "output_type": "execute_result"
    }
   ],
   "source": [
    "df.Item7.value_counts()\n",
    "# 52 Item7 Courteous staff, range 1-8"
   ]
  },
  {
   "cell_type": "code",
   "execution_count": 58,
   "id": "47b19bc6-4fbf-48cb-9a5e-8cb99145056e",
   "metadata": {
    "tags": []
   },
   "outputs": [
    {
     "data": {
      "text/plain": [
       "Item8\n",
       "3    3401\n",
       "4    3337\n",
       "5    1429\n",
       "2    1391\n",
       "6     221\n",
       "1     209\n",
       "7      12\n",
       "Name: count, dtype: int64"
      ]
     },
     "execution_count": 58,
     "metadata": {},
     "output_type": "execute_result"
    }
   ],
   "source": [
    "df.Item8.value_counts()\n",
    "# 53 Item8 Evidence of active listening from doctor, range 1-8"
   ]
  },
  {
   "cell_type": "code",
   "execution_count": 59,
   "id": "3cc7edb3-2503-41f4-937c-1f3e4ba9b829",
   "metadata": {},
   "outputs": [],
   "source": [
    "# Going back and checking individual possible outliers more in depth\n",
    "# Method used is the same for each variable"
   ]
  },
  {
   "cell_type": "code",
   "execution_count": 60,
   "id": "6d11380d-9608-4b97-88a1-8583875f402e",
   "metadata": {
    "tags": []
   },
   "outputs": [
    {
     "data": {
      "text/plain": [
       "count    10000.000000\n",
       "mean        38.751099\n",
       "std          5.403085\n",
       "min         17.967190\n",
       "25%         35.255120\n",
       "50%         39.419355\n",
       "75%         42.044175\n",
       "max         70.560990\n",
       "Name: Lat, dtype: float64"
      ]
     },
     "execution_count": 60,
     "metadata": {},
     "output_type": "execute_result"
    }
   ],
   "source": [
    "# Initial check of values and count.  Quick access to mean and std for zscore functino.\n",
    "df.Lat.describe()"
   ]
  },
  {
   "cell_type": "code",
   "execution_count": 61,
   "id": "103b2a52-0dd7-44c4-b40e-1b859cb5be33",
   "metadata": {
    "tags": []
   },
   "outputs": [],
   "source": [
    "df['Lat_zscore'] = statistics.NormalDist(mu=38.751099, sigma=5.403085).zscore(df.Lat)"
   ]
  },
  {
   "cell_type": "code",
   "execution_count": 62,
   "id": "f644583e-7f18-4fd9-bbc0-6c53cd079eaa",
   "metadata": {
    "tags": []
   },
   "outputs": [
    {
     "data": {
      "image/png": "[encoded data removed]",
      "text/plain": [
       "<Figure size 640x480 with 1 Axes>"
      ]
     },
     "metadata": {},
     "output_type": "display_data"
    },
    {
     "data": {
      "image/png": "[encoded data removed]",
      "text/plain": [
       "<Figure size 640x480 with 1 Axes>"
      ]
     },
     "metadata": {},
     "output_type": "display_data"
    }
   ],
   "source": [
    "plt.hist(df['Lat_zscore'])\n",
    "plt.show()\n",
    "\n",
    "seaborn.boxplot(data=df.Lat_zscore.values, width=0.3, fliersize=2, whis=1.5);"
   ]
  },
  {
   "cell_type": "code",
   "execution_count": 63,
   "id": "abc2ad89-e6f9-4273-9880-8aa368f976f9",
   "metadata": {
    "tags": []
   },
   "outputs": [
    {
     "name": "stdout",
     "output_type": "stream",
     "text": [
      "<class 'pandas.core.frame.DataFrame'>\n",
      "Index: 144 entries, 66 to 9907\n",
      "Data columns (total 53 columns):\n",
      " #   Column              Non-Null Count  Dtype  \n",
      "---  ------              --------------  -----  \n",
      " 0   CaseOrder           144 non-null    int64  \n",
      " 1   Customer_id         144 non-null    object \n",
      " 2   Interaction         144 non-null    object \n",
      " 3   UID                 144 non-null    object \n",
      " 4   City                144 non-null    object \n",
      " 5   State               144 non-null    object \n",
      " 6   County              144 non-null    object \n",
      " 7   Zip                 144 non-null    int64  \n",
      " 8   Lat                 144 non-null    float64\n",
      " 9   Lng                 144 non-null    float64\n",
      " 10  Population          144 non-null    int64  \n",
      " 11  Area                144 non-null    object \n",
      " 12  Timezone            144 non-null    object \n",
      " 13  Job                 144 non-null    object \n",
      " 14  Children            106 non-null    float64\n",
      " 15  Age                 109 non-null    float64\n",
      " 16  Education           144 non-null    object \n",
      " 17  Employment          144 non-null    object \n",
      " 18  Income              110 non-null    float64\n",
      " 19  Marital             144 non-null    object \n",
      " 20  Gender              144 non-null    object \n",
      " 21  ReAdmis             144 non-null    object \n",
      " 22  VitD_levels         144 non-null    float64\n",
      " 23  Doc_visits          144 non-null    int64  \n",
      " 24  Full_meals_eaten    144 non-null    int64  \n",
      " 25  VitD_supp           144 non-null    int64  \n",
      " 26  Soft_drink          110 non-null    object \n",
      " 27  Initial_admin       144 non-null    object \n",
      " 28  HighBlood           144 non-null    object \n",
      " 29  Stroke              144 non-null    object \n",
      " 30  Complication_risk   144 non-null    object \n",
      " 31  Overweight          125 non-null    float64\n",
      " 32  Arthritis           144 non-null    object \n",
      " 33  Diabetes            144 non-null    object \n",
      " 34  Hyperlipidemia      144 non-null    object \n",
      " 35  BackPain            144 non-null    object \n",
      " 36  Anxiety             126 non-null    float64\n",
      " 37  Allergic_rhinitis   144 non-null    object \n",
      " 38  Reflux_esophagitis  144 non-null    object \n",
      " 39  Asthma              144 non-null    object \n",
      " 40  Services            144 non-null    object \n",
      " 41  Initial_days        128 non-null    float64\n",
      " 42  TotalCharge         144 non-null    float64\n",
      " 43  Additional_charges  144 non-null    float64\n",
      " 44  Item1               144 non-null    int64  \n",
      " 45  Item2               144 non-null    int64  \n",
      " 46  Item3               144 non-null    int64  \n",
      " 47  Item4               144 non-null    int64  \n",
      " 48  Item5               144 non-null    int64  \n",
      " 49  Item6               144 non-null    int64  \n",
      " 50  Item7               144 non-null    int64  \n",
      " 51  Item8               144 non-null    int64  \n",
      " 52  Lat_zscore          144 non-null    float64\n",
      "dtypes: float64(12), int64(14), object(27)\n",
      "memory usage: 60.8+ KB\n"
     ]
    }
   ],
   "source": [
    "Lat_query = df.query('Lat_zscore > 3 | Lat_zscore < -3')\n",
    "Lat_query.info()\n",
    "# 144 entries"
   ]
  },
  {
   "cell_type": "code",
   "execution_count": 64,
   "id": "43f1db7a-3f0a-42b8-96da-d40315a9fd4f",
   "metadata": {
    "tags": []
   },
   "outputs": [
    {
     "data": {
      "text/plain": [
       "count    144.000000\n",
       "mean      39.345954\n",
       "std       21.618430\n",
       "min       17.967190\n",
       "25%       18.420545\n",
       "50%       21.551090\n",
       "75%       61.381990\n",
       "max       70.560990\n",
       "Name: Lat, dtype: float64"
      ]
     },
     "execution_count": 64,
     "metadata": {},
     "output_type": "execute_result"
    }
   ],
   "source": [
    "# Looking at values for the 144 outliers\n",
    "Lat_query.Lat.describe()"
   ]
  },
  {
   "cell_type": "code",
   "execution_count": 65,
   "id": "6998046a-39cf-415d-ba17-87cb15dc585a",
   "metadata": {
    "tags": []
   },
   "outputs": [
    {
     "data": {
      "text/plain": [
       "count    10000.000000\n",
       "mean       -91.243080\n",
       "std         15.205998\n",
       "min       -174.209690\n",
       "25%        -97.352982\n",
       "50%        -88.397230\n",
       "75%        -80.438050\n",
       "max        -65.290170\n",
       "Name: Lng, dtype: float64"
      ]
     },
     "execution_count": 65,
     "metadata": {},
     "output_type": "execute_result"
    }
   ],
   "source": [
    "# Repeating outlier process above\n",
    "df.Lng.describe()"
   ]
  },
  {
   "cell_type": "code",
   "execution_count": 66,
   "id": "ca9e7b9d-81b3-44a3-b2ad-0d753bb02a43",
   "metadata": {
    "tags": []
   },
   "outputs": [],
   "source": [
    "df['Lng_zscore'] = statistics.NormalDist(mu=-91.243, sigma=15.205998).zscore(df.Lng)"
   ]
  },
  {
   "cell_type": "code",
   "execution_count": 67,
   "id": "28be6c78-a33a-4883-81f4-ca14a053bd28",
   "metadata": {
    "tags": []
   },
   "outputs": [
    {
     "data": {
      "image/png": "[encoded data removed]",
      "text/plain": [
       "<Figure size 640x480 with 1 Axes>"
      ]
     },
     "metadata": {},
     "output_type": "display_data"
    },
    {
     "data": {
      "image/png": "[encoded data removed]",
      "text/plain": [
       "<Figure size 640x480 with 1 Axes>"
      ]
     },
     "metadata": {},
     "output_type": "display_data"
    }
   ],
   "source": [
    "plt.hist(df['Lat_zscore'])\n",
    "plt.show()\n",
    "\n",
    "seaborn.boxplot(data=df.Lat_zscore.values, width=0.3, fliersize=2, whis=1.5);"
   ]
  },
  {
   "cell_type": "code",
   "execution_count": 68,
   "id": "4b508d1f-989f-4204-9d4e-dcbf33f5d3dc",
   "metadata": {
    "tags": []
   },
   "outputs": [
    {
     "name": "stdout",
     "output_type": "stream",
     "text": [
      "<class 'pandas.core.frame.DataFrame'>\n",
      "Index: 98 entries, 66 to 9907\n",
      "Data columns (total 54 columns):\n",
      " #   Column              Non-Null Count  Dtype  \n",
      "---  ------              --------------  -----  \n",
      " 0   CaseOrder           98 non-null     int64  \n",
      " 1   Customer_id         98 non-null     object \n",
      " 2   Interaction         98 non-null     object \n",
      " 3   UID                 98 non-null     object \n",
      " 4   City                98 non-null     object \n",
      " 5   State               98 non-null     object \n",
      " 6   County              98 non-null     object \n",
      " 7   Zip                 98 non-null     int64  \n",
      " 8   Lat                 98 non-null     float64\n",
      " 9   Lng                 98 non-null     float64\n",
      " 10  Population          98 non-null     int64  \n",
      " 11  Area                98 non-null     object \n",
      " 12  Timezone            98 non-null     object \n",
      " 13  Job                 98 non-null     object \n",
      " 14  Children            68 non-null     float64\n",
      " 15  Age                 75 non-null     float64\n",
      " 16  Education           98 non-null     object \n",
      " 17  Employment          98 non-null     object \n",
      " 18  Income              74 non-null     float64\n",
      " 19  Marital             98 non-null     object \n",
      " 20  Gender              98 non-null     object \n",
      " 21  ReAdmis             98 non-null     object \n",
      " 22  VitD_levels         98 non-null     float64\n",
      " 23  Doc_visits          98 non-null     int64  \n",
      " 24  Full_meals_eaten    98 non-null     int64  \n",
      " 25  VitD_supp           98 non-null     int64  \n",
      " 26  Soft_drink          75 non-null     object \n",
      " 27  Initial_admin       98 non-null     object \n",
      " 28  HighBlood           98 non-null     object \n",
      " 29  Stroke              98 non-null     object \n",
      " 30  Complication_risk   98 non-null     object \n",
      " 31  Overweight          85 non-null     float64\n",
      " 32  Arthritis           98 non-null     object \n",
      " 33  Diabetes            98 non-null     object \n",
      " 34  Hyperlipidemia      98 non-null     object \n",
      " 35  BackPain            98 non-null     object \n",
      " 36  Anxiety             88 non-null     float64\n",
      " 37  Allergic_rhinitis   98 non-null     object \n",
      " 38  Reflux_esophagitis  98 non-null     object \n",
      " 39  Asthma              98 non-null     object \n",
      " 40  Services            98 non-null     object \n",
      " 41  Initial_days        88 non-null     float64\n",
      " 42  TotalCharge         98 non-null     float64\n",
      " 43  Additional_charges  98 non-null     float64\n",
      " 44  Item1               98 non-null     int64  \n",
      " 45  Item2               98 non-null     int64  \n",
      " 46  Item3               98 non-null     int64  \n",
      " 47  Item4               98 non-null     int64  \n",
      " 48  Item5               98 non-null     int64  \n",
      " 49  Item6               98 non-null     int64  \n",
      " 50  Item7               98 non-null     int64  \n",
      " 51  Item8               98 non-null     int64  \n",
      " 52  Lat_zscore          98 non-null     float64\n",
      " 53  Lng_zscore          98 non-null     float64\n",
      "dtypes: float64(13), int64(14), object(27)\n",
      "memory usage: 42.1+ KB\n"
     ]
    }
   ],
   "source": [
    "Lng_query = df.query('Lng_zscore > 3 | Lng_zscore < -3')\n",
    "Lng_query.info()\n",
    "# 98 entries"
   ]
  },
  {
   "cell_type": "code",
   "execution_count": 69,
   "id": "5915057b-a48d-4f46-8e26-64e026f98bef",
   "metadata": {
    "tags": []
   },
   "outputs": [
    {
     "data": {
      "text/plain": [
       "count     98.000000\n",
       "mean    -156.209829\n",
       "std        6.084982\n",
       "min     -174.209690\n",
       "25%     -158.127387\n",
       "50%     -156.748030\n",
       "75%     -153.028410\n",
       "max     -139.488340\n",
       "Name: Lng, dtype: float64"
      ]
     },
     "execution_count": 69,
     "metadata": {},
     "output_type": "execute_result"
    }
   ],
   "source": [
    "Lng_query.Lng.describe()"
   ]
  },
  {
   "cell_type": "code",
   "execution_count": 70,
   "id": "779186f7-af05-4e9d-b220-f6c8be1f66d0",
   "metadata": {
    "tags": []
   },
   "outputs": [
    {
     "data": {
      "text/plain": [
       "count     10000.000000\n",
       "mean       9965.253800\n",
       "std       14824.758614\n",
       "min           0.000000\n",
       "25%         694.750000\n",
       "50%        2769.000000\n",
       "75%       13945.000000\n",
       "max      122814.000000\n",
       "Name: Population, dtype: float64"
      ]
     },
     "execution_count": 70,
     "metadata": {},
     "output_type": "execute_result"
    }
   ],
   "source": [
    "#  Describe to find values\n",
    "df.Population.describe()"
   ]
  },
  {
   "cell_type": "code",
   "execution_count": 71,
   "id": "a072c3da-9d80-442d-bb6d-4ec2787423ce",
   "metadata": {
    "tags": []
   },
   "outputs": [
    {
     "data": {
      "image/png": "[encoded data removed]",
      "text/plain": [
       "<Figure size 640x480 with 1 Axes>"
      ]
     },
     "metadata": {},
     "output_type": "display_data"
    }
   ],
   "source": [
    "#  Show a picture to see if there are outliers\n",
    "seaborn.boxplot(data=df.Population.values, width=0.3, fliersize=2, whis=1.5);"
   ]
  },
  {
   "cell_type": "code",
   "execution_count": 72,
   "id": "2550f0f2-91d1-44d6-9db3-a1d3afe42112",
   "metadata": {
    "tags": []
   },
   "outputs": [],
   "source": [
    "#  Create zscores\n",
    "\n",
    "df['Population_zscore'] = statistics.NormalDist(mu=9965.2538, sigma=14824.758614).zscore(df.Population)"
   ]
  },
  {
   "cell_type": "code",
   "execution_count": 73,
   "id": "c40d0757-2aa9-45fd-a4a3-cd1c39f32067",
   "metadata": {
    "tags": []
   },
   "outputs": [
    {
     "data": {
      "image/png": "[encoded data removed]",
      "text/plain": [
       "<Figure size 640x480 with 1 Axes>"
      ]
     },
     "metadata": {},
     "output_type": "display_data"
    }
   ],
   "source": [
    "#  Use zscore with histogram\n",
    "plt.hist(df['Population_zscore'])\n",
    "plt.show()"
   ]
  },
  {
   "cell_type": "code",
   "execution_count": 74,
   "id": "ee5b1c29-a5b5-43f4-8eed-079577b869c4",
   "metadata": {
    "tags": []
   },
   "outputs": [
    {
     "data": {
      "image/png": "[encoded data removed]",
      "text/plain": [
       "<Figure size 640x480 with 1 Axes>"
      ]
     },
     "metadata": {},
     "output_type": "display_data"
    }
   ],
   "source": [
    "#  Use zscore with boxplot\n",
    "seaborn.boxplot(data=df.Population_zscore.values, width=0.3, fliersize=2, whis=1.5);"
   ]
  },
  {
   "cell_type": "code",
   "execution_count": 75,
   "id": "345b090c-86c9-457d-a0d9-c2aea34349e6",
   "metadata": {
    "tags": []
   },
   "outputs": [
    {
     "name": "stdout",
     "output_type": "stream",
     "text": [
      "<class 'pandas.core.frame.DataFrame'>\n",
      "Index: 218 entries, 154 to 9852\n",
      "Data columns (total 55 columns):\n",
      " #   Column              Non-Null Count  Dtype  \n",
      "---  ------              --------------  -----  \n",
      " 0   CaseOrder           218 non-null    int64  \n",
      " 1   Customer_id         218 non-null    object \n",
      " 2   Interaction         218 non-null    object \n",
      " 3   UID                 218 non-null    object \n",
      " 4   City                218 non-null    object \n",
      " 5   State               218 non-null    object \n",
      " 6   County              218 non-null    object \n",
      " 7   Zip                 218 non-null    int64  \n",
      " 8   Lat                 218 non-null    float64\n",
      " 9   Lng                 218 non-null    float64\n",
      " 10  Population          218 non-null    int64  \n",
      " 11  Area                218 non-null    object \n",
      " 12  Timezone            218 non-null    object \n",
      " 13  Job                 218 non-null    object \n",
      " 14  Children            166 non-null    float64\n",
      " 15  Age                 166 non-null    float64\n",
      " 16  Education           218 non-null    object \n",
      " 17  Employment          218 non-null    object \n",
      " 18  Income              164 non-null    float64\n",
      " 19  Marital             218 non-null    object \n",
      " 20  Gender              218 non-null    object \n",
      " 21  ReAdmis             218 non-null    object \n",
      " 22  VitD_levels         218 non-null    float64\n",
      " 23  Doc_visits          218 non-null    int64  \n",
      " 24  Full_meals_eaten    218 non-null    int64  \n",
      " 25  VitD_supp           218 non-null    int64  \n",
      " 26  Soft_drink          171 non-null    object \n",
      " 27  Initial_admin       218 non-null    object \n",
      " 28  HighBlood           218 non-null    object \n",
      " 29  Stroke              218 non-null    object \n",
      " 30  Complication_risk   218 non-null    object \n",
      " 31  Overweight          200 non-null    float64\n",
      " 32  Arthritis           218 non-null    object \n",
      " 33  Diabetes            218 non-null    object \n",
      " 34  Hyperlipidemia      218 non-null    object \n",
      " 35  BackPain            218 non-null    object \n",
      " 36  Anxiety             193 non-null    float64\n",
      " 37  Allergic_rhinitis   218 non-null    object \n",
      " 38  Reflux_esophagitis  218 non-null    object \n",
      " 39  Asthma              218 non-null    object \n",
      " 40  Services            218 non-null    object \n",
      " 41  Initial_days        195 non-null    float64\n",
      " 42  TotalCharge         218 non-null    float64\n",
      " 43  Additional_charges  218 non-null    float64\n",
      " 44  Item1               218 non-null    int64  \n",
      " 45  Item2               218 non-null    int64  \n",
      " 46  Item3               218 non-null    int64  \n",
      " 47  Item4               218 non-null    int64  \n",
      " 48  Item5               218 non-null    int64  \n",
      " 49  Item6               218 non-null    int64  \n",
      " 50  Item7               218 non-null    int64  \n",
      " 51  Item8               218 non-null    int64  \n",
      " 52  Lat_zscore          218 non-null    float64\n",
      " 53  Lng_zscore          218 non-null    float64\n",
      " 54  Population_zscore   218 non-null    float64\n",
      "dtypes: float64(14), int64(14), object(27)\n",
      "memory usage: 95.4+ KB\n"
     ]
    }
   ],
   "source": [
    "#  Create query to find count of outliers\n",
    "\n",
    "Population_query = df.query('Population_zscore > 3')\n",
    "Population_query.info()\n",
    "\n",
    "# 218 entries"
   ]
  },
  {
   "cell_type": "code",
   "execution_count": 76,
   "id": "ddc17920-bbb4-4ecd-9220-fc5444df2d22",
   "metadata": {
    "tags": []
   },
   "outputs": [
    {
     "data": {
      "text/plain": [
       "count       218.000000\n",
       "mean      67419.325688\n",
       "std       13341.793468\n",
       "min       54453.000000\n",
       "25%       57437.250000\n",
       "50%       63165.000000\n",
       "75%       71236.750000\n",
       "max      122814.000000\n",
       "Name: Population, dtype: float64"
      ]
     },
     "execution_count": 76,
     "metadata": {},
     "output_type": "execute_result"
    }
   ],
   "source": [
    "# Find values and additional information about the outliers themselves\n",
    "Population_query.Population.describe()"
   ]
  },
  {
   "cell_type": "code",
   "execution_count": 77,
   "id": "a0423243-0302-4e32-b001-413a227bb8e0",
   "metadata": {
    "tags": []
   },
   "outputs": [
    {
     "data": {
      "text/plain": [
       "count    7412.000000\n",
       "mean        2.098219\n",
       "std         2.155427\n",
       "min         0.000000\n",
       "25%         0.000000\n",
       "50%         1.000000\n",
       "75%         3.000000\n",
       "max        10.000000\n",
       "Name: Children, dtype: float64"
      ]
     },
     "execution_count": 77,
     "metadata": {},
     "output_type": "execute_result"
    }
   ],
   "source": [
    "# The process is identical for each of the quantitative variables forthcoming\n",
    "df.Children.describe()"
   ]
  },
  {
   "cell_type": "code",
   "execution_count": 78,
   "id": "99efbbf5-b1d7-4d7e-a090-47a8dc790a70",
   "metadata": {
    "tags": []
   },
   "outputs": [
    {
     "data": {
      "image/png": "[encoded data removed]",
      "text/plain": [
       "<Figure size 640x480 with 1 Axes>"
      ]
     },
     "metadata": {},
     "output_type": "display_data"
    }
   ],
   "source": [
    "seaborn.boxplot(data=df.Children.values, width=0.3, fliersize=2, whis=1.5);"
   ]
  },
  {
   "cell_type": "code",
   "execution_count": 79,
   "id": "da814a09-47b0-492b-9dac-e60edc31b81f",
   "metadata": {
    "tags": []
   },
   "outputs": [],
   "source": [
    "df['Children_zscore'] = statistics.NormalDist(mu=2, sigma=2.155427).zscore(df.Children)"
   ]
  },
  {
   "cell_type": "code",
   "execution_count": 80,
   "id": "827f9dc1-3d2a-4498-b6a8-a82f34b258e0",
   "metadata": {
    "tags": []
   },
   "outputs": [
    {
     "data": {
      "image/png": "[encoded data removed]",
      "text/plain": [
       "<Figure size 640x480 with 1 Axes>"
      ]
     },
     "metadata": {},
     "output_type": "display_data"
    }
   ],
   "source": [
    "plt.hist(df['Children_zscore'])\n",
    "plt.show()"
   ]
  },
  {
   "cell_type": "code",
   "execution_count": 81,
   "id": "f2f85182-cab2-4f60-af99-d3954ed82ff6",
   "metadata": {
    "tags": []
   },
   "outputs": [
    {
     "data": {
      "image/png": "[encoded data removed]",
      "text/plain": [
       "<Figure size 640x480 with 1 Axes>"
      ]
     },
     "metadata": {},
     "output_type": "display_data"
    }
   ],
   "source": [
    "seaborn.boxplot(data=df.Children_zscore.values, width=0.3, fliersize=2, whis=1.5);"
   ]
  },
  {
   "cell_type": "code",
   "execution_count": 82,
   "id": "70eb5539-5c52-43b4-b7ac-b22fe9431e46",
   "metadata": {
    "tags": []
   },
   "outputs": [
    {
     "name": "stdout",
     "output_type": "stream",
     "text": [
      "<class 'pandas.core.frame.DataFrame'>\n",
      "Index: 146 entries, 17 to 9846\n",
      "Data columns (total 56 columns):\n",
      " #   Column              Non-Null Count  Dtype  \n",
      "---  ------              --------------  -----  \n",
      " 0   CaseOrder           146 non-null    int64  \n",
      " 1   Customer_id         146 non-null    object \n",
      " 2   Interaction         146 non-null    object \n",
      " 3   UID                 146 non-null    object \n",
      " 4   City                146 non-null    object \n",
      " 5   State               146 non-null    object \n",
      " 6   County              146 non-null    object \n",
      " 7   Zip                 146 non-null    int64  \n",
      " 8   Lat                 146 non-null    float64\n",
      " 9   Lng                 146 non-null    float64\n",
      " 10  Population          146 non-null    int64  \n",
      " 11  Area                146 non-null    object \n",
      " 12  Timezone            146 non-null    object \n",
      " 13  Job                 146 non-null    object \n",
      " 14  Children            146 non-null    float64\n",
      " 15  Age                 111 non-null    float64\n",
      " 16  Education           146 non-null    object \n",
      " 17  Employment          146 non-null    object \n",
      " 18  Income              108 non-null    float64\n",
      " 19  Marital             146 non-null    object \n",
      " 20  Gender              146 non-null    object \n",
      " 21  ReAdmis             146 non-null    object \n",
      " 22  VitD_levels         146 non-null    float64\n",
      " 23  Doc_visits          146 non-null    int64  \n",
      " 24  Full_meals_eaten    146 non-null    int64  \n",
      " 25  VitD_supp           146 non-null    int64  \n",
      " 26  Soft_drink          116 non-null    object \n",
      " 27  Initial_admin       146 non-null    object \n",
      " 28  HighBlood           146 non-null    object \n",
      " 29  Stroke              146 non-null    object \n",
      " 30  Complication_risk   146 non-null    object \n",
      " 31  Overweight          131 non-null    float64\n",
      " 32  Arthritis           146 non-null    object \n",
      " 33  Diabetes            146 non-null    object \n",
      " 34  Hyperlipidemia      146 non-null    object \n",
      " 35  BackPain            146 non-null    object \n",
      " 36  Anxiety             127 non-null    float64\n",
      " 37  Allergic_rhinitis   146 non-null    object \n",
      " 38  Reflux_esophagitis  146 non-null    object \n",
      " 39  Asthma              146 non-null    object \n",
      " 40  Services            146 non-null    object \n",
      " 41  Initial_days        130 non-null    float64\n",
      " 42  TotalCharge         146 non-null    float64\n",
      " 43  Additional_charges  146 non-null    float64\n",
      " 44  Item1               146 non-null    int64  \n",
      " 45  Item2               146 non-null    int64  \n",
      " 46  Item3               146 non-null    int64  \n",
      " 47  Item4               146 non-null    int64  \n",
      " 48  Item5               146 non-null    int64  \n",
      " 49  Item6               146 non-null    int64  \n",
      " 50  Item7               146 non-null    int64  \n",
      " 51  Item8               146 non-null    int64  \n",
      " 52  Lat_zscore          146 non-null    float64\n",
      " 53  Lng_zscore          146 non-null    float64\n",
      " 54  Population_zscore   146 non-null    float64\n",
      " 55  Children_zscore     146 non-null    float64\n",
      "dtypes: float64(15), int64(14), object(27)\n",
      "memory usage: 65.0+ KB\n"
     ]
    }
   ],
   "source": [
    "Children_query = df.query('Children_zscore > 3')\n",
    "Children_query.info()\n",
    "\n",
    "# 146 count"
   ]
  },
  {
   "cell_type": "code",
   "execution_count": 83,
   "id": "f2d871b2-9bf7-4d12-832a-143ab0bf7dc8",
   "metadata": {
    "tags": []
   },
   "outputs": [
    {
     "data": {
      "text/plain": [
       "Children\n",
       "9.0     83\n",
       "10.0    63\n",
       "Name: count, dtype: int64"
      ]
     },
     "execution_count": 83,
     "metadata": {},
     "output_type": "execute_result"
    }
   ],
   "source": [
    "Children_query.Children.value_counts()"
   ]
  },
  {
   "cell_type": "code",
   "execution_count": 84,
   "id": "e74894dc-2535-403c-96a7-67c3f76ba0ef",
   "metadata": {
    "tags": []
   },
   "outputs": [
    {
     "data": {
      "text/plain": [
       "count    7586.000000\n",
       "mean       53.295676\n",
       "std        20.659182\n",
       "min        18.000000\n",
       "25%        35.000000\n",
       "50%        53.000000\n",
       "75%        71.000000\n",
       "max        89.000000\n",
       "Name: Age, dtype: float64"
      ]
     },
     "execution_count": 84,
     "metadata": {},
     "output_type": "execute_result"
    }
   ],
   "source": [
    "df.Age.describe()"
   ]
  },
  {
   "cell_type": "code",
   "execution_count": 85,
   "id": "0683b003-07af-45b9-ab0a-742ad46e3180",
   "metadata": {
    "tags": []
   },
   "outputs": [],
   "source": [
    "df['Age_zscore'] = statistics.NormalDist(mu=53.295676, sigma=20.659182).zscore(df.Age)"
   ]
  },
  {
   "cell_type": "code",
   "execution_count": 86,
   "id": "7c1dbaca-b50e-4c8e-a858-b2b8aa123954",
   "metadata": {
    "tags": []
   },
   "outputs": [
    {
     "data": {
      "image/png": "[encoded data removed]",
      "text/plain": [
       "<Figure size 640x480 with 1 Axes>"
      ]
     },
     "metadata": {},
     "output_type": "display_data"
    }
   ],
   "source": [
    "plt.hist(df['Age_zscore'])\n",
    "plt.show()"
   ]
  },
  {
   "cell_type": "code",
   "execution_count": 87,
   "id": "85060d55-5ef4-431c-9861-1b0f62300f2e",
   "metadata": {
    "tags": []
   },
   "outputs": [
    {
     "data": {
      "image/png": "[encoded data removed]",
      "text/plain": [
       "<Figure size 640x480 with 1 Axes>"
      ]
     },
     "metadata": {},
     "output_type": "display_data"
    }
   ],
   "source": [
    "seaborn.boxplot(data=df.Age_zscore.values, width=0.3, fliersize=2, whis=1.5);"
   ]
  },
  {
   "cell_type": "code",
   "execution_count": 88,
   "id": "9b595785-8ced-4b1b-ab3c-27dc4a1f6af2",
   "metadata": {
    "tags": []
   },
   "outputs": [
    {
     "data": {
      "text/plain": [
       "count      7536.000000\n",
       "mean      40484.438268\n",
       "std       28664.861050\n",
       "min         154.080000\n",
       "25%       19450.792500\n",
       "50%       33942.280000\n",
       "75%       54075.235000\n",
       "max      207249.130000\n",
       "Name: Income, dtype: float64"
      ]
     },
     "execution_count": 88,
     "metadata": {},
     "output_type": "execute_result"
    }
   ],
   "source": [
    "df.Income.describe()"
   ]
  },
  {
   "cell_type": "code",
   "execution_count": 89,
   "id": "b5bd6903-b2d5-41f4-b2d2-d83b1990b3f5",
   "metadata": {
    "tags": []
   },
   "outputs": [],
   "source": [
    "df['Income_zscore'] = statistics.NormalDist(mu=40484.438268, sigma=28664.86105).zscore(df.Income)"
   ]
  },
  {
   "cell_type": "code",
   "execution_count": 90,
   "id": "b818ce4e-2c31-47fc-b402-feb331eb830b",
   "metadata": {
    "tags": []
   },
   "outputs": [
    {
     "data": {
      "image/png": "[encoded data removed]",
      "text/plain": [
       "<Figure size 640x480 with 1 Axes>"
      ]
     },
     "metadata": {},
     "output_type": "display_data"
    }
   ],
   "source": [
    "plt.hist(df['Income_zscore'])\n",
    "plt.show()"
   ]
  },
  {
   "cell_type": "code",
   "execution_count": 91,
   "id": "a0bd035e-d193-455b-bcc3-bf6f0b9ee1e3",
   "metadata": {
    "tags": []
   },
   "outputs": [
    {
     "data": {
      "image/png": "[encoded data removed]",
      "text/plain": [
       "<Figure size 640x480 with 1 Axes>"
      ]
     },
     "metadata": {},
     "output_type": "display_data"
    }
   ],
   "source": [
    "seaborn.boxplot(data=df.Income_zscore.values, width=0.3, fliersize=2, whis=1.5);"
   ]
  },
  {
   "cell_type": "code",
   "execution_count": 92,
   "id": "5802d6f2-a72e-4e06-91c8-bcb6cc8f0a6a",
   "metadata": {
    "tags": []
   },
   "outputs": [
    {
     "name": "stdout",
     "output_type": "stream",
     "text": [
      "<class 'pandas.core.frame.DataFrame'>\n",
      "Index: 113 entries, 31 to 9907\n",
      "Data columns (total 58 columns):\n",
      " #   Column              Non-Null Count  Dtype  \n",
      "---  ------              --------------  -----  \n",
      " 0   CaseOrder           113 non-null    int64  \n",
      " 1   Customer_id         113 non-null    object \n",
      " 2   Interaction         113 non-null    object \n",
      " 3   UID                 113 non-null    object \n",
      " 4   City                113 non-null    object \n",
      " 5   State               113 non-null    object \n",
      " 6   County              113 non-null    object \n",
      " 7   Zip                 113 non-null    int64  \n",
      " 8   Lat                 113 non-null    float64\n",
      " 9   Lng                 113 non-null    float64\n",
      " 10  Population          113 non-null    int64  \n",
      " 11  Area                113 non-null    object \n",
      " 12  Timezone            113 non-null    object \n",
      " 13  Job                 113 non-null    object \n",
      " 14  Children            80 non-null     float64\n",
      " 15  Age                 92 non-null     float64\n",
      " 16  Education           113 non-null    object \n",
      " 17  Employment          113 non-null    object \n",
      " 18  Income              113 non-null    float64\n",
      " 19  Marital             113 non-null    object \n",
      " 20  Gender              113 non-null    object \n",
      " 21  ReAdmis             113 non-null    object \n",
      " 22  VitD_levels         113 non-null    float64\n",
      " 23  Doc_visits          113 non-null    int64  \n",
      " 24  Full_meals_eaten    113 non-null    int64  \n",
      " 25  VitD_supp           113 non-null    int64  \n",
      " 26  Soft_drink          91 non-null     object \n",
      " 27  Initial_admin       113 non-null    object \n",
      " 28  HighBlood           113 non-null    object \n",
      " 29  Stroke              113 non-null    object \n",
      " 30  Complication_risk   113 non-null    object \n",
      " 31  Overweight          100 non-null    float64\n",
      " 32  Arthritis           113 non-null    object \n",
      " 33  Diabetes            113 non-null    object \n",
      " 34  Hyperlipidemia      113 non-null    object \n",
      " 35  BackPain            113 non-null    object \n",
      " 36  Anxiety             102 non-null    float64\n",
      " 37  Allergic_rhinitis   113 non-null    object \n",
      " 38  Reflux_esophagitis  113 non-null    object \n",
      " 39  Asthma              113 non-null    object \n",
      " 40  Services            113 non-null    object \n",
      " 41  Initial_days        99 non-null     float64\n",
      " 42  TotalCharge         113 non-null    float64\n",
      " 43  Additional_charges  113 non-null    float64\n",
      " 44  Item1               113 non-null    int64  \n",
      " 45  Item2               113 non-null    int64  \n",
      " 46  Item3               113 non-null    int64  \n",
      " 47  Item4               113 non-null    int64  \n",
      " 48  Item5               113 non-null    int64  \n",
      " 49  Item6               113 non-null    int64  \n",
      " 50  Item7               113 non-null    int64  \n",
      " 51  Item8               113 non-null    int64  \n",
      " 52  Lat_zscore          113 non-null    float64\n",
      " 53  Lng_zscore          113 non-null    float64\n",
      " 54  Population_zscore   113 non-null    float64\n",
      " 55  Children_zscore     80 non-null     float64\n",
      " 56  Age_zscore          92 non-null     float64\n",
      " 57  Income_zscore       113 non-null    float64\n",
      "dtypes: float64(17), int64(14), object(27)\n",
      "memory usage: 52.1+ KB\n"
     ]
    }
   ],
   "source": [
    "Income_query = df.query('Income_zscore > 3')\n",
    "Income_query.info()\n",
    "\n",
    "# 113 entries"
   ]
  },
  {
   "cell_type": "code",
   "execution_count": 93,
   "id": "a3f9a7bc-5022-400a-b2da-8943227c2938",
   "metadata": {
    "tags": []
   },
   "outputs": [
    {
     "data": {
      "text/plain": [
       "count       113.000000\n",
       "mean     149781.357345\n",
       "std       20448.610792\n",
       "min      127026.590000\n",
       "25%      133104.070000\n",
       "50%      145179.770000\n",
       "75%      161297.650000\n",
       "max      207249.130000\n",
       "Name: Income, dtype: float64"
      ]
     },
     "execution_count": 93,
     "metadata": {},
     "output_type": "execute_result"
    }
   ],
   "source": [
    "Income_query.Income.describe()"
   ]
  },
  {
   "cell_type": "code",
   "execution_count": 94,
   "id": "7944436f-8b16-4e91-bd99-f45cfbc53436",
   "metadata": {
    "tags": []
   },
   "outputs": [
    {
     "data": {
      "text/plain": [
       "count    10000.000000\n",
       "mean        19.412675\n",
       "std          6.723277\n",
       "min          9.519012\n",
       "25%         16.513171\n",
       "50%         18.080560\n",
       "75%         19.789740\n",
       "max         53.019124\n",
       "Name: VitD_levels, dtype: float64"
      ]
     },
     "execution_count": 94,
     "metadata": {},
     "output_type": "execute_result"
    }
   ],
   "source": [
    "df.VitD_levels.describe()"
   ]
  },
  {
   "cell_type": "code",
   "execution_count": 95,
   "id": "f2eb55f5-a368-46d6-92b4-c28cdf349d2c",
   "metadata": {
    "tags": []
   },
   "outputs": [],
   "source": [
    "df['VitD_levels_zscore'] = statistics.NormalDist(mu=19.412675, sigma=6.723277).zscore(df.VitD_levels)"
   ]
  },
  {
   "cell_type": "code",
   "execution_count": 96,
   "id": "3296b04b-3816-4753-9615-75a5d108f645",
   "metadata": {
    "tags": []
   },
   "outputs": [
    {
     "data": {
      "image/png": "[encoded data removed]",
      "text/plain": [
       "<Figure size 640x480 with 1 Axes>"
      ]
     },
     "metadata": {},
     "output_type": "display_data"
    },
    {
     "data": {
      "image/png": "[encoded data removed]",
      "text/plain": [
       "<Figure size 640x480 with 1 Axes>"
      ]
     },
     "metadata": {},
     "output_type": "display_data"
    }
   ],
   "source": [
    "plt.hist(df['VitD_levels_zscore'])\n",
    "plt.show()\n",
    "\n",
    "seaborn.boxplot(data=df.VitD_levels_zscore.values, width=0.3, fliersize=2, whis=1.5);"
   ]
  },
  {
   "cell_type": "code",
   "execution_count": 97,
   "id": "ae3cf5c5-656a-44ac-9047-23fd2acc1821",
   "metadata": {
    "tags": []
   },
   "outputs": [
    {
     "name": "stdout",
     "output_type": "stream",
     "text": [
      "<class 'pandas.core.frame.DataFrame'>\n",
      "Index: 500 entries, 12 to 9974\n",
      "Data columns (total 59 columns):\n",
      " #   Column              Non-Null Count  Dtype  \n",
      "---  ------              --------------  -----  \n",
      " 0   CaseOrder           500 non-null    int64  \n",
      " 1   Customer_id         500 non-null    object \n",
      " 2   Interaction         500 non-null    object \n",
      " 3   UID                 500 non-null    object \n",
      " 4   City                500 non-null    object \n",
      " 5   State               500 non-null    object \n",
      " 6   County              500 non-null    object \n",
      " 7   Zip                 500 non-null    int64  \n",
      " 8   Lat                 500 non-null    float64\n",
      " 9   Lng                 500 non-null    float64\n",
      " 10  Population          500 non-null    int64  \n",
      " 11  Area                500 non-null    object \n",
      " 12  Timezone            500 non-null    object \n",
      " 13  Job                 500 non-null    object \n",
      " 14  Children            371 non-null    float64\n",
      " 15  Age                 385 non-null    float64\n",
      " 16  Education           500 non-null    object \n",
      " 17  Employment          500 non-null    object \n",
      " 18  Income              374 non-null    float64\n",
      " 19  Marital             500 non-null    object \n",
      " 20  Gender              500 non-null    object \n",
      " 21  ReAdmis             500 non-null    object \n",
      " 22  VitD_levels         500 non-null    float64\n",
      " 23  Doc_visits          500 non-null    int64  \n",
      " 24  Full_meals_eaten    500 non-null    int64  \n",
      " 25  VitD_supp           500 non-null    int64  \n",
      " 26  Soft_drink          377 non-null    object \n",
      " 27  Initial_admin       500 non-null    object \n",
      " 28  HighBlood           500 non-null    object \n",
      " 29  Stroke              500 non-null    object \n",
      " 30  Complication_risk   500 non-null    object \n",
      " 31  Overweight          456 non-null    float64\n",
      " 32  Arthritis           500 non-null    object \n",
      " 33  Diabetes            500 non-null    object \n",
      " 34  Hyperlipidemia      500 non-null    object \n",
      " 35  BackPain            500 non-null    object \n",
      " 36  Anxiety             453 non-null    float64\n",
      " 37  Allergic_rhinitis   500 non-null    object \n",
      " 38  Reflux_esophagitis  500 non-null    object \n",
      " 39  Asthma              500 non-null    object \n",
      " 40  Services            500 non-null    object \n",
      " 41  Initial_days        440 non-null    float64\n",
      " 42  TotalCharge         500 non-null    float64\n",
      " 43  Additional_charges  500 non-null    float64\n",
      " 44  Item1               500 non-null    int64  \n",
      " 45  Item2               500 non-null    int64  \n",
      " 46  Item3               500 non-null    int64  \n",
      " 47  Item4               500 non-null    int64  \n",
      " 48  Item5               500 non-null    int64  \n",
      " 49  Item6               500 non-null    int64  \n",
      " 50  Item7               500 non-null    int64  \n",
      " 51  Item8               500 non-null    int64  \n",
      " 52  Lat_zscore          500 non-null    float64\n",
      " 53  Lng_zscore          500 non-null    float64\n",
      " 54  Population_zscore   500 non-null    float64\n",
      " 55  Children_zscore     371 non-null    float64\n",
      " 56  Age_zscore          385 non-null    float64\n",
      " 57  Income_zscore       374 non-null    float64\n",
      " 58  VitD_levels_zscore  500 non-null    float64\n",
      "dtypes: float64(18), int64(14), object(27)\n",
      "memory usage: 234.4+ KB\n"
     ]
    }
   ],
   "source": [
    "VitD_levels_query = df.query('VitD_levels_zscore > 3')\n",
    "VitD_levels_query.info()\n",
    "\n",
    "#  500 entries"
   ]
  },
  {
   "cell_type": "code",
   "execution_count": 98,
   "id": "996b7f55-497f-4931-91d4-105ca9a200e3",
   "metadata": {
    "tags": []
   },
   "outputs": [
    {
     "data": {
      "text/plain": [
       "1964    53.019124\n",
       "1307    52.757599\n",
       "7158    52.370764\n",
       "7231    52.271584\n",
       "2616    52.156112\n",
       "          ...    \n",
       "5689    41.594744\n",
       "2947    41.483195\n",
       "7271    41.224905\n",
       "787     41.071664\n",
       "8198    40.841671\n",
       "Name: VitD_levels, Length: 500, dtype: float64"
      ]
     },
     "execution_count": 98,
     "metadata": {},
     "output_type": "execute_result"
    }
   ],
   "source": [
    "VitD_levels_query.VitD_levels.sort_values(ascending=False)"
   ]
  },
  {
   "cell_type": "code",
   "execution_count": 99,
   "id": "4095a21a-719b-4fde-892d-f1ee64db41eb",
   "metadata": {
    "tags": []
   },
   "outputs": [
    {
     "data": {
      "text/plain": [
       "count    10000.000000\n",
       "mean         5.012200\n",
       "std          1.045734\n",
       "min          1.000000\n",
       "25%          4.000000\n",
       "50%          5.000000\n",
       "75%          6.000000\n",
       "max          9.000000\n",
       "Name: Doc_visits, dtype: float64"
      ]
     },
     "execution_count": 99,
     "metadata": {},
     "output_type": "execute_result"
    }
   ],
   "source": [
    "df.Doc_visits.describe()"
   ]
  },
  {
   "cell_type": "code",
   "execution_count": 100,
   "id": "ff17785b-36b9-41c0-a28e-4e1c888441d8",
   "metadata": {
    "tags": []
   },
   "outputs": [],
   "source": [
    "df['Doc_visits_zscore'] = statistics.NormalDist(mu=5.0122, sigma=1.045734).zscore(df.Doc_visits)"
   ]
  },
  {
   "cell_type": "code",
   "execution_count": 101,
   "id": "cef3069f-870d-493d-b07c-2e223ab0e55e",
   "metadata": {
    "tags": []
   },
   "outputs": [
    {
     "data": {
      "image/png": "[encoded data removed]",
      "text/plain": [
       "<Figure size 640x480 with 1 Axes>"
      ]
     },
     "metadata": {},
     "output_type": "display_data"
    },
    {
     "data": {
      "image/png": "[encoded data removed]",
      "text/plain": [
       "<Figure size 640x480 with 1 Axes>"
      ]
     },
     "metadata": {},
     "output_type": "display_data"
    }
   ],
   "source": [
    "plt.hist(df['Doc_visits_zscore'])\n",
    "plt.show()\n",
    "\n",
    "seaborn.boxplot(data=df.Doc_visits_zscore.values, width=0.3, fliersize=2, whis=1.5);"
   ]
  },
  {
   "cell_type": "code",
   "execution_count": 102,
   "id": "1a56cbaa-6a21-4a2f-9179-5cb28d9f6a2e",
   "metadata": {
    "tags": []
   },
   "outputs": [
    {
     "name": "stdout",
     "output_type": "stream",
     "text": [
      "<class 'pandas.core.frame.DataFrame'>\n",
      "Index: 8 entries, 963 to 7144\n",
      "Data columns (total 60 columns):\n",
      " #   Column              Non-Null Count  Dtype  \n",
      "---  ------              --------------  -----  \n",
      " 0   CaseOrder           8 non-null      int64  \n",
      " 1   Customer_id         8 non-null      object \n",
      " 2   Interaction         8 non-null      object \n",
      " 3   UID                 8 non-null      object \n",
      " 4   City                8 non-null      object \n",
      " 5   State               8 non-null      object \n",
      " 6   County              8 non-null      object \n",
      " 7   Zip                 8 non-null      int64  \n",
      " 8   Lat                 8 non-null      float64\n",
      " 9   Lng                 8 non-null      float64\n",
      " 10  Population          8 non-null      int64  \n",
      " 11  Area                8 non-null      object \n",
      " 12  Timezone            8 non-null      object \n",
      " 13  Job                 8 non-null      object \n",
      " 14  Children            8 non-null      float64\n",
      " 15  Age                 7 non-null      float64\n",
      " 16  Education           8 non-null      object \n",
      " 17  Employment          8 non-null      object \n",
      " 18  Income              7 non-null      float64\n",
      " 19  Marital             8 non-null      object \n",
      " 20  Gender              8 non-null      object \n",
      " 21  ReAdmis             8 non-null      object \n",
      " 22  VitD_levels         8 non-null      float64\n",
      " 23  Doc_visits          8 non-null      int64  \n",
      " 24  Full_meals_eaten    8 non-null      int64  \n",
      " 25  VitD_supp           8 non-null      int64  \n",
      " 26  Soft_drink          6 non-null      object \n",
      " 27  Initial_admin       8 non-null      object \n",
      " 28  HighBlood           8 non-null      object \n",
      " 29  Stroke              8 non-null      object \n",
      " 30  Complication_risk   8 non-null      object \n",
      " 31  Overweight          6 non-null      float64\n",
      " 32  Arthritis           8 non-null      object \n",
      " 33  Diabetes            8 non-null      object \n",
      " 34  Hyperlipidemia      8 non-null      object \n",
      " 35  BackPain            8 non-null      object \n",
      " 36  Anxiety             8 non-null      float64\n",
      " 37  Allergic_rhinitis   8 non-null      object \n",
      " 38  Reflux_esophagitis  8 non-null      object \n",
      " 39  Asthma              8 non-null      object \n",
      " 40  Services            8 non-null      object \n",
      " 41  Initial_days        8 non-null      float64\n",
      " 42  TotalCharge         8 non-null      float64\n",
      " 43  Additional_charges  8 non-null      float64\n",
      " 44  Item1               8 non-null      int64  \n",
      " 45  Item2               8 non-null      int64  \n",
      " 46  Item3               8 non-null      int64  \n",
      " 47  Item4               8 non-null      int64  \n",
      " 48  Item5               8 non-null      int64  \n",
      " 49  Item6               8 non-null      int64  \n",
      " 50  Item7               8 non-null      int64  \n",
      " 51  Item8               8 non-null      int64  \n",
      " 52  Lat_zscore          8 non-null      float64\n",
      " 53  Lng_zscore          8 non-null      float64\n",
      " 54  Population_zscore   8 non-null      float64\n",
      " 55  Children_zscore     8 non-null      float64\n",
      " 56  Age_zscore          7 non-null      float64\n",
      " 57  Income_zscore       7 non-null      float64\n",
      " 58  VitD_levels_zscore  8 non-null      float64\n",
      " 59  Doc_visits_zscore   8 non-null      float64\n",
      "dtypes: float64(19), int64(14), object(27)\n",
      "memory usage: 3.8+ KB\n"
     ]
    }
   ],
   "source": [
    "Doc_visits_query = df.query('Doc_visits_zscore > 3 | Doc_visits_zscore < -3')\n",
    "Doc_visits_query.info()\n",
    "\n",
    "# 8 entries"
   ]
  },
  {
   "cell_type": "code",
   "execution_count": 103,
   "id": "6668335f-ef6f-4405-88e9-4ff9ced1c7aa",
   "metadata": {
    "tags": []
   },
   "outputs": [
    {
     "data": {
      "text/plain": [
       "Doc_visits\n",
       "1    6\n",
       "9    2\n",
       "Name: count, dtype: int64"
      ]
     },
     "execution_count": 103,
     "metadata": {},
     "output_type": "execute_result"
    }
   ],
   "source": [
    "Doc_visits_query.Doc_visits.value_counts()"
   ]
  },
  {
   "cell_type": "code",
   "execution_count": 104,
   "id": "0b9523f5-6f56-415e-9a02-9af7ecdaaff5",
   "metadata": {
    "tags": []
   },
   "outputs": [
    {
     "data": {
      "text/plain": [
       "count    10000.000000\n",
       "mean         1.001400\n",
       "std          1.008117\n",
       "min          0.000000\n",
       "25%          0.000000\n",
       "50%          1.000000\n",
       "75%          2.000000\n",
       "max          7.000000\n",
       "Name: Full_meals_eaten, dtype: float64"
      ]
     },
     "execution_count": 104,
     "metadata": {},
     "output_type": "execute_result"
    }
   ],
   "source": [
    "df.Full_meals_eaten.describe()"
   ]
  },
  {
   "cell_type": "code",
   "execution_count": 105,
   "id": "9bc5e386-391c-4784-a3ff-1f3e95ca2164",
   "metadata": {
    "tags": []
   },
   "outputs": [],
   "source": [
    "df['Full_meals_eaten_zscore'] = statistics.NormalDist(mu=1.0014, sigma=1.008117).zscore(df.Full_meals_eaten)"
   ]
  },
  {
   "cell_type": "code",
   "execution_count": 106,
   "id": "93071429-c821-4049-86f0-3e6b2153c77c",
   "metadata": {
    "tags": []
   },
   "outputs": [
    {
     "data": {
      "image/png": "[encoded data removed]",
      "text/plain": [
       "<Figure size 640x480 with 1 Axes>"
      ]
     },
     "metadata": {},
     "output_type": "display_data"
    },
    {
     "data": {
      "image/png": "[encoded data removed]",
      "text/plain": [
       "<Figure size 640x480 with 1 Axes>"
      ]
     },
     "metadata": {},
     "output_type": "display_data"
    }
   ],
   "source": [
    "plt.hist(df['Full_meals_eaten_zscore'])\n",
    "plt.show()\n",
    "\n",
    "seaborn.boxplot(data=df.Full_meals_eaten_zscore.values, width=0.3, fliersize=2, whis=1.5);"
   ]
  },
  {
   "cell_type": "code",
   "execution_count": 107,
   "id": "5c6d3203-da54-498f-aa98-bc280c692f61",
   "metadata": {
    "tags": []
   },
   "outputs": [
    {
     "name": "stdout",
     "output_type": "stream",
     "text": [
      "<class 'pandas.core.frame.DataFrame'>\n",
      "Index: 33 entries, 551 to 9987\n",
      "Data columns (total 61 columns):\n",
      " #   Column                   Non-Null Count  Dtype  \n",
      "---  ------                   --------------  -----  \n",
      " 0   CaseOrder                33 non-null     int64  \n",
      " 1   Customer_id              33 non-null     object \n",
      " 2   Interaction              33 non-null     object \n",
      " 3   UID                      33 non-null     object \n",
      " 4   City                     33 non-null     object \n",
      " 5   State                    33 non-null     object \n",
      " 6   County                   33 non-null     object \n",
      " 7   Zip                      33 non-null     int64  \n",
      " 8   Lat                      33 non-null     float64\n",
      " 9   Lng                      33 non-null     float64\n",
      " 10  Population               33 non-null     int64  \n",
      " 11  Area                     33 non-null     object \n",
      " 12  Timezone                 33 non-null     object \n",
      " 13  Job                      33 non-null     object \n",
      " 14  Children                 27 non-null     float64\n",
      " 15  Age                      26 non-null     float64\n",
      " 16  Education                33 non-null     object \n",
      " 17  Employment               33 non-null     object \n",
      " 18  Income                   26 non-null     float64\n",
      " 19  Marital                  33 non-null     object \n",
      " 20  Gender                   33 non-null     object \n",
      " 21  ReAdmis                  33 non-null     object \n",
      " 22  VitD_levels              33 non-null     float64\n",
      " 23  Doc_visits               33 non-null     int64  \n",
      " 24  Full_meals_eaten         33 non-null     int64  \n",
      " 25  VitD_supp                33 non-null     int64  \n",
      " 26  Soft_drink               21 non-null     object \n",
      " 27  Initial_admin            33 non-null     object \n",
      " 28  HighBlood                33 non-null     object \n",
      " 29  Stroke                   33 non-null     object \n",
      " 30  Complication_risk        33 non-null     object \n",
      " 31  Overweight               31 non-null     float64\n",
      " 32  Arthritis                33 non-null     object \n",
      " 33  Diabetes                 33 non-null     object \n",
      " 34  Hyperlipidemia           33 non-null     object \n",
      " 35  BackPain                 33 non-null     object \n",
      " 36  Anxiety                  27 non-null     float64\n",
      " 37  Allergic_rhinitis        33 non-null     object \n",
      " 38  Reflux_esophagitis       33 non-null     object \n",
      " 39  Asthma                   33 non-null     object \n",
      " 40  Services                 33 non-null     object \n",
      " 41  Initial_days             31 non-null     float64\n",
      " 42  TotalCharge              33 non-null     float64\n",
      " 43  Additional_charges       33 non-null     float64\n",
      " 44  Item1                    33 non-null     int64  \n",
      " 45  Item2                    33 non-null     int64  \n",
      " 46  Item3                    33 non-null     int64  \n",
      " 47  Item4                    33 non-null     int64  \n",
      " 48  Item5                    33 non-null     int64  \n",
      " 49  Item6                    33 non-null     int64  \n",
      " 50  Item7                    33 non-null     int64  \n",
      " 51  Item8                    33 non-null     int64  \n",
      " 52  Lat_zscore               33 non-null     float64\n",
      " 53  Lng_zscore               33 non-null     float64\n",
      " 54  Population_zscore        33 non-null     float64\n",
      " 55  Children_zscore          27 non-null     float64\n",
      " 56  Age_zscore               26 non-null     float64\n",
      " 57  Income_zscore            26 non-null     float64\n",
      " 58  VitD_levels_zscore       33 non-null     float64\n",
      " 59  Doc_visits_zscore        33 non-null     float64\n",
      " 60  Full_meals_eaten_zscore  33 non-null     float64\n",
      "dtypes: float64(20), int64(14), object(27)\n",
      "memory usage: 16.0+ KB\n"
     ]
    }
   ],
   "source": [
    "Full_meals_eaten_query = df.query('Full_meals_eaten_zscore > 3')\n",
    "Full_meals_eaten_query.info()\n",
    "\n",
    "# 33 entries"
   ]
  },
  {
   "cell_type": "code",
   "execution_count": 108,
   "id": "29f05793-1a24-4be4-9589-be1d57556203",
   "metadata": {
    "tags": []
   },
   "outputs": [
    {
     "data": {
      "text/plain": [
       "count    33.000000\n",
       "mean      5.303030\n",
       "std       0.585494\n",
       "min       5.000000\n",
       "25%       5.000000\n",
       "50%       5.000000\n",
       "75%       5.000000\n",
       "max       7.000000\n",
       "Name: Full_meals_eaten, dtype: float64"
      ]
     },
     "execution_count": 108,
     "metadata": {},
     "output_type": "execute_result"
    }
   ],
   "source": [
    "Full_meals_eaten_query.Full_meals_eaten.describe()"
   ]
  },
  {
   "cell_type": "code",
   "execution_count": 109,
   "id": "cb7ea5cc-689e-4a20-bba6-109244c89914",
   "metadata": {
    "tags": []
   },
   "outputs": [
    {
     "data": {
      "text/plain": [
       "count    10000.000000\n",
       "mean         0.398900\n",
       "std          0.628505\n",
       "min          0.000000\n",
       "25%          0.000000\n",
       "50%          0.000000\n",
       "75%          1.000000\n",
       "max          5.000000\n",
       "Name: VitD_supp, dtype: float64"
      ]
     },
     "execution_count": 109,
     "metadata": {},
     "output_type": "execute_result"
    }
   ],
   "source": [
    "df.VitD_supp.describe()\n"
   ]
  },
  {
   "cell_type": "code",
   "execution_count": 110,
   "id": "5740849b-ad85-4566-9113-3a82b378ef5c",
   "metadata": {
    "tags": []
   },
   "outputs": [],
   "source": [
    "df['VitD_supp_zscore'] = statistics.NormalDist(mu=0.3989, sigma=0.628505).zscore(df.VitD_supp)"
   ]
  },
  {
   "cell_type": "code",
   "execution_count": 111,
   "id": "e280c736-5dfd-472c-9859-3cd5322a8be8",
   "metadata": {
    "tags": []
   },
   "outputs": [
    {
     "data": {
      "image/png": "[encoded data removed]",
      "text/plain": [
       "<Figure size 640x480 with 1 Axes>"
      ]
     },
     "metadata": {},
     "output_type": "display_data"
    },
    {
     "data": {
      "image/png": "[encoded data removed]",
      "text/plain": [
       "<Figure size 640x480 with 1 Axes>"
      ]
     },
     "metadata": {},
     "output_type": "display_data"
    }
   ],
   "source": [
    "plt.hist(df['VitD_supp_zscore'])\n",
    "plt.show()\n",
    "\n",
    "seaborn.boxplot(data=df.VitD_supp_zscore.values, width=0.3, fliersize=2, whis=1.5);"
   ]
  },
  {
   "cell_type": "code",
   "execution_count": 112,
   "id": "7f2ec726-e0d5-4404-9741-c02572275cb8",
   "metadata": {
    "tags": []
   },
   "outputs": [
    {
     "name": "stdout",
     "output_type": "stream",
     "text": [
      "<class 'pandas.core.frame.DataFrame'>\n",
      "Index: 70 entries, 63 to 9983\n",
      "Data columns (total 62 columns):\n",
      " #   Column                   Non-Null Count  Dtype  \n",
      "---  ------                   --------------  -----  \n",
      " 0   CaseOrder                70 non-null     int64  \n",
      " 1   Customer_id              70 non-null     object \n",
      " 2   Interaction              70 non-null     object \n",
      " 3   UID                      70 non-null     object \n",
      " 4   City                     70 non-null     object \n",
      " 5   State                    70 non-null     object \n",
      " 6   County                   70 non-null     object \n",
      " 7   Zip                      70 non-null     int64  \n",
      " 8   Lat                      70 non-null     float64\n",
      " 9   Lng                      70 non-null     float64\n",
      " 10  Population               70 non-null     int64  \n",
      " 11  Area                     70 non-null     object \n",
      " 12  Timezone                 70 non-null     object \n",
      " 13  Job                      70 non-null     object \n",
      " 14  Children                 47 non-null     float64\n",
      " 15  Age                      49 non-null     float64\n",
      " 16  Education                70 non-null     object \n",
      " 17  Employment               70 non-null     object \n",
      " 18  Income                   56 non-null     float64\n",
      " 19  Marital                  70 non-null     object \n",
      " 20  Gender                   70 non-null     object \n",
      " 21  ReAdmis                  70 non-null     object \n",
      " 22  VitD_levels              70 non-null     float64\n",
      " 23  Doc_visits               70 non-null     int64  \n",
      " 24  Full_meals_eaten         70 non-null     int64  \n",
      " 25  VitD_supp                70 non-null     int64  \n",
      " 26  Soft_drink               56 non-null     object \n",
      " 27  Initial_admin            70 non-null     object \n",
      " 28  HighBlood                70 non-null     object \n",
      " 29  Stroke                   70 non-null     object \n",
      " 30  Complication_risk        70 non-null     object \n",
      " 31  Overweight               62 non-null     float64\n",
      " 32  Arthritis                70 non-null     object \n",
      " 33  Diabetes                 70 non-null     object \n",
      " 34  Hyperlipidemia           70 non-null     object \n",
      " 35  BackPain                 70 non-null     object \n",
      " 36  Anxiety                  68 non-null     float64\n",
      " 37  Allergic_rhinitis        70 non-null     object \n",
      " 38  Reflux_esophagitis       70 non-null     object \n",
      " 39  Asthma                   70 non-null     object \n",
      " 40  Services                 70 non-null     object \n",
      " 41  Initial_days             56 non-null     float64\n",
      " 42  TotalCharge              70 non-null     float64\n",
      " 43  Additional_charges       70 non-null     float64\n",
      " 44  Item1                    70 non-null     int64  \n",
      " 45  Item2                    70 non-null     int64  \n",
      " 46  Item3                    70 non-null     int64  \n",
      " 47  Item4                    70 non-null     int64  \n",
      " 48  Item5                    70 non-null     int64  \n",
      " 49  Item6                    70 non-null     int64  \n",
      " 50  Item7                    70 non-null     int64  \n",
      " 51  Item8                    70 non-null     int64  \n",
      " 52  Lat_zscore               70 non-null     float64\n",
      " 53  Lng_zscore               70 non-null     float64\n",
      " 54  Population_zscore        70 non-null     float64\n",
      " 55  Children_zscore          47 non-null     float64\n",
      " 56  Age_zscore               49 non-null     float64\n",
      " 57  Income_zscore            56 non-null     float64\n",
      " 58  VitD_levels_zscore       70 non-null     float64\n",
      " 59  Doc_visits_zscore        70 non-null     float64\n",
      " 60  Full_meals_eaten_zscore  70 non-null     float64\n",
      " 61  VitD_supp_zscore         70 non-null     float64\n",
      "dtypes: float64(21), int64(14), object(27)\n",
      "memory usage: 34.5+ KB\n"
     ]
    }
   ],
   "source": [
    "VitD_supp_query = df.query('VitD_supp_zscore > 3')\n",
    "VitD_supp_query.info()\n",
    "\n",
    "#  70 entries"
   ]
  },
  {
   "cell_type": "code",
   "execution_count": 113,
   "id": "6814c541-7e46-445a-8cf2-aef88f9a150c",
   "metadata": {
    "tags": []
   },
   "outputs": [
    {
     "data": {
      "text/plain": [
       "count    70.000000\n",
       "mean      3.100000\n",
       "std       0.346828\n",
       "min       3.000000\n",
       "25%       3.000000\n",
       "50%       3.000000\n",
       "75%       3.000000\n",
       "max       5.000000\n",
       "Name: VitD_supp, dtype: float64"
      ]
     },
     "execution_count": 113,
     "metadata": {},
     "output_type": "execute_result"
    }
   ],
   "source": [
    "VitD_supp_query.VitD_supp.describe()"
   ]
  },
  {
   "cell_type": "code",
   "execution_count": 114,
   "id": "c8a58ec4-004e-4722-a73d-27ff9b4836f1",
   "metadata": {
    "tags": []
   },
   "outputs": [
    {
     "data": {
      "text/plain": [
       "count    8944.000000\n",
       "mean       34.432082\n",
       "std        26.287050\n",
       "min         1.001981\n",
       "25%         7.911709\n",
       "50%        34.446941\n",
       "75%        61.124654\n",
       "max        71.981486\n",
       "Name: Initial_days, dtype: float64"
      ]
     },
     "execution_count": 114,
     "metadata": {},
     "output_type": "execute_result"
    }
   ],
   "source": [
    "df.Initial_days.describe()"
   ]
  },
  {
   "cell_type": "code",
   "execution_count": 115,
   "id": "658203be-1394-4c85-8bbc-09385ec16dfd",
   "metadata": {
    "tags": []
   },
   "outputs": [],
   "source": [
    "df['Initial_days_zscore'] = statistics.NormalDist(mu=34.432082, sigma=26.28705).zscore(df.Initial_days)"
   ]
  },
  {
   "cell_type": "code",
   "execution_count": 116,
   "id": "50213c8b-642c-44b9-b2a2-eee57e59fb38",
   "metadata": {
    "tags": []
   },
   "outputs": [
    {
     "data": {
      "image/png": "[encoded data removed]",
      "text/plain": [
       "<Figure size 640x480 with 1 Axes>"
      ]
     },
     "metadata": {},
     "output_type": "display_data"
    },
    {
     "data": {
      "image/png": "[encoded data removed]",
      "text/plain": [
       "<Figure size 640x480 with 1 Axes>"
      ]
     },
     "metadata": {},
     "output_type": "display_data"
    }
   ],
   "source": [
    "plt.hist(df['Initial_days_zscore'])\n",
    "plt.show()\n",
    "\n",
    "seaborn.boxplot(data=df.Initial_days_zscore.values, width=0.3, fliersize=2, whis=1.5);"
   ]
  },
  {
   "cell_type": "code",
   "execution_count": 117,
   "id": "495f8480-5774-4314-8246-1d9cf6600929",
   "metadata": {
    "tags": []
   },
   "outputs": [
    {
     "data": {
      "text/plain": [
       "count    10000.000000\n",
       "mean      5891.538261\n",
       "std       3377.558136\n",
       "min       1256.751699\n",
       "25%       3253.239465\n",
       "50%       5852.250564\n",
       "75%       7614.989701\n",
       "max      21524.224210\n",
       "Name: TotalCharge, dtype: float64"
      ]
     },
     "execution_count": 117,
     "metadata": {},
     "output_type": "execute_result"
    }
   ],
   "source": [
    "df.TotalCharge.describe()"
   ]
  },
  {
   "cell_type": "code",
   "execution_count": 118,
   "id": "9ab8d3fc-b3a3-43c1-aa4c-0378ff9025bf",
   "metadata": {
    "tags": []
   },
   "outputs": [],
   "source": [
    "df['TotalCharge_zscore'] = statistics.NormalDist(mu=5891.538261, sigma=3377.558136).zscore(df.TotalCharge)"
   ]
  },
  {
   "cell_type": "code",
   "execution_count": 119,
   "id": "0ee3adfd-bc89-4033-b9c2-218552e64691",
   "metadata": {
    "tags": []
   },
   "outputs": [
    {
     "data": {
      "image/png": "[encoded data removed]",
      "text/plain": [
       "<Figure size 640x480 with 1 Axes>"
      ]
     },
     "metadata": {},
     "output_type": "display_data"
    },
    {
     "data": {
      "image/png": "[encoded data removed]",
      "text/plain": [
       "<Figure size 640x480 with 1 Axes>"
      ]
     },
     "metadata": {},
     "output_type": "display_data"
    }
   ],
   "source": [
    "plt.hist(df['TotalCharge_zscore'])\n",
    "plt.show()\n",
    "\n",
    "seaborn.boxplot(data=df.TotalCharge_zscore.values, width=0.3, fliersize=2, whis=1.5);"
   ]
  },
  {
   "cell_type": "code",
   "execution_count": 120,
   "id": "1c327482-1503-4ea3-be23-e6401ed29c5b",
   "metadata": {
    "tags": []
   },
   "outputs": [
    {
     "name": "stdout",
     "output_type": "stream",
     "text": [
      "<class 'pandas.core.frame.DataFrame'>\n",
      "Index: 276 entries, 528 to 9974\n",
      "Data columns (total 64 columns):\n",
      " #   Column                   Non-Null Count  Dtype  \n",
      "---  ------                   --------------  -----  \n",
      " 0   CaseOrder                276 non-null    int64  \n",
      " 1   Customer_id              276 non-null    object \n",
      " 2   Interaction              276 non-null    object \n",
      " 3   UID                      276 non-null    object \n",
      " 4   City                     276 non-null    object \n",
      " 5   State                    276 non-null    object \n",
      " 6   County                   276 non-null    object \n",
      " 7   Zip                      276 non-null    int64  \n",
      " 8   Lat                      276 non-null    float64\n",
      " 9   Lng                      276 non-null    float64\n",
      " 10  Population               276 non-null    int64  \n",
      " 11  Area                     276 non-null    object \n",
      " 12  Timezone                 276 non-null    object \n",
      " 13  Job                      276 non-null    object \n",
      " 14  Children                 202 non-null    float64\n",
      " 15  Age                      220 non-null    float64\n",
      " 16  Education                276 non-null    object \n",
      " 17  Employment               276 non-null    object \n",
      " 18  Income                   203 non-null    float64\n",
      " 19  Marital                  276 non-null    object \n",
      " 20  Gender                   276 non-null    object \n",
      " 21  ReAdmis                  276 non-null    object \n",
      " 22  VitD_levels              276 non-null    float64\n",
      " 23  Doc_visits               276 non-null    int64  \n",
      " 24  Full_meals_eaten         276 non-null    int64  \n",
      " 25  VitD_supp                276 non-null    int64  \n",
      " 26  Soft_drink               213 non-null    object \n",
      " 27  Initial_admin            276 non-null    object \n",
      " 28  HighBlood                276 non-null    object \n",
      " 29  Stroke                   276 non-null    object \n",
      " 30  Complication_risk        276 non-null    object \n",
      " 31  Overweight               252 non-null    float64\n",
      " 32  Arthritis                276 non-null    object \n",
      " 33  Diabetes                 276 non-null    object \n",
      " 34  Hyperlipidemia           276 non-null    object \n",
      " 35  BackPain                 276 non-null    object \n",
      " 36  Anxiety                  243 non-null    float64\n",
      " 37  Allergic_rhinitis        276 non-null    object \n",
      " 38  Reflux_esophagitis       276 non-null    object \n",
      " 39  Asthma                   276 non-null    object \n",
      " 40  Services                 276 non-null    object \n",
      " 41  Initial_days             238 non-null    float64\n",
      " 42  TotalCharge              276 non-null    float64\n",
      " 43  Additional_charges       276 non-null    float64\n",
      " 44  Item1                    276 non-null    int64  \n",
      " 45  Item2                    276 non-null    int64  \n",
      " 46  Item3                    276 non-null    int64  \n",
      " 47  Item4                    276 non-null    int64  \n",
      " 48  Item5                    276 non-null    int64  \n",
      " 49  Item6                    276 non-null    int64  \n",
      " 50  Item7                    276 non-null    int64  \n",
      " 51  Item8                    276 non-null    int64  \n",
      " 52  Lat_zscore               276 non-null    float64\n",
      " 53  Lng_zscore               276 non-null    float64\n",
      " 54  Population_zscore        276 non-null    float64\n",
      " 55  Children_zscore          202 non-null    float64\n",
      " 56  Age_zscore               220 non-null    float64\n",
      " 57  Income_zscore            203 non-null    float64\n",
      " 58  VitD_levels_zscore       276 non-null    float64\n",
      " 59  Doc_visits_zscore        276 non-null    float64\n",
      " 60  Full_meals_eaten_zscore  276 non-null    float64\n",
      " 61  VitD_supp_zscore         276 non-null    float64\n",
      " 62  Initial_days_zscore      238 non-null    float64\n",
      " 63  TotalCharge_zscore       276 non-null    float64\n",
      "dtypes: float64(23), int64(14), object(27)\n",
      "memory usage: 140.2+ KB\n"
     ]
    }
   ],
   "source": [
    "TotalCharge_query = df.query('TotalCharge_zscore > 3')\n",
    "TotalCharge_query.info()\n",
    "# 276 entries"
   ]
  },
  {
   "cell_type": "code",
   "execution_count": 121,
   "id": "c9cfd06a-9c02-465b-8782-116a238fbbf9",
   "metadata": {
    "tags": []
   },
   "outputs": [
    {
     "data": {
      "text/plain": [
       "count      276.000000\n",
       "mean     18862.987055\n",
       "std       1052.013576\n",
       "min      16053.462880\n",
       "25%      18315.537830\n",
       "50%      18983.908835\n",
       "75%      19607.727452\n",
       "max      21524.224210\n",
       "Name: TotalCharge, dtype: float64"
      ]
     },
     "execution_count": 121,
     "metadata": {},
     "output_type": "execute_result"
    }
   ],
   "source": [
    "TotalCharge_query.TotalCharge.describe()"
   ]
  },
  {
   "cell_type": "code",
   "execution_count": 122,
   "id": "ef15175c-750f-4e64-8c77-6cb54dbc08e0",
   "metadata": {
    "tags": []
   },
   "outputs": [
    {
     "data": {
      "text/plain": [
       "count    10000.000000\n",
       "mean     12934.528586\n",
       "std       6542.601544\n",
       "min       3125.702716\n",
       "25%       7986.487642\n",
       "50%      11573.979365\n",
       "75%      15626.491033\n",
       "max      30566.073130\n",
       "Name: Additional_charges, dtype: float64"
      ]
     },
     "execution_count": 122,
     "metadata": {},
     "output_type": "execute_result"
    }
   ],
   "source": [
    "df.Additional_charges.describe()\n"
   ]
  },
  {
   "cell_type": "code",
   "execution_count": 123,
   "id": "3967abe5-bbd1-4e64-a494-6fac8a106e57",
   "metadata": {
    "tags": []
   },
   "outputs": [],
   "source": [
    "df['Additional_charges_zscore'] = statistics.NormalDist(mu=12934.528586, sigma=6542.601544).zscore(df.Additional_charges)"
   ]
  },
  {
   "cell_type": "code",
   "execution_count": 124,
   "id": "caf397f7-1235-429c-8b95-9035457c96b4",
   "metadata": {
    "tags": []
   },
   "outputs": [
    {
     "data": {
      "image/png": "[encoded data removed]",
      "text/plain": [
       "<Figure size 640x480 with 1 Axes>"
      ]
     },
     "metadata": {},
     "output_type": "display_data"
    },
    {
     "data": {
      "image/png": "[encoded data removed]",
      "text/plain": [
       "<Figure size 640x480 with 1 Axes>"
      ]
     },
     "metadata": {},
     "output_type": "display_data"
    }
   ],
   "source": [
    "plt.hist(df['Additional_charges_zscore'])\n",
    "plt.show()\n",
    "\n",
    "seaborn.boxplot(data=df.Additional_charges_zscore.values, width=0.3, fliersize=2, whis=1.5);"
   ]
  },
  {
   "cell_type": "code",
   "execution_count": 125,
   "id": "04248be4-a91a-4f4d-aa49-bce9df4f28fb",
   "metadata": {
    "tags": []
   },
   "outputs": [
    {
     "name": "stdout",
     "output_type": "stream",
     "text": [
      "<class 'pandas.core.frame.DataFrame'>\n",
      "Index: 0 entries\n",
      "Data columns (total 65 columns):\n",
      " #   Column                     Non-Null Count  Dtype  \n",
      "---  ------                     --------------  -----  \n",
      " 0   CaseOrder                  0 non-null      int64  \n",
      " 1   Customer_id                0 non-null      object \n",
      " 2   Interaction                0 non-null      object \n",
      " 3   UID                        0 non-null      object \n",
      " 4   City                       0 non-null      object \n",
      " 5   State                      0 non-null      object \n",
      " 6   County                     0 non-null      object \n",
      " 7   Zip                        0 non-null      int64  \n",
      " 8   Lat                        0 non-null      float64\n",
      " 9   Lng                        0 non-null      float64\n",
      " 10  Population                 0 non-null      int64  \n",
      " 11  Area                       0 non-null      object \n",
      " 12  Timezone                   0 non-null      object \n",
      " 13  Job                        0 non-null      object \n",
      " 14  Children                   0 non-null      float64\n",
      " 15  Age                        0 non-null      float64\n",
      " 16  Education                  0 non-null      object \n",
      " 17  Employment                 0 non-null      object \n",
      " 18  Income                     0 non-null      float64\n",
      " 19  Marital                    0 non-null      object \n",
      " 20  Gender                     0 non-null      object \n",
      " 21  ReAdmis                    0 non-null      object \n",
      " 22  VitD_levels                0 non-null      float64\n",
      " 23  Doc_visits                 0 non-null      int64  \n",
      " 24  Full_meals_eaten           0 non-null      int64  \n",
      " 25  VitD_supp                  0 non-null      int64  \n",
      " 26  Soft_drink                 0 non-null      object \n",
      " 27  Initial_admin              0 non-null      object \n",
      " 28  HighBlood                  0 non-null      object \n",
      " 29  Stroke                     0 non-null      object \n",
      " 30  Complication_risk          0 non-null      object \n",
      " 31  Overweight                 0 non-null      float64\n",
      " 32  Arthritis                  0 non-null      object \n",
      " 33  Diabetes                   0 non-null      object \n",
      " 34  Hyperlipidemia             0 non-null      object \n",
      " 35  BackPain                   0 non-null      object \n",
      " 36  Anxiety                    0 non-null      float64\n",
      " 37  Allergic_rhinitis          0 non-null      object \n",
      " 38  Reflux_esophagitis         0 non-null      object \n",
      " 39  Asthma                     0 non-null      object \n",
      " 40  Services                   0 non-null      object \n",
      " 41  Initial_days               0 non-null      float64\n",
      " 42  TotalCharge                0 non-null      float64\n",
      " 43  Additional_charges         0 non-null      float64\n",
      " 44  Item1                      0 non-null      int64  \n",
      " 45  Item2                      0 non-null      int64  \n",
      " 46  Item3                      0 non-null      int64  \n",
      " 47  Item4                      0 non-null      int64  \n",
      " 48  Item5                      0 non-null      int64  \n",
      " 49  Item6                      0 non-null      int64  \n",
      " 50  Item7                      0 non-null      int64  \n",
      " 51  Item8                      0 non-null      int64  \n",
      " 52  Lat_zscore                 0 non-null      float64\n",
      " 53  Lng_zscore                 0 non-null      float64\n",
      " 54  Population_zscore          0 non-null      float64\n",
      " 55  Children_zscore            0 non-null      float64\n",
      " 56  Age_zscore                 0 non-null      float64\n",
      " 57  Income_zscore              0 non-null      float64\n",
      " 58  VitD_levels_zscore         0 non-null      float64\n",
      " 59  Doc_visits_zscore          0 non-null      float64\n",
      " 60  Full_meals_eaten_zscore    0 non-null      float64\n",
      " 61  VitD_supp_zscore           0 non-null      float64\n",
      " 62  Initial_days_zscore        0 non-null      float64\n",
      " 63  TotalCharge_zscore         0 non-null      float64\n",
      " 64  Additional_charges_zscore  0 non-null      float64\n",
      "dtypes: float64(24), int64(14), object(27)\n",
      "memory usage: 0.0+ bytes\n"
     ]
    }
   ],
   "source": [
    "Additional_charges_query = df.query('Additional_charges_zscore > 3')\n",
    "Additional_charges_query.info()\n",
    "\n",
    "# 0 outliers"
   ]
  },
  {
   "cell_type": "code",
   "execution_count": 126,
   "id": "5eedb012-f6da-4d33-857b-1e42800b0c1e",
   "metadata": {
    "tags": []
   },
   "outputs": [
    {
     "data": {
      "text/plain": [
       "count    0.0\n",
       "mean     NaN\n",
       "std      NaN\n",
       "min      NaN\n",
       "25%      NaN\n",
       "50%      NaN\n",
       "75%      NaN\n",
       "max      NaN\n",
       "Name: Additional_charges, dtype: float64"
      ]
     },
     "execution_count": 126,
     "metadata": {},
     "output_type": "execute_result"
    }
   ],
   "source": [
    "Additional_charges_query.Additional_charges.describe()"
   ]
  },
  {
   "cell_type": "code",
   "execution_count": 127,
   "id": "622d2118-716a-44e5-92a2-f2ef0193f374",
   "metadata": {},
   "outputs": [],
   "source": [
    "# End detection phase\n",
    "# Begin cleaning phase"
   ]
  },
  {
   "cell_type": "code",
   "execution_count": 128,
   "id": "161e3f99-c625-482c-bb61-833581d40263",
   "metadata": {
    "tags": []
   },
   "outputs": [],
   "source": [
    "#  Setting Zip to str and filling front digits with 0s up to 5 digits to create accurate, functional Zip codes\n",
    "df['Zip'] = df['Zip'].astype(\"str\").str.zfill(5)"
   ]
  },
  {
   "cell_type": "code",
   "execution_count": 129,
   "id": "f3484e27-658c-4d9d-bdc9-4da393ba1e18",
   "metadata": {
    "tags": []
   },
   "outputs": [],
   "source": [
    "# Renaming to match data dictionary\n",
    "df['Area'] = df['Area'].map({'Rural': 'rural', 'Urban': 'urban', 'Suburban': 'suburban'})"
   ]
  },
  {
   "cell_type": "code",
   "execution_count": 130,
   "id": "67408bc3-008e-49c6-a891-63ff38e86336",
   "metadata": {
    "tags": []
   },
   "outputs": [],
   "source": [
    "# Timezone renamed TimeZone per data dictionary by using rename in pandas\n",
    "df.rename(columns={'Timezone': 'TimeZone'}, inplace=True)"
   ]
  },
  {
   "cell_type": "code",
   "execution_count": 131,
   "id": "6b2daf08-daa0-4f5b-ad75-aaa3a669b2dc",
   "metadata": {
    "tags": []
   },
   "outputs": [],
   "source": [
    "# Children Data mismatch -  Had to fill in NAs with 0s before changing float64 to Int64\n",
    "# Children Missing data - Simply replaced with 0\n",
    "df['Children'] = df['Children'].fillna(0).astype(np.int64)"
   ]
  },
  {
   "cell_type": "code",
   "execution_count": 132,
   "id": "4357a287-99dc-4635-8eb6-eac6e34cc55e",
   "metadata": {},
   "outputs": [],
   "source": [
    "#  Age data type mismatch - changing to Int64\n",
    "#  Missing values, Int64 allows dealing with NA"
   ]
  },
  {
   "cell_type": "code",
   "execution_count": 133,
   "id": "038b31f4-7e95-4979-bad1-b4dfe3cb2bc9",
   "metadata": {},
   "outputs": [],
   "source": [
    "df['Age'] = df['Age'].astype(\"Int64\")\n",
    "df['Age'].fillna(df['Age'].median(), inplace=True)"
   ]
  },
  {
   "cell_type": "code",
   "execution_count": 134,
   "id": "7b65ac7a-a727-44bc-8522-7e65397a8209",
   "metadata": {
    "tags": []
   },
   "outputs": [],
   "source": [
    "#  Setting outliers to NaN\n",
    "df['Income'] = np.where(df['Income'] > 127029, np.nan, df['Income'])\n"
   ]
  },
  {
   "cell_type": "code",
   "execution_count": 135,
   "id": "bda5e52e-f3de-4072-89a0-160a67c738ee",
   "metadata": {
    "tags": []
   },
   "outputs": [],
   "source": [
    "#  Setting NaN outliers to Median value\n",
    "df['Income'].fillna(df['Income'].median(), inplace=True)"
   ]
  },
  {
   "cell_type": "code",
   "execution_count": 136,
   "id": "1c7a8d76-4bb7-4274-9470-16750e672513",
   "metadata": {
    "tags": []
   },
   "outputs": [],
   "source": [
    "#  Changed data type to int64\n",
    "df['Income'] = np.int64(df['Income'])"
   ]
  },
  {
   "cell_type": "code",
   "execution_count": 137,
   "id": "887e8c27-d5b1-48c4-822a-ecdeccbc7ff8",
   "metadata": {
    "tags": []
   },
   "outputs": [],
   "source": [
    "# Change 'Prefer not to answer' to 'nonbinary' as per data dictionary\n",
    "# Change Male and Female to lowercase to match data dictionary\n",
    "df['Gender'] = df['Gender'].map({'Male': 'male', 'Female': 'female', 'Prefer not to answer': 'nonbinary'})\n"
   ]
  },
  {
   "cell_type": "code",
   "execution_count": 138,
   "id": "6d5de474-4259-465a-985b-f81c72a43018",
   "metadata": {
    "tags": []
   },
   "outputs": [],
   "source": [
    "# Remap Yes/No to yes/no per data dictionary\n",
    "df['ReAdmis'] = df['ReAdmis'].map({'Yes':'yes', 'No':'no'})"
   ]
  },
  {
   "cell_type": "code",
   "execution_count": 139,
   "id": "9735edc3-ae64-47ff-84b9-0ca4a73b205c",
   "metadata": {
    "tags": []
   },
   "outputs": [],
   "source": [
    "#  Null values rows filled with No to become no\n",
    "df.Soft_drink.fillna('No', inplace=True)"
   ]
  },
  {
   "cell_type": "code",
   "execution_count": 140,
   "id": "6100acc0-0bb6-4ed0-ad9f-71693218d0bc",
   "metadata": {
    "tags": []
   },
   "outputs": [],
   "source": [
    "#  Soft drink changed from Yes / No to yes/no per data dictionary\n",
    "df['Soft_drink'] = df['Soft_drink'].map({'Yes': 'yes', 'No': 'no'})\n"
   ]
  },
  {
   "cell_type": "code",
   "execution_count": 141,
   "id": "087709b5-1f48-459b-9e3e-ea373c7cc5fb",
   "metadata": {
    "tags": []
   },
   "outputs": [],
   "source": [
    "#  Changing phrases and words to match data dictionary\n",
    "df['Initial_admin'] = df['Initial_admin'].map({'Emergency Admission': 'emergency admission', 'Elective Admission': 'elective admission', 'Observation Admission': 'observation'})\n"
   ]
  },
  {
   "cell_type": "code",
   "execution_count": 142,
   "id": "3bebb149-a8d8-4181-9a44-1033a6accba2",
   "metadata": {
    "tags": []
   },
   "outputs": [],
   "source": [
    "#  Yes/No to yes/no data dictionary\n",
    "df['HighBlood'] = df['HighBlood'].map({'Yes': 'yes', 'No': 'no'})\n"
   ]
  },
  {
   "cell_type": "code",
   "execution_count": 143,
   "id": "3ba69c95-1c23-40da-a5f1-42cb261c34bb",
   "metadata": {
    "tags": []
   },
   "outputs": [],
   "source": [
    "#  Changing Yes/No to yes/no\n",
    "df['Stroke'] = df['Stroke'].map({'Yes': 'yes', 'No': 'no'})\n"
   ]
  },
  {
   "cell_type": "code",
   "execution_count": 144,
   "id": "ddce44c2-8ab6-4b64-a92b-ff782793679c",
   "metadata": {
    "tags": []
   },
   "outputs": [],
   "source": [
    "#  Changed to lowercase per data dictionary\n",
    "df['Complication_risk'] = df['Complication_risk'].map({'High': 'high', 'Medium': 'medium', 'Low':'low'})\n"
   ]
  },
  {
   "cell_type": "code",
   "execution_count": 145,
   "id": "5f2c9471-c145-4455-9fa6-158195ca692c",
   "metadata": {
    "tags": []
   },
   "outputs": [],
   "source": [
    "#  Data type mismatch Overweight float64 to Int64\n",
    "#  Replace null values with No\n",
    "#  Changed 1,0s to yes,no\n",
    "df['Overweight'] = df['Overweight'].fillna(0).astype('Int64')"
   ]
  },
  {
   "cell_type": "code",
   "execution_count": 146,
   "id": "c49dd1ca-bb72-4599-9cd4-9b2bece3fe00",
   "metadata": {
    "tags": []
   },
   "outputs": [],
   "source": [
    "df['Overweight'] = df['Overweight'].astype(str)\n",
    "df.Overweight.replace({'1':'yes', '0':'no'}, inplace=True)"
   ]
  },
  {
   "cell_type": "code",
   "execution_count": 147,
   "id": "57d36fd3-fc68-497e-a8a3-e3a1047602f2",
   "metadata": {
    "tags": []
   },
   "outputs": [],
   "source": [
    "#  Yes/No replaced with yes/no\n",
    "df['Arthritis'] = df['Arthritis'].map({'Yes': 'yes', 'No': 'no'})\n"
   ]
  },
  {
   "cell_type": "code",
   "execution_count": 148,
   "id": "60da6d6b-1553-416b-99d2-223034ebec11",
   "metadata": {
    "tags": []
   },
   "outputs": [],
   "source": [
    "#  Converting Yes/No to yes/no\n",
    "df['Diabetes'] = df['Diabetes'].map({'Yes': 'yes', 'No': 'no'})\n"
   ]
  },
  {
   "cell_type": "code",
   "execution_count": 149,
   "id": "ee42465b-4d82-45fa-8cb8-668479d8abb8",
   "metadata": {
    "tags": []
   },
   "outputs": [],
   "source": [
    "#  Yes/No yes/no replacement\n",
    "df['Hyperlipidemia'] = df['Hyperlipidemia'].map({'Yes': 'yes', 'No': 'no'})\n"
   ]
  },
  {
   "cell_type": "code",
   "execution_count": 150,
   "id": "d376f2fe-65fc-49db-ae02-7d28aa57c89a",
   "metadata": {
    "tags": []
   },
   "outputs": [],
   "source": [
    "# Yes/No to yes/no\n",
    "df['BackPain'] = df['BackPain'].map({'Yes': 'yes', 'No': 'no'})\n"
   ]
  },
  {
   "cell_type": "code",
   "execution_count": 151,
   "id": "7a83f6d3-301c-461d-8ad2-dae718ef4c4f",
   "metadata": {
    "tags": []
   },
   "outputs": [],
   "source": [
    "#  Data type to Int64\n",
    "#  Replace null values with 0\n",
    "df['Anxiety'] = df['Anxiety'].fillna(0).astype('Int64')"
   ]
  },
  {
   "cell_type": "code",
   "execution_count": 152,
   "id": "7d75dbe3-3de2-448f-bdd7-ed59914e4564",
   "metadata": {
    "tags": []
   },
   "outputs": [],
   "source": [
    "# Remap values from 1,0 to yes/no\n",
    "df['Anxiety'] = df['Anxiety'].astype(str)\n",
    "df.Anxiety.replace({'1':'yes', '0':'no'}, inplace=True)"
   ]
  },
  {
   "cell_type": "code",
   "execution_count": 153,
   "id": "bf35f196-078d-4367-aefa-8dd72a9e6fc9",
   "metadata": {
    "tags": []
   },
   "outputs": [],
   "source": [
    "#  Changed Yes/No to yes/no\n",
    "df['Allergic_rhinitis'] = df['Allergic_rhinitis'].map({'Yes': 'yes', 'No': 'no'})\n"
   ]
  },
  {
   "cell_type": "code",
   "execution_count": 154,
   "id": "0f239858-58bb-48b9-bfa4-da257b727632",
   "metadata": {
    "tags": []
   },
   "outputs": [],
   "source": [
    "#  Changed Yes/No to yes/no\n",
    "df['Reflux_esophagitis'] = df['Reflux_esophagitis'].map({'Yes': 'yes', 'No': 'no'})\n"
   ]
  },
  {
   "cell_type": "code",
   "execution_count": 155,
   "id": "a498885d-1a1a-4d0c-907f-e2f98799ff35",
   "metadata": {
    "tags": []
   },
   "outputs": [],
   "source": [
    "#  Yes/No to yes/no\n",
    "df['Asthma'] = df['Asthma'].map({'Yes': 'yes', 'No': 'no'})\n",
    "\n"
   ]
  },
  {
   "cell_type": "code",
   "execution_count": 156,
   "id": "110431ce-bdab-41cd-8c01-5e4fd2bf505f",
   "metadata": {
    "tags": []
   },
   "outputs": [],
   "source": [
    "# Remapping Blood Work and Intravenous with lower case per data dictionary\n",
    "df['Services'] = df['Services'].map({'Blood Work': 'blood work', 'Intravenous': 'intravenous', 'CT Scan': 'CT scan', 'MRI': 'MRI'})\n"
   ]
  },
  {
   "cell_type": "code",
   "execution_count": 157,
   "id": "92447fb0-fefb-48e4-a367-63093beb5851",
   "metadata": {
    "tags": []
   },
   "outputs": [],
   "source": [
    "#  Dropping null values rows\n",
    "df['Initial_days'] = np.where(df['Initial_days'] == '', np.nan, df['Initial_days'])\n"
   ]
  },
  {
   "cell_type": "code",
   "execution_count": 158,
   "id": "4e921226-900b-4a83-9489-aeab95bab840",
   "metadata": {
    "tags": []
   },
   "outputs": [],
   "source": [
    "#  Filling null values with median\n",
    "df['Initial_days'].fillna(df['Initial_days'].median(), inplace=True)\n"
   ]
  },
  {
   "cell_type": "code",
   "execution_count": 159,
   "id": "3bd86a64-4a17-4ee0-bd2f-7958d42f0abf",
   "metadata": {},
   "outputs": [],
   "source": [
    "#  Rounding all floats in data set to 2 decimal places for readability without losing functionality (SOURCE)\n",
    "for col in df.columns:\n",
    "    if isinstance(df[col].iloc[0], float):\n",
    "        df[col] = df[col].apply(lambda x: round(x, 2))"
   ]
  },
  {
   "cell_type": "code",
   "execution_count": 160,
   "id": "6d1b4edf-4f58-496b-97d7-5b2d38a389c8",
   "metadata": {},
   "outputs": [
    {
     "data": {
      "text/html": [
       "<div>\n",
       "<style scoped>\n",
       "    .dataframe tbody tr th:only-of-type {\n",
       "        vertical-align: middle;\n",
       "    }\n",
       "\n",
       "    .dataframe tbody tr th {\n",
       "        vertical-align: top;\n",
       "    }\n",
       "\n",
       "    .dataframe thead th {\n",
       "        text-align: right;\n",
       "    }\n",
       "</style>\n",
       "<table border=\"1\" class=\"dataframe\">\n",
       "  <thead>\n",
       "    <tr style=\"text-align: right;\">\n",
       "      <th></th>\n",
       "      <th>CaseOrder</th>\n",
       "      <th>Customer_id</th>\n",
       "      <th>Interaction</th>\n",
       "      <th>UID</th>\n",
       "      <th>City</th>\n",
       "      <th>State</th>\n",
       "      <th>County</th>\n",
       "      <th>Zip</th>\n",
       "      <th>Lat</th>\n",
       "      <th>Lng</th>\n",
       "      <th>...</th>\n",
       "      <th>Children_zscore</th>\n",
       "      <th>Age_zscore</th>\n",
       "      <th>Income_zscore</th>\n",
       "      <th>VitD_levels_zscore</th>\n",
       "      <th>Doc_visits_zscore</th>\n",
       "      <th>Full_meals_eaten_zscore</th>\n",
       "      <th>VitD_supp_zscore</th>\n",
       "      <th>Initial_days_zscore</th>\n",
       "      <th>TotalCharge_zscore</th>\n",
       "      <th>Additional_charges_zscore</th>\n",
       "    </tr>\n",
       "  </thead>\n",
       "  <tbody>\n",
       "    <tr>\n",
       "      <th>1</th>\n",
       "      <td>1</td>\n",
       "      <td>C412403</td>\n",
       "      <td>8cd49b13-f45a-4b47-a2bd-173ffa932c2f</td>\n",
       "      <td>3a83ddb66e2ae73798bdf1d705dc0932</td>\n",
       "      <td>Eva</td>\n",
       "      <td>AL</td>\n",
       "      <td>Morgan</td>\n",
       "      <td>35621</td>\n",
       "      <td>34.35</td>\n",
       "      <td>-86.73</td>\n",
       "      <td>...</td>\n",
       "      <td>-0.46</td>\n",
       "      <td>-0.01</td>\n",
       "      <td>1.61</td>\n",
       "      <td>-0.24</td>\n",
       "      <td>0.94</td>\n",
       "      <td>-0.99</td>\n",
       "      <td>-0.63</td>\n",
       "      <td>-0.91</td>\n",
       "      <td>-0.80</td>\n",
       "      <td>0.76</td>\n",
       "    </tr>\n",
       "    <tr>\n",
       "      <th>2</th>\n",
       "      <td>2</td>\n",
       "      <td>Z919181</td>\n",
       "      <td>d2450b70-0337-4406-bdbb-bc1037f1734c</td>\n",
       "      <td>176354c5eef714957d486009feabf195</td>\n",
       "      <td>Marianna</td>\n",
       "      <td>FL</td>\n",
       "      <td>Jackson</td>\n",
       "      <td>32446</td>\n",
       "      <td>30.85</td>\n",
       "      <td>-85.23</td>\n",
       "      <td>...</td>\n",
       "      <td>0.46</td>\n",
       "      <td>-0.11</td>\n",
       "      <td>0.22</td>\n",
       "      <td>-0.06</td>\n",
       "      <td>-0.97</td>\n",
       "      <td>0.99</td>\n",
       "      <td>0.96</td>\n",
       "      <td>-0.73</td>\n",
       "      <td>-0.50</td>\n",
       "      <td>0.72</td>\n",
       "    </tr>\n",
       "    <tr>\n",
       "      <th>3</th>\n",
       "      <td>3</td>\n",
       "      <td>F995323</td>\n",
       "      <td>a2057123-abf5-4a2c-abad-8ffe33512562</td>\n",
       "      <td>e19a0fa00aeda885b8a436757e889bc9</td>\n",
       "      <td>Sioux Falls</td>\n",
       "      <td>SD</td>\n",
       "      <td>Minnehaha</td>\n",
       "      <td>57110</td>\n",
       "      <td>43.54</td>\n",
       "      <td>-96.64</td>\n",
       "      <td>...</td>\n",
       "      <td>0.46</td>\n",
       "      <td>-0.01</td>\n",
       "      <td>-0.91</td>\n",
       "      <td>-0.30</td>\n",
       "      <td>-0.97</td>\n",
       "      <td>-0.00</td>\n",
       "      <td>-0.63</td>\n",
       "      <td>-1.13</td>\n",
       "      <td>-1.10</td>\n",
       "      <td>0.70</td>\n",
       "    </tr>\n",
       "    <tr>\n",
       "      <th>4</th>\n",
       "      <td>4</td>\n",
       "      <td>A879973</td>\n",
       "      <td>1dec528d-eb34-4079-adce-0d7a40e82205</td>\n",
       "      <td>cd17d7b6d152cb6f23957346d11c3f07</td>\n",
       "      <td>New Richland</td>\n",
       "      <td>MN</td>\n",
       "      <td>Waseca</td>\n",
       "      <td>56072</td>\n",
       "      <td>43.90</td>\n",
       "      <td>-93.51</td>\n",
       "      <td>...</td>\n",
       "      <td>-0.93</td>\n",
       "      <td>1.20</td>\n",
       "      <td>-0.03</td>\n",
       "      <td>-0.30</td>\n",
       "      <td>-0.97</td>\n",
       "      <td>-0.00</td>\n",
       "      <td>-0.63</td>\n",
       "      <td>-1.24</td>\n",
       "      <td>-1.01</td>\n",
       "      <td>0.01</td>\n",
       "    </tr>\n",
       "    <tr>\n",
       "      <th>5</th>\n",
       "      <td>5</td>\n",
       "      <td>C544523</td>\n",
       "      <td>5885f56b-d6da-43a3-8760-83583af94266</td>\n",
       "      <td>d2f0425877b10ed6bb381f3e2579424a</td>\n",
       "      <td>West Point</td>\n",
       "      <td>VA</td>\n",
       "      <td>King William</td>\n",
       "      <td>23181</td>\n",
       "      <td>37.60</td>\n",
       "      <td>-76.89</td>\n",
       "      <td>...</td>\n",
       "      <td>NaN</td>\n",
       "      <td>-1.51</td>\n",
       "      <td>-1.37</td>\n",
       "      <td>-0.38</td>\n",
       "      <td>-0.01</td>\n",
       "      <td>-0.99</td>\n",
       "      <td>2.55</td>\n",
       "      <td>-1.26</td>\n",
       "      <td>-1.19</td>\n",
       "      <td>-1.41</td>\n",
       "    </tr>\n",
       "    <tr>\n",
       "      <th>6</th>\n",
       "      <td>6</td>\n",
       "      <td>S543885</td>\n",
       "      <td>e3b0a319-9e2e-4a23-8752-2fdc736c30f4</td>\n",
       "      <td>03e447146d4a32e1aaf75727c3d1230c</td>\n",
       "      <td>Braggs</td>\n",
       "      <td>OK</td>\n",
       "      <td>Muskogee</td>\n",
       "      <td>74423</td>\n",
       "      <td>35.67</td>\n",
       "      <td>-95.19</td>\n",
       "      <td>...</td>\n",
       "      <td>NaN</td>\n",
       "      <td>1.10</td>\n",
       "      <td>NaN</td>\n",
       "      <td>0.08</td>\n",
       "      <td>0.94</td>\n",
       "      <td>-0.99</td>\n",
       "      <td>-0.63</td>\n",
       "      <td>-1.08</td>\n",
       "      <td>-0.92</td>\n",
       "      <td>-0.03</td>\n",
       "    </tr>\n",
       "    <tr>\n",
       "      <th>7</th>\n",
       "      <td>7</td>\n",
       "      <td>E543302</td>\n",
       "      <td>2fccb53e-bd9a-4eaa-a53c-9dfc0cb83f94</td>\n",
       "      <td>e4884a42ba809df6a89ded6c97f460d4</td>\n",
       "      <td>Thompson</td>\n",
       "      <td>OH</td>\n",
       "      <td>Geauga</td>\n",
       "      <td>44086</td>\n",
       "      <td>41.68</td>\n",
       "      <td>-81.06</td>\n",
       "      <td>...</td>\n",
       "      <td>-0.93</td>\n",
       "      <td>-0.16</td>\n",
       "      <td>-1.05</td>\n",
       "      <td>-0.75</td>\n",
       "      <td>0.94</td>\n",
       "      <td>-0.99</td>\n",
       "      <td>-0.63</td>\n",
       "      <td>-0.97</td>\n",
       "      <td>-0.70</td>\n",
       "      <td>0.59</td>\n",
       "    </tr>\n",
       "    <tr>\n",
       "      <th>8</th>\n",
       "      <td>8</td>\n",
       "      <td>K477307</td>\n",
       "      <td>ab634508-dd8c-42e5-a4e4-d101a46f2431</td>\n",
       "      <td>5f78b8699d1aa9b950b562073f629ca2</td>\n",
       "      <td>Strasburg</td>\n",
       "      <td>VA</td>\n",
       "      <td>Shenandoah</td>\n",
       "      <td>22641</td>\n",
       "      <td>39.08</td>\n",
       "      <td>-78.39</td>\n",
       "      <td>...</td>\n",
       "      <td>2.32</td>\n",
       "      <td>-0.64</td>\n",
       "      <td>NaN</td>\n",
       "      <td>0.15</td>\n",
       "      <td>1.90</td>\n",
       "      <td>0.99</td>\n",
       "      <td>-0.63</td>\n",
       "      <td>NaN</td>\n",
       "      <td>-0.76</td>\n",
       "      <td>-0.92</td>\n",
       "    </tr>\n",
       "    <tr>\n",
       "      <th>9</th>\n",
       "      <td>9</td>\n",
       "      <td>Q870521</td>\n",
       "      <td>67b386eb-1d04-4020-9474-542a09d304e3</td>\n",
       "      <td>e8e016144bfbe14974752d834f530e26</td>\n",
       "      <td>Panama City</td>\n",
       "      <td>FL</td>\n",
       "      <td>Bay</td>\n",
       "      <td>32404</td>\n",
       "      <td>30.20</td>\n",
       "      <td>-85.51</td>\n",
       "      <td>...</td>\n",
       "      <td>NaN</td>\n",
       "      <td>-0.26</td>\n",
       "      <td>0.53</td>\n",
       "      <td>0.02</td>\n",
       "      <td>0.94</td>\n",
       "      <td>1.98</td>\n",
       "      <td>-0.63</td>\n",
       "      <td>-1.07</td>\n",
       "      <td>-0.88</td>\n",
       "      <td>-0.70</td>\n",
       "    </tr>\n",
       "    <tr>\n",
       "      <th>10</th>\n",
       "      <td>10</td>\n",
       "      <td>Z229385</td>\n",
       "      <td>5acd5dd3-f0ae-41c7-9540-cf3e4ecb2e27</td>\n",
       "      <td>687e7ba1b80022c310fa2d4b00db199a</td>\n",
       "      <td>Paynesville</td>\n",
       "      <td>MN</td>\n",
       "      <td>Stearns</td>\n",
       "      <td>56362</td>\n",
       "      <td>45.40</td>\n",
       "      <td>-94.71</td>\n",
       "      <td>...</td>\n",
       "      <td>0.00</td>\n",
       "      <td>1.20</td>\n",
       "      <td>-0.05</td>\n",
       "      <td>0.03</td>\n",
       "      <td>1.90</td>\n",
       "      <td>-0.00</td>\n",
       "      <td>2.55</td>\n",
       "      <td>-1.25</td>\n",
       "      <td>-0.65</td>\n",
       "      <td>2.03</td>\n",
       "    </tr>\n",
       "    <tr>\n",
       "      <th>11</th>\n",
       "      <td>11</td>\n",
       "      <td>V593392</td>\n",
       "      <td>f79fac5c-6143-4333-91c1-da4d283db35f</td>\n",
       "      <td>4c2b0a61d8352835b59d74fc46a11b71</td>\n",
       "      <td>Daleville</td>\n",
       "      <td>MS</td>\n",
       "      <td>Lauderdale</td>\n",
       "      <td>39326</td>\n",
       "      <td>32.60</td>\n",
       "      <td>-88.68</td>\n",
       "      <td>...</td>\n",
       "      <td>0.93</td>\n",
       "      <td>0.08</td>\n",
       "      <td>-0.07</td>\n",
       "      <td>-0.27</td>\n",
       "      <td>0.94</td>\n",
       "      <td>1.98</td>\n",
       "      <td>-0.63</td>\n",
       "      <td>-1.21</td>\n",
       "      <td>-0.84</td>\n",
       "      <td>0.85</td>\n",
       "    </tr>\n",
       "    <tr>\n",
       "      <th>12</th>\n",
       "      <td>12</td>\n",
       "      <td>X459469</td>\n",
       "      <td>cc050bb7-3b61-4934-b0fe-61bd0ec79dfd</td>\n",
       "      <td>5e1aa1c71a30c77a542c68452793b986</td>\n",
       "      <td>Casselberry</td>\n",
       "      <td>FL</td>\n",
       "      <td>Seminole</td>\n",
       "      <td>32707</td>\n",
       "      <td>28.66</td>\n",
       "      <td>-81.31</td>\n",
       "      <td>...</td>\n",
       "      <td>NaN</td>\n",
       "      <td>0.52</td>\n",
       "      <td>-0.92</td>\n",
       "      <td>4.22</td>\n",
       "      <td>1.90</td>\n",
       "      <td>1.98</td>\n",
       "      <td>-0.63</td>\n",
       "      <td>-1.04</td>\n",
       "      <td>2.64</td>\n",
       "      <td>1.31</td>\n",
       "    </tr>\n",
       "    <tr>\n",
       "      <th>13</th>\n",
       "      <td>13</td>\n",
       "      <td>N755131</td>\n",
       "      <td>103b3846-6933-452b-a66b-a59a18d29d57</td>\n",
       "      <td>e2b9d07fa9d57d7e411299f47abcc505</td>\n",
       "      <td>Saint Francis</td>\n",
       "      <td>WI</td>\n",
       "      <td>Milwaukee</td>\n",
       "      <td>53235</td>\n",
       "      <td>42.97</td>\n",
       "      <td>-87.87</td>\n",
       "      <td>...</td>\n",
       "      <td>-0.93</td>\n",
       "      <td>-0.60</td>\n",
       "      <td>NaN</td>\n",
       "      <td>-0.43</td>\n",
       "      <td>-0.01</td>\n",
       "      <td>1.98</td>\n",
       "      <td>0.96</td>\n",
       "      <td>-1.18</td>\n",
       "      <td>-0.97</td>\n",
       "      <td>-0.85</td>\n",
       "    </tr>\n",
       "    <tr>\n",
       "      <th>14</th>\n",
       "      <td>14</td>\n",
       "      <td>D550524</td>\n",
       "      <td>542acef9-365b-4cf4-a92e-21bdf28830d4</td>\n",
       "      <td>11242d7514ece3946f167db79410254b</td>\n",
       "      <td>Denison</td>\n",
       "      <td>IA</td>\n",
       "      <td>Crawford</td>\n",
       "      <td>51442</td>\n",
       "      <td>42.03</td>\n",
       "      <td>-95.36</td>\n",
       "      <td>...</td>\n",
       "      <td>NaN</td>\n",
       "      <td>-0.40</td>\n",
       "      <td>NaN</td>\n",
       "      <td>-0.69</td>\n",
       "      <td>-0.01</td>\n",
       "      <td>-0.99</td>\n",
       "      <td>-0.63</td>\n",
       "      <td>-1.23</td>\n",
       "      <td>-1.18</td>\n",
       "      <td>-0.68</td>\n",
       "    </tr>\n",
       "    <tr>\n",
       "      <th>15</th>\n",
       "      <td>15</td>\n",
       "      <td>T490287</td>\n",
       "      <td>19caf80a-cdc4-43a7-890d-72b07a62e5be</td>\n",
       "      <td>fa79d3f149c5ff752044070cb272ef15</td>\n",
       "      <td>Sioux Center</td>\n",
       "      <td>IA</td>\n",
       "      <td>Sioux</td>\n",
       "      <td>51250</td>\n",
       "      <td>43.08</td>\n",
       "      <td>-96.21</td>\n",
       "      <td>...</td>\n",
       "      <td>-0.46</td>\n",
       "      <td>1.53</td>\n",
       "      <td>0.04</td>\n",
       "      <td>-0.51</td>\n",
       "      <td>-0.97</td>\n",
       "      <td>0.99</td>\n",
       "      <td>0.96</td>\n",
       "      <td>-1.27</td>\n",
       "      <td>-1.05</td>\n",
       "      <td>0.22</td>\n",
       "    </tr>\n",
       "    <tr>\n",
       "      <th>16</th>\n",
       "      <td>16</td>\n",
       "      <td>G169983</td>\n",
       "      <td>a38fe3ce-976a-478b-a014-33ac71f24ea9</td>\n",
       "      <td>8e866e2402ea8db6d0584209f714ee2d</td>\n",
       "      <td>Huntsville</td>\n",
       "      <td>AL</td>\n",
       "      <td>Madison</td>\n",
       "      <td>35811</td>\n",
       "      <td>34.80</td>\n",
       "      <td>-86.51</td>\n",
       "      <td>...</td>\n",
       "      <td>NaN</td>\n",
       "      <td>NaN</td>\n",
       "      <td>2.21</td>\n",
       "      <td>-0.62</td>\n",
       "      <td>-0.97</td>\n",
       "      <td>-0.00</td>\n",
       "      <td>-0.63</td>\n",
       "      <td>-1.23</td>\n",
       "      <td>-1.08</td>\n",
       "      <td>-0.54</td>\n",
       "    </tr>\n",
       "    <tr>\n",
       "      <th>17</th>\n",
       "      <td>17</td>\n",
       "      <td>O377757</td>\n",
       "      <td>7faf0261-bc66-489a-a8ba-fec333485254</td>\n",
       "      <td>728333940561457a9feba1e1dc763258</td>\n",
       "      <td>Blythe</td>\n",
       "      <td>CA</td>\n",
       "      <td>Riverside</td>\n",
       "      <td>92225</td>\n",
       "      <td>33.75</td>\n",
       "      <td>-114.67</td>\n",
       "      <td>...</td>\n",
       "      <td>3.71</td>\n",
       "      <td>-0.45</td>\n",
       "      <td>-0.57</td>\n",
       "      <td>-0.33</td>\n",
       "      <td>-0.01</td>\n",
       "      <td>-0.00</td>\n",
       "      <td>0.96</td>\n",
       "      <td>-1.04</td>\n",
       "      <td>-0.87</td>\n",
       "      <td>-0.73</td>\n",
       "    </tr>\n",
       "    <tr>\n",
       "      <th>18</th>\n",
       "      <td>18</td>\n",
       "      <td>I745784</td>\n",
       "      <td>c173d889-8d12-4375-819e-cd83902c9de8</td>\n",
       "      <td>a8437eadfb17988b7d7fedcc0468664e</td>\n",
       "      <td>Matthews</td>\n",
       "      <td>IN</td>\n",
       "      <td>Grant</td>\n",
       "      <td>46957</td>\n",
       "      <td>40.39</td>\n",
       "      <td>-85.50</td>\n",
       "      <td>...</td>\n",
       "      <td>-0.93</td>\n",
       "      <td>0.03</td>\n",
       "      <td>-0.81</td>\n",
       "      <td>-0.32</td>\n",
       "      <td>-0.97</td>\n",
       "      <td>0.99</td>\n",
       "      <td>-0.63</td>\n",
       "      <td>-1.23</td>\n",
       "      <td>-0.97</td>\n",
       "      <td>-0.52</td>\n",
       "    </tr>\n",
       "    <tr>\n",
       "      <th>19</th>\n",
       "      <td>19</td>\n",
       "      <td>D139360</td>\n",
       "      <td>9a1a84da-d99e-47f7-9865-1ef046db34d3</td>\n",
       "      <td>0bcee05e1fc26d492f0559675ab318b0</td>\n",
       "      <td>Lignum</td>\n",
       "      <td>VA</td>\n",
       "      <td>Culpeper</td>\n",
       "      <td>22726</td>\n",
       "      <td>38.40</td>\n",
       "      <td>-77.82</td>\n",
       "      <td>...</td>\n",
       "      <td>-0.46</td>\n",
       "      <td>0.91</td>\n",
       "      <td>0.74</td>\n",
       "      <td>-0.09</td>\n",
       "      <td>1.90</td>\n",
       "      <td>0.99</td>\n",
       "      <td>0.96</td>\n",
       "      <td>-1.03</td>\n",
       "      <td>-0.86</td>\n",
       "      <td>1.61</td>\n",
       "    </tr>\n",
       "    <tr>\n",
       "      <th>20</th>\n",
       "      <td>20</td>\n",
       "      <td>Y964627</td>\n",
       "      <td>e655e7c9-6d10-4817-bdb2-f3b34716d0e0</td>\n",
       "      <td>7dd9f4cf50d66af07b37fa8951957d72</td>\n",
       "      <td>Mora</td>\n",
       "      <td>MO</td>\n",
       "      <td>Pettis</td>\n",
       "      <td>65345</td>\n",
       "      <td>38.54</td>\n",
       "      <td>-93.13</td>\n",
       "      <td>...</td>\n",
       "      <td>-0.93</td>\n",
       "      <td>1.49</td>\n",
       "      <td>0.75</td>\n",
       "      <td>-0.31</td>\n",
       "      <td>0.94</td>\n",
       "      <td>-0.00</td>\n",
       "      <td>2.55</td>\n",
       "      <td>-0.92</td>\n",
       "      <td>-0.55</td>\n",
       "      <td>0.17</td>\n",
       "    </tr>\n",
       "  </tbody>\n",
       "</table>\n",
       "<p>20 rows × 65 columns</p>\n",
       "</div>"
      ],
      "text/plain": [
       "    CaseOrder Customer_id                           Interaction  \\\n",
       "1           1     C412403  8cd49b13-f45a-4b47-a2bd-173ffa932c2f   \n",
       "2           2     Z919181  d2450b70-0337-4406-bdbb-bc1037f1734c   \n",
       "3           3     F995323  a2057123-abf5-4a2c-abad-8ffe33512562   \n",
       "4           4     A879973  1dec528d-eb34-4079-adce-0d7a40e82205   \n",
       "5           5     C544523  5885f56b-d6da-43a3-8760-83583af94266   \n",
       "6           6     S543885  e3b0a319-9e2e-4a23-8752-2fdc736c30f4   \n",
       "7           7     E543302  2fccb53e-bd9a-4eaa-a53c-9dfc0cb83f94   \n",
       "8           8     K477307  ab634508-dd8c-42e5-a4e4-d101a46f2431   \n",
       "9           9     Q870521  67b386eb-1d04-4020-9474-542a09d304e3   \n",
       "10         10     Z229385  5acd5dd3-f0ae-41c7-9540-cf3e4ecb2e27   \n",
       "11         11     V593392  f79fac5c-6143-4333-91c1-da4d283db35f   \n",
       "12         12     X459469  cc050bb7-3b61-4934-b0fe-61bd0ec79dfd   \n",
       "13         13     N755131  103b3846-6933-452b-a66b-a59a18d29d57   \n",
       "14         14     D550524  542acef9-365b-4cf4-a92e-21bdf28830d4   \n",
       "15         15     T490287  19caf80a-cdc4-43a7-890d-72b07a62e5be   \n",
       "16         16     G169983  a38fe3ce-976a-478b-a014-33ac71f24ea9   \n",
       "17         17     O377757  7faf0261-bc66-489a-a8ba-fec333485254   \n",
       "18         18     I745784  c173d889-8d12-4375-819e-cd83902c9de8   \n",
       "19         19     D139360  9a1a84da-d99e-47f7-9865-1ef046db34d3   \n",
       "20         20     Y964627  e655e7c9-6d10-4817-bdb2-f3b34716d0e0   \n",
       "\n",
       "                                 UID           City State        County  \\\n",
       "1   3a83ddb66e2ae73798bdf1d705dc0932            Eva    AL        Morgan   \n",
       "2   176354c5eef714957d486009feabf195       Marianna    FL       Jackson   \n",
       "3   e19a0fa00aeda885b8a436757e889bc9    Sioux Falls    SD     Minnehaha   \n",
       "4   cd17d7b6d152cb6f23957346d11c3f07   New Richland    MN        Waseca   \n",
       "5   d2f0425877b10ed6bb381f3e2579424a     West Point    VA  King William   \n",
       "6   03e447146d4a32e1aaf75727c3d1230c         Braggs    OK      Muskogee   \n",
       "7   e4884a42ba809df6a89ded6c97f460d4       Thompson    OH        Geauga   \n",
       "8   5f78b8699d1aa9b950b562073f629ca2      Strasburg    VA    Shenandoah   \n",
       "9   e8e016144bfbe14974752d834f530e26    Panama City    FL           Bay   \n",
       "10  687e7ba1b80022c310fa2d4b00db199a    Paynesville    MN       Stearns   \n",
       "11  4c2b0a61d8352835b59d74fc46a11b71      Daleville    MS    Lauderdale   \n",
       "12  5e1aa1c71a30c77a542c68452793b986    Casselberry    FL      Seminole   \n",
       "13  e2b9d07fa9d57d7e411299f47abcc505  Saint Francis    WI     Milwaukee   \n",
       "14  11242d7514ece3946f167db79410254b        Denison    IA      Crawford   \n",
       "15  fa79d3f149c5ff752044070cb272ef15   Sioux Center    IA         Sioux   \n",
       "16  8e866e2402ea8db6d0584209f714ee2d     Huntsville    AL       Madison   \n",
       "17  728333940561457a9feba1e1dc763258         Blythe    CA     Riverside   \n",
       "18  a8437eadfb17988b7d7fedcc0468664e       Matthews    IN         Grant   \n",
       "19  0bcee05e1fc26d492f0559675ab318b0         Lignum    VA      Culpeper   \n",
       "20  7dd9f4cf50d66af07b37fa8951957d72           Mora    MO        Pettis   \n",
       "\n",
       "      Zip    Lat     Lng  ...  Children_zscore Age_zscore Income_zscore  \\\n",
       "1   35621  34.35  -86.73  ...            -0.46      -0.01          1.61   \n",
       "2   32446  30.85  -85.23  ...             0.46      -0.11          0.22   \n",
       "3   57110  43.54  -96.64  ...             0.46      -0.01         -0.91   \n",
       "4   56072  43.90  -93.51  ...            -0.93       1.20         -0.03   \n",
       "5   23181  37.60  -76.89  ...              NaN      -1.51         -1.37   \n",
       "6   74423  35.67  -95.19  ...              NaN       1.10           NaN   \n",
       "7   44086  41.68  -81.06  ...            -0.93      -0.16         -1.05   \n",
       "8   22641  39.08  -78.39  ...             2.32      -0.64           NaN   \n",
       "9   32404  30.20  -85.51  ...              NaN      -0.26          0.53   \n",
       "10  56362  45.40  -94.71  ...             0.00       1.20         -0.05   \n",
       "11  39326  32.60  -88.68  ...             0.93       0.08         -0.07   \n",
       "12  32707  28.66  -81.31  ...              NaN       0.52         -0.92   \n",
       "13  53235  42.97  -87.87  ...            -0.93      -0.60           NaN   \n",
       "14  51442  42.03  -95.36  ...              NaN      -0.40           NaN   \n",
       "15  51250  43.08  -96.21  ...            -0.46       1.53          0.04   \n",
       "16  35811  34.80  -86.51  ...              NaN        NaN          2.21   \n",
       "17  92225  33.75 -114.67  ...             3.71      -0.45         -0.57   \n",
       "18  46957  40.39  -85.50  ...            -0.93       0.03         -0.81   \n",
       "19  22726  38.40  -77.82  ...            -0.46       0.91          0.74   \n",
       "20  65345  38.54  -93.13  ...            -0.93       1.49          0.75   \n",
       "\n",
       "   VitD_levels_zscore  Doc_visits_zscore  Full_meals_eaten_zscore  \\\n",
       "1               -0.24               0.94                    -0.99   \n",
       "2               -0.06              -0.97                     0.99   \n",
       "3               -0.30              -0.97                    -0.00   \n",
       "4               -0.30              -0.97                    -0.00   \n",
       "5               -0.38              -0.01                    -0.99   \n",
       "6                0.08               0.94                    -0.99   \n",
       "7               -0.75               0.94                    -0.99   \n",
       "8                0.15               1.90                     0.99   \n",
       "9                0.02               0.94                     1.98   \n",
       "10               0.03               1.90                    -0.00   \n",
       "11              -0.27               0.94                     1.98   \n",
       "12               4.22               1.90                     1.98   \n",
       "13              -0.43              -0.01                     1.98   \n",
       "14              -0.69              -0.01                    -0.99   \n",
       "15              -0.51              -0.97                     0.99   \n",
       "16              -0.62              -0.97                    -0.00   \n",
       "17              -0.33              -0.01                    -0.00   \n",
       "18              -0.32              -0.97                     0.99   \n",
       "19              -0.09               1.90                     0.99   \n",
       "20              -0.31               0.94                    -0.00   \n",
       "\n",
       "   VitD_supp_zscore Initial_days_zscore  TotalCharge_zscore  \\\n",
       "1             -0.63               -0.91               -0.80   \n",
       "2              0.96               -0.73               -0.50   \n",
       "3             -0.63               -1.13               -1.10   \n",
       "4             -0.63               -1.24               -1.01   \n",
       "5              2.55               -1.26               -1.19   \n",
       "6             -0.63               -1.08               -0.92   \n",
       "7             -0.63               -0.97               -0.70   \n",
       "8             -0.63                 NaN               -0.76   \n",
       "9             -0.63               -1.07               -0.88   \n",
       "10             2.55               -1.25               -0.65   \n",
       "11            -0.63               -1.21               -0.84   \n",
       "12            -0.63               -1.04                2.64   \n",
       "13             0.96               -1.18               -0.97   \n",
       "14            -0.63               -1.23               -1.18   \n",
       "15             0.96               -1.27               -1.05   \n",
       "16            -0.63               -1.23               -1.08   \n",
       "17             0.96               -1.04               -0.87   \n",
       "18            -0.63               -1.23               -0.97   \n",
       "19             0.96               -1.03               -0.86   \n",
       "20             2.55               -0.92               -0.55   \n",
       "\n",
       "   Additional_charges_zscore  \n",
       "1                       0.76  \n",
       "2                       0.72  \n",
       "3                       0.70  \n",
       "4                       0.01  \n",
       "5                      -1.41  \n",
       "6                      -0.03  \n",
       "7                       0.59  \n",
       "8                      -0.92  \n",
       "9                      -0.70  \n",
       "10                      2.03  \n",
       "11                      0.85  \n",
       "12                      1.31  \n",
       "13                     -0.85  \n",
       "14                     -0.68  \n",
       "15                      0.22  \n",
       "16                     -0.54  \n",
       "17                     -0.73  \n",
       "18                     -0.52  \n",
       "19                      1.61  \n",
       "20                      0.17  \n",
       "\n",
       "[20 rows x 65 columns]"
      ]
     },
     "execution_count": 160,
     "metadata": {},
     "output_type": "execute_result"
    }
   ],
   "source": [
    "# Exporting clean .csv\n",
    "df.to_csv('/Users/Owner/Desktop/cleand206data.csv', index=False)\n",
    "df.head(20)"
   ]
  },
  {
   "cell_type": "code",
   "execution_count": 161,
   "id": "4a158276-fa55-4136-8644-5461acf4536b",
   "metadata": {
    "tags": []
   },
   "outputs": [],
   "source": [
    "# PCA begins\n",
    "medicaldata = \"/Users/Owner/Desktop/cleand206data.csv\"\n",
    "df = pd.read_csv(medicaldata)"
   ]
  },
  {
   "cell_type": "code",
   "execution_count": 162,
   "id": "c3c7ae41-1a7f-418e-8718-02633d80e513",
   "metadata": {
    "tags": []
   },
   "outputs": [],
   "source": [
    "# select columns of the dataframe (Following course .pdfs)\n",
    "dfpca = df[['Lat', 'Lng', 'Population', 'Children', 'Age', 'Income', 'VitD_levels', 'Doc_visits', 'Full_meals_eaten', 'VitD_supp', 'Initial_days', 'TotalCharge', 'Additional_charges']]\n",
    "\n"
   ]
  },
  {
   "cell_type": "code",
   "execution_count": 163,
   "id": "3e5761ee-6d3d-4e42-bcd1-eccb21ef63d1",
   "metadata": {
    "tags": []
   },
   "outputs": [],
   "source": [
    "# normalize by using Standardization (Mean Normalization)\n",
    "dfpca_normalized=(dfpca-dfpca.mean())/dfpca.std()\n",
    "\n"
   ]
  },
  {
   "cell_type": "code",
   "execution_count": 164,
   "id": "8c8c8977-93b3-48a7-af4b-5305881ea21d",
   "metadata": {
    "tags": []
   },
   "outputs": [],
   "source": [
    "#  Applying PCA cont step A\n",
    "pca = PCA(n_components=dfpca.shape[1])\n"
   ]
  },
  {
   "cell_type": "code",
   "execution_count": 165,
   "id": "e68d1330-6014-4f6b-be3e-514e21157f5d",
   "metadata": {
    "tags": []
   },
   "outputs": [
    {
     "data": {
      "text/html": [
       "<style>#sk-container-id-1 {color: black;background-color: white;}#sk-container-id-1 pre{padding: 0;}#sk-container-id-1 div.sk-toggleable {background-color: white;}#sk-container-id-1 label.sk-toggleable__label {cursor: pointer;display: block;width: 100%;margin-bottom: 0;padding: 0.3em;box-sizing: border-box;text-align: center;}#sk-container-id-1 label.sk-toggleable__label-arrow:before {content: \"▸\";float: left;margin-right: 0.25em;color: #696969;}#sk-container-id-1 label.sk-toggleable__label-arrow:hover:before {color: black;}#sk-container-id-1 div.sk-estimator:hover label.sk-toggleable__label-arrow:before {color: black;}#sk-container-id-1 div.sk-toggleable__content {max-height: 0;max-width: 0;overflow: hidden;text-align: left;background-color: #f0f8ff;}#sk-container-id-1 div.sk-toggleable__content pre {margin: 0.2em;color: black;border-radius: 0.25em;background-color: #f0f8ff;}#sk-container-id-1 input.sk-toggleable__control:checked~div.sk-toggleable__content {max-height: 200px;max-width: 100%;overflow: auto;}#sk-container-id-1 input.sk-toggleable__control:checked~label.sk-toggleable__label-arrow:before {content: \"▾\";}#sk-container-id-1 div.sk-estimator input.sk-toggleable__control:checked~label.sk-toggleable__label {background-color: #d4ebff;}#sk-container-id-1 div.sk-label input.sk-toggleable__control:checked~label.sk-toggleable__label {background-color: #d4ebff;}#sk-container-id-1 input.sk-hidden--visually {border: 0;clip: rect(1px 1px 1px 1px);clip: rect(1px, 1px, 1px, 1px);height: 1px;margin: -1px;overflow: hidden;padding: 0;position: absolute;width: 1px;}#sk-container-id-1 div.sk-estimator {font-family: monospace;background-color: #f0f8ff;border: 1px dotted black;border-radius: 0.25em;box-sizing: border-box;margin-bottom: 0.5em;}#sk-container-id-1 div.sk-estimator:hover {background-color: #d4ebff;}#sk-container-id-1 div.sk-parallel-item::after {content: \"\";width: 100%;border-bottom: 1px solid gray;flex-grow: 1;}#sk-container-id-1 div.sk-label:hover label.sk-toggleable__label {background-color: #d4ebff;}#sk-container-id-1 div.sk-serial::before {content: \"\";position: absolute;border-left: 1px solid gray;box-sizing: border-box;top: 0;bottom: 0;left: 50%;z-index: 0;}#sk-container-id-1 div.sk-serial {display: flex;flex-direction: column;align-items: center;background-color: white;padding-right: 0.2em;padding-left: 0.2em;position: relative;}#sk-container-id-1 div.sk-item {position: relative;z-index: 1;}#sk-container-id-1 div.sk-parallel {display: flex;align-items: stretch;justify-content: center;background-color: white;position: relative;}#sk-container-id-1 div.sk-item::before, #sk-container-id-1 div.sk-parallel-item::before {content: \"\";position: absolute;border-left: 1px solid gray;box-sizing: border-box;top: 0;bottom: 0;left: 50%;z-index: -1;}#sk-container-id-1 div.sk-parallel-item {display: flex;flex-direction: column;z-index: 1;position: relative;background-color: white;}#sk-container-id-1 div.sk-parallel-item:first-child::after {align-self: flex-end;width: 50%;}#sk-container-id-1 div.sk-parallel-item:last-child::after {align-self: flex-start;width: 50%;}#sk-container-id-1 div.sk-parallel-item:only-child::after {width: 0;}#sk-container-id-1 div.sk-dashed-wrapped {border: 1px dashed gray;margin: 0 0.4em 0.5em 0.4em;box-sizing: border-box;padding-bottom: 0.4em;background-color: white;}#sk-container-id-1 div.sk-label label {font-family: monospace;font-weight: bold;display: inline-block;line-height: 1.2em;}#sk-container-id-1 div.sk-label-container {text-align: center;}#sk-container-id-1 div.sk-container {/* jupyter's `normalize.less` sets `[hidden] { display: none; }` but bootstrap.min.css set `[hidden] { display: none !important; }` so we also need the `!important` here to be able to override the default hidden behavior on the sphinx rendered scikit-learn.org. See: https://github.com/scikit-learn/scikit-learn/issues/21755 */display: inline-block !important;position: relative;}#sk-container-id-1 div.sk-text-repr-fallback {display: none;}</style><div id=\"sk-container-id-1\" class=\"sk-top-container\"><div class=\"sk-text-repr-fallback\"><pre>PCA(n_components=13)</pre><b>In a Jupyter environment, please rerun this cell to show the HTML representation or trust the notebook. <br />On GitHub, the HTML representation is unable to render, please try loading this page with nbviewer.org.</b></div><div class=\"sk-container\" hidden><div class=\"sk-item\"><div class=\"sk-estimator sk-toggleable\"><input class=\"sk-toggleable__control sk-hidden--visually\" id=\"sk-estimator-id-1\" type=\"checkbox\" checked><label for=\"sk-estimator-id-1\" class=\"sk-toggleable__label sk-toggleable__label-arrow\">PCA</label><div class=\"sk-toggleable__content\"><pre>PCA(n_components=13)</pre></div></div></div></div></div>"
      ],
      "text/plain": [
       "PCA(n_components=13)"
      ]
     },
     "execution_count": 165,
     "metadata": {},
     "output_type": "execute_result"
    }
   ],
   "source": [
    "# Step B\n",
    "pca.fit(dfpca_normalized)\n"
   ]
  },
  {
   "cell_type": "code",
   "execution_count": 166,
   "id": "3e7ac9b5-9a0d-4a9a-be02-db037a1da71c",
   "metadata": {
    "tags": []
   },
   "outputs": [],
   "source": [
    "# Step C\n",
    "dfpca_pca = pd.DataFrame(pca.transform(dfpca_normalized), columns=['PC1', 'PC2', 'PC3', 'PC4', 'PC5', 'PC6', 'PC7', 'PC8', 'PC9', 'PC10', 'PC11', 'PC12', 'PC13'])\n"
   ]
  },
  {
   "cell_type": "code",
   "execution_count": 167,
   "id": "3b6cd45e-80c8-4693-b2e5-93491ab16263",
   "metadata": {
    "tags": []
   },
   "outputs": [
    {
     "data": {
      "text/html": [
       "<div>\n",
       "<style scoped>\n",
       "    .dataframe tbody tr th:only-of-type {\n",
       "        vertical-align: middle;\n",
       "    }\n",
       "\n",
       "    .dataframe tbody tr th {\n",
       "        vertical-align: top;\n",
       "    }\n",
       "\n",
       "    .dataframe thead th {\n",
       "        text-align: right;\n",
       "    }\n",
       "</style>\n",
       "<table border=\"1\" class=\"dataframe\">\n",
       "  <thead>\n",
       "    <tr style=\"text-align: right;\">\n",
       "      <th></th>\n",
       "      <th>PC1</th>\n",
       "      <th>PC2</th>\n",
       "      <th>PC3</th>\n",
       "      <th>PC4</th>\n",
       "      <th>PC5</th>\n",
       "      <th>PC6</th>\n",
       "      <th>PC7</th>\n",
       "      <th>PC8</th>\n",
       "      <th>PC9</th>\n",
       "      <th>PC10</th>\n",
       "      <th>PC11</th>\n",
       "      <th>PC12</th>\n",
       "      <th>PC13</th>\n",
       "    </tr>\n",
       "  </thead>\n",
       "  <tbody>\n",
       "    <tr>\n",
       "      <th>Lat</th>\n",
       "      <td>-0.021750</td>\n",
       "      <td>-0.007980</td>\n",
       "      <td>-0.714617</td>\n",
       "      <td>0.137019</td>\n",
       "      <td>-0.046249</td>\n",
       "      <td>0.009909</td>\n",
       "      <td>-0.042277</td>\n",
       "      <td>0.037970</td>\n",
       "      <td>-0.025958</td>\n",
       "      <td>-0.056716</td>\n",
       "      <td>0.678543</td>\n",
       "      <td>-0.015298</td>\n",
       "      <td>-0.000506</td>\n",
       "    </tr>\n",
       "    <tr>\n",
       "      <th>Lng</th>\n",
       "      <td>-0.005425</td>\n",
       "      <td>0.017169</td>\n",
       "      <td>0.269963</td>\n",
       "      <td>-0.598447</td>\n",
       "      <td>-0.536076</td>\n",
       "      <td>0.033691</td>\n",
       "      <td>0.217705</td>\n",
       "      <td>0.201281</td>\n",
       "      <td>-0.083144</td>\n",
       "      <td>0.194798</td>\n",
       "      <td>0.383774</td>\n",
       "      <td>0.009411</td>\n",
       "      <td>0.001896</td>\n",
       "    </tr>\n",
       "    <tr>\n",
       "      <th>Population</th>\n",
       "      <td>0.025591</td>\n",
       "      <td>-0.025210</td>\n",
       "      <td>0.631294</td>\n",
       "      <td>0.278455</td>\n",
       "      <td>0.306331</td>\n",
       "      <td>-0.014302</td>\n",
       "      <td>-0.175708</td>\n",
       "      <td>-0.056793</td>\n",
       "      <td>0.065956</td>\n",
       "      <td>-0.101009</td>\n",
       "      <td>0.616195</td>\n",
       "      <td>-0.015688</td>\n",
       "      <td>-0.001703</td>\n",
       "    </tr>\n",
       "    <tr>\n",
       "      <th>Children</th>\n",
       "      <td>0.000402</td>\n",
       "      <td>0.010764</td>\n",
       "      <td>0.015355</td>\n",
       "      <td>0.224918</td>\n",
       "      <td>0.271457</td>\n",
       "      <td>-0.145153</td>\n",
       "      <td>0.654401</td>\n",
       "      <td>0.651593</td>\n",
       "      <td>-0.011006</td>\n",
       "      <td>0.035653</td>\n",
       "      <td>-0.001830</td>\n",
       "      <td>-0.009461</td>\n",
       "      <td>-0.001718</td>\n",
       "    </tr>\n",
       "    <tr>\n",
       "      <th>Age</th>\n",
       "      <td>0.082910</td>\n",
       "      <td>0.701018</td>\n",
       "      <td>0.007778</td>\n",
       "      <td>0.015138</td>\n",
       "      <td>-0.019987</td>\n",
       "      <td>-0.022280</td>\n",
       "      <td>-0.011409</td>\n",
       "      <td>-0.011899</td>\n",
       "      <td>-0.020578</td>\n",
       "      <td>-0.017901</td>\n",
       "      <td>-0.003270</td>\n",
       "      <td>-0.706554</td>\n",
       "      <td>-0.016405</td>\n",
       "    </tr>\n",
       "    <tr>\n",
       "      <th>Income</th>\n",
       "      <td>-0.005247</td>\n",
       "      <td>-0.002364</td>\n",
       "      <td>0.020110</td>\n",
       "      <td>0.058798</td>\n",
       "      <td>0.078843</td>\n",
       "      <td>0.566492</td>\n",
       "      <td>0.591489</td>\n",
       "      <td>-0.521980</td>\n",
       "      <td>-0.200175</td>\n",
       "      <td>-0.052527</td>\n",
       "      <td>0.059877</td>\n",
       "      <td>-0.015456</td>\n",
       "      <td>0.000205</td>\n",
       "    </tr>\n",
       "    <tr>\n",
       "      <th>VitD_levels</th>\n",
       "      <td>0.540018</td>\n",
       "      <td>-0.052575</td>\n",
       "      <td>-0.057739</td>\n",
       "      <td>-0.306255</td>\n",
       "      <td>0.189147</td>\n",
       "      <td>0.224164</td>\n",
       "      <td>-0.021326</td>\n",
       "      <td>0.125174</td>\n",
       "      <td>0.303113</td>\n",
       "      <td>-0.343281</td>\n",
       "      <td>0.001802</td>\n",
       "      <td>-0.022949</td>\n",
       "      <td>0.544143</td>\n",
       "    </tr>\n",
       "    <tr>\n",
       "      <th>Doc_visits</th>\n",
       "      <td>-0.005294</td>\n",
       "      <td>0.012819</td>\n",
       "      <td>0.011246</td>\n",
       "      <td>0.096841</td>\n",
       "      <td>0.060563</td>\n",
       "      <td>0.676761</td>\n",
       "      <td>-0.370768</td>\n",
       "      <td>0.444503</td>\n",
       "      <td>-0.364998</td>\n",
       "      <td>0.239246</td>\n",
       "      <td>-0.055548</td>\n",
       "      <td>-0.005425</td>\n",
       "      <td>-0.000236</td>\n",
       "    </tr>\n",
       "    <tr>\n",
       "      <th>Full_meals_eaten</th>\n",
       "      <td>-0.009349</td>\n",
       "      <td>0.036112</td>\n",
       "      <td>-0.105828</td>\n",
       "      <td>-0.347425</td>\n",
       "      <td>0.551774</td>\n",
       "      <td>-0.041139</td>\n",
       "      <td>-0.004666</td>\n",
       "      <td>-0.147637</td>\n",
       "      <td>0.196634</td>\n",
       "      <td>0.703510</td>\n",
       "      <td>0.071118</td>\n",
       "      <td>-0.009474</td>\n",
       "      <td>-0.001421</td>\n",
       "    </tr>\n",
       "    <tr>\n",
       "      <th>VitD_supp</th>\n",
       "      <td>0.034020</td>\n",
       "      <td>0.010650</td>\n",
       "      <td>0.029802</td>\n",
       "      <td>0.386413</td>\n",
       "      <td>-0.380778</td>\n",
       "      <td>0.269288</td>\n",
       "      <td>0.052752</td>\n",
       "      <td>0.026317</td>\n",
       "      <td>0.726913</td>\n",
       "      <td>0.314218</td>\n",
       "      <td>-0.019538</td>\n",
       "      <td>-0.004856</td>\n",
       "      <td>-0.001486</td>\n",
       "    </tr>\n",
       "    <tr>\n",
       "      <th>Initial_days</th>\n",
       "      <td>0.446498</td>\n",
       "      <td>-0.073591</td>\n",
       "      <td>0.033269</td>\n",
       "      <td>0.341850</td>\n",
       "      <td>-0.217647</td>\n",
       "      <td>-0.271326</td>\n",
       "      <td>0.031193</td>\n",
       "      <td>-0.147386</td>\n",
       "      <td>-0.393397</td>\n",
       "      <td>0.418550</td>\n",
       "      <td>-0.001088</td>\n",
       "      <td>-0.005857</td>\n",
       "      <td>0.451210</td>\n",
       "    </tr>\n",
       "    <tr>\n",
       "      <th>TotalCharge</th>\n",
       "      <td>0.701939</td>\n",
       "      <td>-0.078092</td>\n",
       "      <td>-0.023520</td>\n",
       "      <td>-0.019897</td>\n",
       "      <td>0.004316</td>\n",
       "      <td>-0.000222</td>\n",
       "      <td>0.003383</td>\n",
       "      <td>0.001076</td>\n",
       "      <td>-0.019910</td>\n",
       "      <td>0.001187</td>\n",
       "      <td>0.000560</td>\n",
       "      <td>0.020970</td>\n",
       "      <td>-0.706658</td>\n",
       "    </tr>\n",
       "    <tr>\n",
       "      <th>Additional_charges</th>\n",
       "      <td>0.083486</td>\n",
       "      <td>0.701140</td>\n",
       "      <td>0.001344</td>\n",
       "      <td>0.028789</td>\n",
       "      <td>0.007774</td>\n",
       "      <td>-0.000850</td>\n",
       "      <td>-0.000505</td>\n",
       "      <td>-0.013292</td>\n",
       "      <td>-0.011094</td>\n",
       "      <td>-0.018933</td>\n",
       "      <td>0.021713</td>\n",
       "      <td>0.706216</td>\n",
       "      <td>0.025870</td>\n",
       "    </tr>\n",
       "  </tbody>\n",
       "</table>\n",
       "</div>"
      ],
      "text/plain": [
       "                         PC1       PC2       PC3       PC4       PC5  \\\n",
       "Lat                -0.021750 -0.007980 -0.714617  0.137019 -0.046249   \n",
       "Lng                -0.005425  0.017169  0.269963 -0.598447 -0.536076   \n",
       "Population          0.025591 -0.025210  0.631294  0.278455  0.306331   \n",
       "Children            0.000402  0.010764  0.015355  0.224918  0.271457   \n",
       "Age                 0.082910  0.701018  0.007778  0.015138 -0.019987   \n",
       "Income             -0.005247 -0.002364  0.020110  0.058798  0.078843   \n",
       "VitD_levels         0.540018 -0.052575 -0.057739 -0.306255  0.189147   \n",
       "Doc_visits         -0.005294  0.012819  0.011246  0.096841  0.060563   \n",
       "Full_meals_eaten   -0.009349  0.036112 -0.105828 -0.347425  0.551774   \n",
       "VitD_supp           0.034020  0.010650  0.029802  0.386413 -0.380778   \n",
       "Initial_days        0.446498 -0.073591  0.033269  0.341850 -0.217647   \n",
       "TotalCharge         0.701939 -0.078092 -0.023520 -0.019897  0.004316   \n",
       "Additional_charges  0.083486  0.701140  0.001344  0.028789  0.007774   \n",
       "\n",
       "                         PC6       PC7       PC8       PC9      PC10  \\\n",
       "Lat                 0.009909 -0.042277  0.037970 -0.025958 -0.056716   \n",
       "Lng                 0.033691  0.217705  0.201281 -0.083144  0.194798   \n",
       "Population         -0.014302 -0.175708 -0.056793  0.065956 -0.101009   \n",
       "Children           -0.145153  0.654401  0.651593 -0.011006  0.035653   \n",
       "Age                -0.022280 -0.011409 -0.011899 -0.020578 -0.017901   \n",
       "Income              0.566492  0.591489 -0.521980 -0.200175 -0.052527   \n",
       "VitD_levels         0.224164 -0.021326  0.125174  0.303113 -0.343281   \n",
       "Doc_visits          0.676761 -0.370768  0.444503 -0.364998  0.239246   \n",
       "Full_meals_eaten   -0.041139 -0.004666 -0.147637  0.196634  0.703510   \n",
       "VitD_supp           0.269288  0.052752  0.026317  0.726913  0.314218   \n",
       "Initial_days       -0.271326  0.031193 -0.147386 -0.393397  0.418550   \n",
       "TotalCharge        -0.000222  0.003383  0.001076 -0.019910  0.001187   \n",
       "Additional_charges -0.000850 -0.000505 -0.013292 -0.011094 -0.018933   \n",
       "\n",
       "                        PC11      PC12      PC13  \n",
       "Lat                 0.678543 -0.015298 -0.000506  \n",
       "Lng                 0.383774  0.009411  0.001896  \n",
       "Population          0.616195 -0.015688 -0.001703  \n",
       "Children           -0.001830 -0.009461 -0.001718  \n",
       "Age                -0.003270 -0.706554 -0.016405  \n",
       "Income              0.059877 -0.015456  0.000205  \n",
       "VitD_levels         0.001802 -0.022949  0.544143  \n",
       "Doc_visits         -0.055548 -0.005425 -0.000236  \n",
       "Full_meals_eaten    0.071118 -0.009474 -0.001421  \n",
       "VitD_supp          -0.019538 -0.004856 -0.001486  \n",
       "Initial_days       -0.001088 -0.005857  0.451210  \n",
       "TotalCharge         0.000560  0.020970 -0.706658  \n",
       "Additional_charges  0.021713  0.706216  0.025870  "
      ]
     },
     "execution_count": 167,
     "metadata": {},
     "output_type": "execute_result"
    }
   ],
   "source": [
    "# Step 4 PCA Loadings\n",
    "loadings = pd.DataFrame(pca.components_.T, columns=['PC1', 'PC2', 'PC3', 'PC4', 'PC5', 'PC6', 'PC7', 'PC8', 'PC9', 'PC10', 'PC11', 'PC12', 'PC13'], index=dfpca_normalized.columns)\n",
    "loadings"
   ]
  },
  {
   "cell_type": "code",
   "execution_count": 168,
   "id": "7f035663-d5ed-486d-ba54-4664baf59f79",
   "metadata": {
    "tags": []
   },
   "outputs": [],
   "source": [
    "#  Step 5  Selecting PCs Step A\n",
    "cov_matrix = np.dot(dfpca_normalized.T, dfpca_normalized) / dfpca.shape[0]"
   ]
  },
  {
   "cell_type": "code",
   "execution_count": 169,
   "id": "bc0730c8-d96b-4f2b-8b02-a4312152889d",
   "metadata": {
    "tags": []
   },
   "outputs": [],
   "source": [
    "#  Step 5 Step B\n",
    "eigenvalues = [np.dot(eigenvector.T, np.dot(cov_matrix, eigenvector)) for eigenvector in pca.components_]"
   ]
  },
  {
   "cell_type": "code",
   "execution_count": 170,
   "id": "e7ee8d6c-024f-47ea-a7e0-947d91deb8c1",
   "metadata": {
    "tags": []
   },
   "outputs": [
    {
     "data": {
      "image/png": "[encoded data removed]",
      "text/plain": [
       "<Figure size 640x480 with 1 Axes>"
      ]
     },
     "metadata": {},
     "output_type": "display_data"
    }
   ],
   "source": [
    "#  Step C  components above 1 eigenvalue are worth using (Course Material)\n",
    "plt.plot(np.arange(1, len(eigenvalues)+1), eigenvalues, marker='o')\n",
    "plt.xlabel('number of components')\n",
    "plt.ylabel('eigenvalue')\n",
    "plt.axhline(y=1, color='red')\n",
    "plt.show()"
   ]
  },
  {
   "cell_type": "code",
   "execution_count": 171,
   "id": "a268ab9c-7c0d-43da-ab1f-c82cf9d432ab",
   "metadata": {
    "tags": []
   },
   "outputs": [
    {
     "data": {
      "text/plain": [
       "[1.9516204493316833,\n",
       " 1.6188462887655168,\n",
       " 1.2263702645976335,\n",
       " 1.0429376959704146,\n",
       " 1.023697226613295,\n",
       " 1.0130174843430417,\n",
       " 0.9990177322505503,\n",
       " 0.9908131117177542,\n",
       " 0.9822013533198917,\n",
       " 0.9722870996872844,\n",
       " 0.7463450124392857,\n",
       " 0.37798056340647657,\n",
       " 0.05356571755697952]"
      ]
     },
     "execution_count": 171,
     "metadata": {},
     "output_type": "execute_result"
    }
   ],
   "source": [
    "eigenvalues"
   ]
  },
  {
   "cell_type": "code",
   "execution_count": null,
   "id": "f4281900-5a62-481b-b51e-ac819c544ba1",
   "metadata": {},
   "outputs": [],
   "source": []
  }
 ],
 "metadata": {
  "kernelspec": {
   "display_name": "Python 3 (ipykernel)",
   "language": "python",
   "name": "python3"
  },
  "language_info": {
   "codemirror_mode": {
    "name": "ipython",
    "version": 3
   },
   "file_extension": ".py",
   "mimetype": "text/x-python",
   "name": "python",
   "nbconvert_exporter": "python",
   "pygments_lexer": "ipython3",
   "version": "3.11.7"
  }
 },
 "nbformat": 4,
 "nbformat_minor": 5
}
