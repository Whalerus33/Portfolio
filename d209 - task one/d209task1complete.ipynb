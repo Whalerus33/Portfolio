{
 "cells": [
  {
   "cell_type": "code",
   "execution_count": 2,
   "id": "66161747-dda8-47e8-925b-61490369d937",
   "metadata": {},
   "outputs": [],
   "source": [
    "# Importing and naming packages/libraries to be used\n",
    "import pandas as pd\n",
    "import numpy as np\n",
    "import seaborn\n",
    "import matplotlib.pyplot as plt\n",
    "from statsmodels.stats.outliers_influence import variance_inflation_factor\n",
    "from sklearn.metrics import classification_report, confusion_matrix, accuracy_score, roc_auc_score, roc_curve\n",
    "from sklearn.feature_selection import SelectKBest\n",
    "from sklearn.model_selection import train_test_split, GridSearchCV\n",
    "from sklearn.neighbors import KNeighborsClassifier\n",
    "from sklearn import preprocessing\n",
    "%matplotlib inline\n",
    "\n",
    "# Opening original .csv data set for manipulation\n",
    "df = pd.read_csv(\"C:/Users/Owner/medical_clean.csv\")"
   ]
  },
  {
   "cell_type": "code",
   "execution_count": 3,
   "id": "8b1ab866-3eac-48c6-9c6a-a0105e3c5a53",
   "metadata": {},
   "outputs": [],
   "source": [
    "# Data Exploration / Cleaning / Wrangling  / Transformation"
   ]
  },
  {
   "cell_type": "code",
   "execution_count": 4,
   "id": "29255624-72b5-45f9-b754-1b55fab44c5d",
   "metadata": {
    "tags": []
   },
   "outputs": [
    {
     "data": {
      "text/plain": [
       "(10000, 50)"
      ]
     },
     "execution_count": 4,
     "metadata": {},
     "output_type": "execute_result"
    }
   ],
   "source": [
    "# Dimension of dataframe\n",
    "df.shape"
   ]
  },
  {
   "cell_type": "code",
   "execution_count": 5,
   "id": "53347c69-bac7-4243-86d3-3194d26543f5",
   "metadata": {},
   "outputs": [
    {
     "data": {
      "text/html": [
       "<div>\n",
       "<style scoped>\n",
       "    .dataframe tbody tr th:only-of-type {\n",
       "        vertical-align: middle;\n",
       "    }\n",
       "\n",
       "    .dataframe tbody tr th {\n",
       "        vertical-align: top;\n",
       "    }\n",
       "\n",
       "    .dataframe thead th {\n",
       "        text-align: right;\n",
       "    }\n",
       "</style>\n",
       "<table border=\"1\" class=\"dataframe\">\n",
       "  <thead>\n",
       "    <tr style=\"text-align: right;\">\n",
       "      <th></th>\n",
       "      <th>CaseOrder</th>\n",
       "      <th>Customer_id</th>\n",
       "      <th>Interaction</th>\n",
       "      <th>UID</th>\n",
       "      <th>City</th>\n",
       "      <th>State</th>\n",
       "      <th>County</th>\n",
       "      <th>Zip</th>\n",
       "      <th>Lat</th>\n",
       "      <th>Lng</th>\n",
       "      <th>...</th>\n",
       "      <th>TotalCharge</th>\n",
       "      <th>Additional_charges</th>\n",
       "      <th>Item1</th>\n",
       "      <th>Item2</th>\n",
       "      <th>Item3</th>\n",
       "      <th>Item4</th>\n",
       "      <th>Item5</th>\n",
       "      <th>Item6</th>\n",
       "      <th>Item7</th>\n",
       "      <th>Item8</th>\n",
       "    </tr>\n",
       "  </thead>\n",
       "  <tbody>\n",
       "    <tr>\n",
       "      <th>0</th>\n",
       "      <td>1</td>\n",
       "      <td>C412403</td>\n",
       "      <td>8cd49b13-f45a-4b47-a2bd-173ffa932c2f</td>\n",
       "      <td>3a83ddb66e2ae73798bdf1d705dc0932</td>\n",
       "      <td>Eva</td>\n",
       "      <td>AL</td>\n",
       "      <td>Morgan</td>\n",
       "      <td>35621</td>\n",
       "      <td>34.34960</td>\n",
       "      <td>-86.72508</td>\n",
       "      <td>...</td>\n",
       "      <td>3726.702860</td>\n",
       "      <td>17939.403420</td>\n",
       "      <td>3</td>\n",
       "      <td>3</td>\n",
       "      <td>2</td>\n",
       "      <td>2</td>\n",
       "      <td>4</td>\n",
       "      <td>3</td>\n",
       "      <td>3</td>\n",
       "      <td>4</td>\n",
       "    </tr>\n",
       "    <tr>\n",
       "      <th>1</th>\n",
       "      <td>2</td>\n",
       "      <td>Z919181</td>\n",
       "      <td>d2450b70-0337-4406-bdbb-bc1037f1734c</td>\n",
       "      <td>176354c5eef714957d486009feabf195</td>\n",
       "      <td>Marianna</td>\n",
       "      <td>FL</td>\n",
       "      <td>Jackson</td>\n",
       "      <td>32446</td>\n",
       "      <td>30.84513</td>\n",
       "      <td>-85.22907</td>\n",
       "      <td>...</td>\n",
       "      <td>4193.190458</td>\n",
       "      <td>17612.998120</td>\n",
       "      <td>3</td>\n",
       "      <td>4</td>\n",
       "      <td>3</td>\n",
       "      <td>4</td>\n",
       "      <td>4</td>\n",
       "      <td>4</td>\n",
       "      <td>3</td>\n",
       "      <td>3</td>\n",
       "    </tr>\n",
       "    <tr>\n",
       "      <th>2</th>\n",
       "      <td>3</td>\n",
       "      <td>F995323</td>\n",
       "      <td>a2057123-abf5-4a2c-abad-8ffe33512562</td>\n",
       "      <td>e19a0fa00aeda885b8a436757e889bc9</td>\n",
       "      <td>Sioux Falls</td>\n",
       "      <td>SD</td>\n",
       "      <td>Minnehaha</td>\n",
       "      <td>57110</td>\n",
       "      <td>43.54321</td>\n",
       "      <td>-96.63772</td>\n",
       "      <td>...</td>\n",
       "      <td>2434.234222</td>\n",
       "      <td>17505.192460</td>\n",
       "      <td>2</td>\n",
       "      <td>4</td>\n",
       "      <td>4</td>\n",
       "      <td>4</td>\n",
       "      <td>3</td>\n",
       "      <td>4</td>\n",
       "      <td>3</td>\n",
       "      <td>3</td>\n",
       "    </tr>\n",
       "    <tr>\n",
       "      <th>3</th>\n",
       "      <td>4</td>\n",
       "      <td>A879973</td>\n",
       "      <td>1dec528d-eb34-4079-adce-0d7a40e82205</td>\n",
       "      <td>cd17d7b6d152cb6f23957346d11c3f07</td>\n",
       "      <td>New Richland</td>\n",
       "      <td>MN</td>\n",
       "      <td>Waseca</td>\n",
       "      <td>56072</td>\n",
       "      <td>43.89744</td>\n",
       "      <td>-93.51479</td>\n",
       "      <td>...</td>\n",
       "      <td>2127.830423</td>\n",
       "      <td>12993.437350</td>\n",
       "      <td>3</td>\n",
       "      <td>5</td>\n",
       "      <td>5</td>\n",
       "      <td>3</td>\n",
       "      <td>4</td>\n",
       "      <td>5</td>\n",
       "      <td>5</td>\n",
       "      <td>5</td>\n",
       "    </tr>\n",
       "    <tr>\n",
       "      <th>4</th>\n",
       "      <td>5</td>\n",
       "      <td>C544523</td>\n",
       "      <td>5885f56b-d6da-43a3-8760-83583af94266</td>\n",
       "      <td>d2f0425877b10ed6bb381f3e2579424a</td>\n",
       "      <td>West Point</td>\n",
       "      <td>VA</td>\n",
       "      <td>King William</td>\n",
       "      <td>23181</td>\n",
       "      <td>37.59894</td>\n",
       "      <td>-76.88958</td>\n",
       "      <td>...</td>\n",
       "      <td>2113.073274</td>\n",
       "      <td>3716.525786</td>\n",
       "      <td>2</td>\n",
       "      <td>1</td>\n",
       "      <td>3</td>\n",
       "      <td>3</td>\n",
       "      <td>5</td>\n",
       "      <td>3</td>\n",
       "      <td>4</td>\n",
       "      <td>3</td>\n",
       "    </tr>\n",
       "  </tbody>\n",
       "</table>\n",
       "<p>5 rows × 50 columns</p>\n",
       "</div>"
      ],
      "text/plain": [
       "   CaseOrder Customer_id                           Interaction  \\\n",
       "0          1     C412403  8cd49b13-f45a-4b47-a2bd-173ffa932c2f   \n",
       "1          2     Z919181  d2450b70-0337-4406-bdbb-bc1037f1734c   \n",
       "2          3     F995323  a2057123-abf5-4a2c-abad-8ffe33512562   \n",
       "3          4     A879973  1dec528d-eb34-4079-adce-0d7a40e82205   \n",
       "4          5     C544523  5885f56b-d6da-43a3-8760-83583af94266   \n",
       "\n",
       "                                UID          City State        County    Zip  \\\n",
       "0  3a83ddb66e2ae73798bdf1d705dc0932           Eva    AL        Morgan  35621   \n",
       "1  176354c5eef714957d486009feabf195      Marianna    FL       Jackson  32446   \n",
       "2  e19a0fa00aeda885b8a436757e889bc9   Sioux Falls    SD     Minnehaha  57110   \n",
       "3  cd17d7b6d152cb6f23957346d11c3f07  New Richland    MN        Waseca  56072   \n",
       "4  d2f0425877b10ed6bb381f3e2579424a    West Point    VA  King William  23181   \n",
       "\n",
       "        Lat       Lng  ...  TotalCharge Additional_charges Item1 Item2  Item3  \\\n",
       "0  34.34960 -86.72508  ...  3726.702860       17939.403420     3     3      2   \n",
       "1  30.84513 -85.22907  ...  4193.190458       17612.998120     3     4      3   \n",
       "2  43.54321 -96.63772  ...  2434.234222       17505.192460     2     4      4   \n",
       "3  43.89744 -93.51479  ...  2127.830423       12993.437350     3     5      5   \n",
       "4  37.59894 -76.88958  ...  2113.073274        3716.525786     2     1      3   \n",
       "\n",
       "   Item4  Item5 Item6 Item7 Item8  \n",
       "0      2      4     3     3     4  \n",
       "1      4      4     4     3     3  \n",
       "2      4      3     4     3     3  \n",
       "3      3      4     5     5     5  \n",
       "4      3      5     3     4     3  \n",
       "\n",
       "[5 rows x 50 columns]"
      ]
     },
     "execution_count": 5,
     "metadata": {},
     "output_type": "execute_result"
    }
   ],
   "source": [
    "# All column names\n",
    "df.head()"
   ]
  },
  {
   "cell_type": "code",
   "execution_count": 6,
   "id": "8d2bf367-ad0c-4467-9d80-5da94923613a",
   "metadata": {},
   "outputs": [
    {
     "name": "stdout",
     "output_type": "stream",
     "text": [
      "<class 'pandas.core.frame.DataFrame'>\n",
      "RangeIndex: 10000 entries, 0 to 9999\n",
      "Data columns (total 50 columns):\n",
      " #   Column              Non-Null Count  Dtype  \n",
      "---  ------              --------------  -----  \n",
      " 0   CaseOrder           10000 non-null  int64  \n",
      " 1   Customer_id         10000 non-null  object \n",
      " 2   Interaction         10000 non-null  object \n",
      " 3   UID                 10000 non-null  object \n",
      " 4   City                10000 non-null  object \n",
      " 5   State               10000 non-null  object \n",
      " 6   County              10000 non-null  object \n",
      " 7   Zip                 10000 non-null  int64  \n",
      " 8   Lat                 10000 non-null  float64\n",
      " 9   Lng                 10000 non-null  float64\n",
      " 10  Population          10000 non-null  int64  \n",
      " 11  Area                10000 non-null  object \n",
      " 12  TimeZone            10000 non-null  object \n",
      " 13  Job                 10000 non-null  object \n",
      " 14  Children            10000 non-null  int64  \n",
      " 15  Age                 10000 non-null  int64  \n",
      " 16  Income              10000 non-null  float64\n",
      " 17  Marital             10000 non-null  object \n",
      " 18  Gender              10000 non-null  object \n",
      " 19  ReAdmis             10000 non-null  object \n",
      " 20  VitD_levels         10000 non-null  float64\n",
      " 21  Doc_visits          10000 non-null  int64  \n",
      " 22  Full_meals_eaten    10000 non-null  int64  \n",
      " 23  vitD_supp           10000 non-null  int64  \n",
      " 24  Soft_drink          10000 non-null  object \n",
      " 25  Initial_admin       10000 non-null  object \n",
      " 26  HighBlood           10000 non-null  object \n",
      " 27  Stroke              10000 non-null  object \n",
      " 28  Complication_risk   10000 non-null  object \n",
      " 29  Overweight          10000 non-null  object \n",
      " 30  Arthritis           10000 non-null  object \n",
      " 31  Diabetes            10000 non-null  object \n",
      " 32  Hyperlipidemia      10000 non-null  object \n",
      " 33  BackPain            10000 non-null  object \n",
      " 34  Anxiety             10000 non-null  object \n",
      " 35  Allergic_rhinitis   10000 non-null  object \n",
      " 36  Reflux_esophagitis  10000 non-null  object \n",
      " 37  Asthma              10000 non-null  object \n",
      " 38  Services            10000 non-null  object \n",
      " 39  Initial_days        10000 non-null  float64\n",
      " 40  TotalCharge         10000 non-null  float64\n",
      " 41  Additional_charges  10000 non-null  float64\n",
      " 42  Item1               10000 non-null  int64  \n",
      " 43  Item2               10000 non-null  int64  \n",
      " 44  Item3               10000 non-null  int64  \n",
      " 45  Item4               10000 non-null  int64  \n",
      " 46  Item5               10000 non-null  int64  \n",
      " 47  Item6               10000 non-null  int64  \n",
      " 48  Item7               10000 non-null  int64  \n",
      " 49  Item8               10000 non-null  int64  \n",
      "dtypes: float64(7), int64(16), object(27)\n",
      "memory usage: 3.8+ MB\n"
     ]
    }
   ],
   "source": [
    "# Info\n",
    "df.info()"
   ]
  },
  {
   "cell_type": "code",
   "execution_count": 7,
   "id": "cf4b48de-f758-4d52-afaf-47fcbc45ec77",
   "metadata": {
    "tags": []
   },
   "outputs": [
    {
     "data": {
      "text/plain": [
       "array([[<Axes: title={'center': 'CaseOrder'}>,\n",
       "        <Axes: title={'center': 'Zip'}>, <Axes: title={'center': 'Lat'}>,\n",
       "        <Axes: title={'center': 'Lng'}>,\n",
       "        <Axes: title={'center': 'Population'}>],\n",
       "       [<Axes: title={'center': 'Children'}>,\n",
       "        <Axes: title={'center': 'Age'}>,\n",
       "        <Axes: title={'center': 'Income'}>,\n",
       "        <Axes: title={'center': 'VitD_levels'}>,\n",
       "        <Axes: title={'center': 'Doc_visits'}>],\n",
       "       [<Axes: title={'center': 'Full_meals_eaten'}>,\n",
       "        <Axes: title={'center': 'vitD_supp'}>,\n",
       "        <Axes: title={'center': 'Initial_days'}>,\n",
       "        <Axes: title={'center': 'TotalCharge'}>,\n",
       "        <Axes: title={'center': 'Additional_charges'}>],\n",
       "       [<Axes: title={'center': 'Item1'}>,\n",
       "        <Axes: title={'center': 'Item2'}>,\n",
       "        <Axes: title={'center': 'Item3'}>,\n",
       "        <Axes: title={'center': 'Item4'}>,\n",
       "        <Axes: title={'center': 'Item5'}>],\n",
       "       [<Axes: title={'center': 'Item6'}>,\n",
       "        <Axes: title={'center': 'Item7'}>,\n",
       "        <Axes: title={'center': 'Item8'}>, <Axes: >, <Axes: >]],\n",
       "      dtype=object)"
      ]
     },
     "execution_count": 7,
     "metadata": {},
     "output_type": "execute_result"
    },
    {
     "data": {
      "image/png": "[encoded data removed]",
      "text/plain": [
       "<Figure size 1500x1000 with 25 Axes>"
      ]
     },
     "metadata": {},
     "output_type": "display_data"
    }
   ],
   "source": [
    "# Histograms of dataframe\n",
    "df.hist(grid=False, figsize=(15,10), layout=[5,5])"
   ]
  },
  {
   "cell_type": "code",
   "execution_count": 8,
   "id": "c3a19fb5-f6a9-467d-bda9-105dcb32d75a",
   "metadata": {
    "tags": []
   },
   "outputs": [
    {
     "data": {
      "text/plain": [
       "False    10000\n",
       "Name: count, dtype: int64"
      ]
     },
     "execution_count": 8,
     "metadata": {},
     "output_type": "execute_result"
    }
   ],
   "source": [
    "# Checking for duplicates\n",
    "df.duplicated().value_counts()"
   ]
  },
  {
   "cell_type": "code",
   "execution_count": 9,
   "id": "b2f0f7c1-21e6-4f81-8ed9-01a5e22a0206",
   "metadata": {
    "tags": []
   },
   "outputs": [
    {
     "data": {
      "text/plain": [
       "CaseOrder             0\n",
       "Customer_id           0\n",
       "Interaction           0\n",
       "UID                   0\n",
       "City                  0\n",
       "State                 0\n",
       "County                0\n",
       "Zip                   0\n",
       "Lat                   0\n",
       "Lng                   0\n",
       "Population            0\n",
       "Area                  0\n",
       "TimeZone              0\n",
       "Job                   0\n",
       "Children              0\n",
       "Age                   0\n",
       "Income                0\n",
       "Marital               0\n",
       "Gender                0\n",
       "ReAdmis               0\n",
       "VitD_levels           0\n",
       "Doc_visits            0\n",
       "Full_meals_eaten      0\n",
       "vitD_supp             0\n",
       "Soft_drink            0\n",
       "Initial_admin         0\n",
       "HighBlood             0\n",
       "Stroke                0\n",
       "Complication_risk     0\n",
       "Overweight            0\n",
       "Arthritis             0\n",
       "Diabetes              0\n",
       "Hyperlipidemia        0\n",
       "BackPain              0\n",
       "Anxiety               0\n",
       "Allergic_rhinitis     0\n",
       "Reflux_esophagitis    0\n",
       "Asthma                0\n",
       "Services              0\n",
       "Initial_days          0\n",
       "TotalCharge           0\n",
       "Additional_charges    0\n",
       "Item1                 0\n",
       "Item2                 0\n",
       "Item3                 0\n",
       "Item4                 0\n",
       "Item5                 0\n",
       "Item6                 0\n",
       "Item7                 0\n",
       "Item8                 0\n",
       "dtype: int64"
      ]
     },
     "execution_count": 9,
     "metadata": {},
     "output_type": "execute_result"
    }
   ],
   "source": [
    "# Checking for missing data\n",
    "df.isnull().sum()"
   ]
  },
  {
   "cell_type": "code",
   "execution_count": 10,
   "id": "933b6cf8-9d8f-491b-8428-da7928ef2418",
   "metadata": {
    "tags": []
   },
   "outputs": [
    {
     "data": {
      "image/png": "[encoded data removed]",
      "text/plain": [
       "<Figure size 640x480 with 1 Axes>"
      ]
     },
     "metadata": {},
     "output_type": "display_data"
    },
    {
     "data": {
      "image/png": "[encoded data removed]",
      "text/plain": [
       "<Figure size 640x480 with 1 Axes>"
      ]
     },
     "metadata": {},
     "output_type": "display_data"
    },
    {
     "data": {
      "image/png": "[encoded data removed]",
      "text/plain": [
       "<Figure size 640x480 with 1 Axes>"
      ]
     },
     "metadata": {},
     "output_type": "display_data"
    },
    {
     "data": {
      "image/png": "[encoded data removed]",
      "text/plain": [
       "<Figure size 640x480 with 1 Axes>"
      ]
     },
     "metadata": {},
     "output_type": "display_data"
    },
    {
     "data": {
      "image/png": "[encoded data removed]",
      "text/plain": [
       "<Figure size 640x480 with 1 Axes>"
      ]
     },
     "metadata": {},
     "output_type": "display_data"
    },
    {
     "data": {
      "image/png": "[encoded data removed]",
      "text/plain": [
       "<Figure size 640x480 with 1 Axes>"
      ]
     },
     "metadata": {},
     "output_type": "display_data"
    },
    {
     "data": {
      "image/png": "[encoded data removed]",
      "text/plain": [
       "<Figure size 640x480 with 1 Axes>"
      ]
     },
     "metadata": {},
     "output_type": "display_data"
    },
    {
     "data": {
      "image/png": "[encoded data removed]",
      "text/plain": [
       "<Figure size 640x480 with 1 Axes>"
      ]
     },
     "metadata": {},
     "output_type": "display_data"
    },
    {
     "data": {
      "image/png": "[encoded data removed]",
      "text/plain": [
       "<Figure size 640x480 with 1 Axes>"
      ]
     },
     "metadata": {},
     "output_type": "display_data"
    },
    {
     "data": {
      "image/png": "[encoded data removed]",
      "text/plain": [
       "<Figure size 640x480 with 1 Axes>"
      ]
     },
     "metadata": {},
     "output_type": "display_data"
    },
    {
     "data": {
      "image/png": "[encoded data removed]",
      "text/plain": [
       "<Figure size 640x480 with 1 Axes>"
      ]
     },
     "metadata": {},
     "output_type": "display_data"
    },
    {
     "data": {
      "image/png": "[encoded data removed]",
      "text/plain": [
       "<Figure size 640x480 with 1 Axes>"
      ]
     },
     "metadata": {},
     "output_type": "display_data"
    }
   ],
   "source": [
    "# Checking for outliers in quantitative variables\n",
    "\n",
    "quant_columns = ['Lat', 'Lng', 'Population', 'Children', 'Age', 'Income', 'VitD_levels', 'Doc_visits', 'Full_meals_eaten', 'VitD_supp', 'Initial_days', 'TotalCharge', 'Additional_charges']\n",
    "\n",
    "\n",
    "for column in df:\n",
    "    if column in quant_columns:\n",
    "        plt.figure()\n",
    "        plt.gca().set_title(column)\n",
    "        df.boxplot([column])"
   ]
  },
  {
   "cell_type": "code",
   "execution_count": 11,
   "id": "973605a4-9b7d-42a8-82a8-589d087da257",
   "metadata": {},
   "outputs": [],
   "source": [
    "# Describe / Value_counts for all variables"
   ]
  },
  {
   "cell_type": "code",
   "execution_count": 12,
   "id": "5fb21f06-c5ff-4282-a6f1-4d1894c4a390",
   "metadata": {
    "tags": []
   },
   "outputs": [
    {
     "data": {
      "text/plain": [
       "Area\n",
       "Rural       3369\n",
       "Suburban    3328\n",
       "Urban       3303\n",
       "Name: count, dtype: int64"
      ]
     },
     "execution_count": 12,
     "metadata": {},
     "output_type": "execute_result"
    }
   ],
   "source": [
    "# Area\n",
    "df.Area.value_counts()"
   ]
  },
  {
   "cell_type": "code",
   "execution_count": 13,
   "id": "c7611e2b-6f68-46fb-89a1-e53de05c14bf",
   "metadata": {
    "tags": []
   },
   "outputs": [
    {
     "data": {
      "text/plain": [
       "count    10000.000000\n",
       "mean         2.097200\n",
       "std          2.163659\n",
       "min          0.000000\n",
       "25%          0.000000\n",
       "50%          1.000000\n",
       "75%          3.000000\n",
       "max         10.000000\n",
       "Name: Children, dtype: float64"
      ]
     },
     "execution_count": 13,
     "metadata": {},
     "output_type": "execute_result"
    }
   ],
   "source": [
    "# Children\n",
    "df.Children.describe()"
   ]
  },
  {
   "cell_type": "code",
   "execution_count": 14,
   "id": "2548c75e-c08f-4301-bbfd-d18ce111910c",
   "metadata": {},
   "outputs": [
    {
     "data": {
      "text/plain": [
       "count    10000.000000\n",
       "mean        53.511700\n",
       "std         20.638538\n",
       "min         18.000000\n",
       "25%         36.000000\n",
       "50%         53.000000\n",
       "75%         71.000000\n",
       "max         89.000000\n",
       "Name: Age, dtype: float64"
      ]
     },
     "execution_count": 14,
     "metadata": {},
     "output_type": "execute_result"
    }
   ],
   "source": [
    "# Age\n",
    "df.Age.describe()"
   ]
  },
  {
   "cell_type": "code",
   "execution_count": 15,
   "id": "aa6fecf3-dd8e-4710-b549-3f414d707286",
   "metadata": {},
   "outputs": [
    {
     "data": {
      "text/plain": [
       "count     10000.000000\n",
       "mean      40490.495160\n",
       "std       28521.153293\n",
       "min         154.080000\n",
       "25%       19598.775000\n",
       "50%       33768.420000\n",
       "75%       54296.402500\n",
       "max      207249.100000\n",
       "Name: Income, dtype: float64"
      ]
     },
     "execution_count": 15,
     "metadata": {},
     "output_type": "execute_result"
    }
   ],
   "source": [
    "# Income\n",
    "df.Income.describe()"
   ]
  },
  {
   "cell_type": "code",
   "execution_count": 16,
   "id": "ff296117-d94e-4e96-9d7a-2456f52ef0e1",
   "metadata": {
    "tags": []
   },
   "outputs": [
    {
     "data": {
      "text/plain": [
       "Marital\n",
       "Widowed          2045\n",
       "Married          2023\n",
       "Separated        1987\n",
       "Never Married    1984\n",
       "Divorced         1961\n",
       "Name: count, dtype: int64"
      ]
     },
     "execution_count": 16,
     "metadata": {},
     "output_type": "execute_result"
    }
   ],
   "source": [
    "# Marital\n",
    "df.Marital.value_counts()"
   ]
  },
  {
   "cell_type": "code",
   "execution_count": 17,
   "id": "522bde04-cd13-49a0-9db2-ba17aeda26ae",
   "metadata": {
    "tags": []
   },
   "outputs": [
    {
     "data": {
      "text/plain": [
       "Gender\n",
       "Female       5018\n",
       "Male         4768\n",
       "Nonbinary     214\n",
       "Name: count, dtype: int64"
      ]
     },
     "execution_count": 17,
     "metadata": {},
     "output_type": "execute_result"
    }
   ],
   "source": [
    "# Gender\n",
    "df.Gender.value_counts()"
   ]
  },
  {
   "cell_type": "code",
   "execution_count": 18,
   "id": "ac71941a-ca55-43ad-84a6-d443191aa1e1",
   "metadata": {
    "tags": []
   },
   "outputs": [
    {
     "data": {
      "text/plain": [
       "ReAdmis\n",
       "No     6331\n",
       "Yes    3669\n",
       "Name: count, dtype: int64"
      ]
     },
     "execution_count": 18,
     "metadata": {},
     "output_type": "execute_result"
    }
   ],
   "source": [
    "# ReAdmis\n",
    "df.ReAdmis.value_counts()"
   ]
  },
  {
   "cell_type": "code",
   "execution_count": 19,
   "id": "2e94e9fe-5e10-4979-8225-51016e71c0bf",
   "metadata": {},
   "outputs": [
    {
     "data": {
      "text/plain": [
       "count    10000.000000\n",
       "mean        17.964262\n",
       "std          2.017231\n",
       "min          9.806483\n",
       "25%         16.626439\n",
       "50%         17.951122\n",
       "75%         19.347963\n",
       "max         26.394449\n",
       "Name: VitD_levels, dtype: float64"
      ]
     },
     "execution_count": 19,
     "metadata": {},
     "output_type": "execute_result"
    }
   ],
   "source": [
    "# VitD_levels\n",
    "df.VitD_levels.describe()"
   ]
  },
  {
   "cell_type": "code",
   "execution_count": 20,
   "id": "368a857f-f13d-41c8-aa2d-ec36bf33d198",
   "metadata": {},
   "outputs": [
    {
     "data": {
      "text/plain": [
       "count    10000.000000\n",
       "mean         5.012200\n",
       "std          1.045734\n",
       "min          1.000000\n",
       "25%          4.000000\n",
       "50%          5.000000\n",
       "75%          6.000000\n",
       "max          9.000000\n",
       "Name: Doc_visits, dtype: float64"
      ]
     },
     "execution_count": 20,
     "metadata": {},
     "output_type": "execute_result"
    }
   ],
   "source": [
    "# Doc_visits\n",
    "df.Doc_visits.describe()"
   ]
  },
  {
   "cell_type": "code",
   "execution_count": 21,
   "id": "adbee76f-fe1f-4c03-bd60-3d2f9b485d8d",
   "metadata": {
    "tags": []
   },
   "outputs": [
    {
     "data": {
      "text/plain": [
       "count    10000.000000\n",
       "mean         1.001400\n",
       "std          1.008117\n",
       "min          0.000000\n",
       "25%          0.000000\n",
       "50%          1.000000\n",
       "75%          2.000000\n",
       "max          7.000000\n",
       "Name: Full_meals_eaten, dtype: float64"
      ]
     },
     "execution_count": 21,
     "metadata": {},
     "output_type": "execute_result"
    }
   ],
   "source": [
    "# Full_meals_eaten\n",
    "df.Full_meals_eaten.describe()"
   ]
  },
  {
   "cell_type": "code",
   "execution_count": 22,
   "id": "0465a985-d92d-46c8-9e1f-6a8b4d74240f",
   "metadata": {
    "tags": []
   },
   "outputs": [
    {
     "data": {
      "text/plain": [
       "count    10000.000000\n",
       "mean         0.398900\n",
       "std          0.628505\n",
       "min          0.000000\n",
       "25%          0.000000\n",
       "50%          0.000000\n",
       "75%          1.000000\n",
       "max          5.000000\n",
       "Name: vitD_supp, dtype: float64"
      ]
     },
     "execution_count": 22,
     "metadata": {},
     "output_type": "execute_result"
    }
   ],
   "source": [
    "# vitD_supp\n",
    "df.vitD_supp.describe()"
   ]
  },
  {
   "cell_type": "code",
   "execution_count": 23,
   "id": "7bfdcaf2-5a3d-4a41-869b-3cedba7fd5a4",
   "metadata": {
    "tags": []
   },
   "outputs": [
    {
     "data": {
      "text/plain": [
       "count     10000\n",
       "unique        2\n",
       "top          No\n",
       "freq       7425\n",
       "Name: Soft_drink, dtype: object"
      ]
     },
     "execution_count": 23,
     "metadata": {},
     "output_type": "execute_result"
    }
   ],
   "source": [
    "# Soft_drink\n",
    "df.Soft_drink.describe()"
   ]
  },
  {
   "cell_type": "code",
   "execution_count": 24,
   "id": "ed9605b5-32a8-4456-bae5-ee4d15b12da4",
   "metadata": {},
   "outputs": [
    {
     "data": {
      "text/plain": [
       "Initial_admin\n",
       "Emergency Admission      5060\n",
       "Elective Admission       2504\n",
       "Observation Admission    2436\n",
       "Name: count, dtype: int64"
      ]
     },
     "execution_count": 24,
     "metadata": {},
     "output_type": "execute_result"
    }
   ],
   "source": [
    "# Initial_admin\n",
    "df.Initial_admin.value_counts()"
   ]
  },
  {
   "cell_type": "code",
   "execution_count": 25,
   "id": "38376f16-c164-44be-b9d2-dbcb3df2522f",
   "metadata": {},
   "outputs": [
    {
     "data": {
      "text/plain": [
       "HighBlood\n",
       "No     5910\n",
       "Yes    4090\n",
       "Name: count, dtype: int64"
      ]
     },
     "execution_count": 25,
     "metadata": {},
     "output_type": "execute_result"
    }
   ],
   "source": [
    "# HighBlood\n",
    "df.HighBlood.value_counts()"
   ]
  },
  {
   "cell_type": "code",
   "execution_count": 26,
   "id": "094d8012-4c91-47a0-90f5-1a2d4583d1cd",
   "metadata": {},
   "outputs": [
    {
     "data": {
      "text/plain": [
       "Stroke\n",
       "No     8007\n",
       "Yes    1993\n",
       "Name: count, dtype: int64"
      ]
     },
     "execution_count": 26,
     "metadata": {},
     "output_type": "execute_result"
    }
   ],
   "source": [
    "# Stroke\n",
    "df.Stroke.value_counts()"
   ]
  },
  {
   "cell_type": "code",
   "execution_count": 27,
   "id": "0bfaaeda-7f4a-4a1c-8e12-e9b62437ea93",
   "metadata": {},
   "outputs": [
    {
     "data": {
      "text/plain": [
       "Overweight\n",
       "Yes    7094\n",
       "No     2906\n",
       "Name: count, dtype: int64"
      ]
     },
     "execution_count": 27,
     "metadata": {},
     "output_type": "execute_result"
    }
   ],
   "source": [
    "# Overweight\n",
    "df.Overweight.value_counts()"
   ]
  },
  {
   "cell_type": "code",
   "execution_count": 28,
   "id": "04247955-390c-447a-b146-ac533b841f46",
   "metadata": {},
   "outputs": [
    {
     "data": {
      "text/plain": [
       "Arthritis\n",
       "No     6426\n",
       "Yes    3574\n",
       "Name: count, dtype: int64"
      ]
     },
     "execution_count": 28,
     "metadata": {},
     "output_type": "execute_result"
    }
   ],
   "source": [
    "# Arthritis\n",
    "df.Arthritis.value_counts()"
   ]
  },
  {
   "cell_type": "code",
   "execution_count": 29,
   "id": "a0bc6487-ceba-4faf-8888-fdbbae5dfbb9",
   "metadata": {},
   "outputs": [
    {
     "data": {
      "text/plain": [
       "Diabetes\n",
       "No     7262\n",
       "Yes    2738\n",
       "Name: count, dtype: int64"
      ]
     },
     "execution_count": 29,
     "metadata": {},
     "output_type": "execute_result"
    }
   ],
   "source": [
    "# Diabetes\n",
    "df.Diabetes.value_counts()"
   ]
  },
  {
   "cell_type": "code",
   "execution_count": 30,
   "id": "56e168f9-f86f-4277-aeef-11ef07384290",
   "metadata": {
    "tags": []
   },
   "outputs": [
    {
     "data": {
      "text/plain": [
       "Hyperlipidemia\n",
       "No     6628\n",
       "Yes    3372\n",
       "Name: count, dtype: int64"
      ]
     },
     "execution_count": 30,
     "metadata": {},
     "output_type": "execute_result"
    }
   ],
   "source": [
    "# Hyperlipidemia\n",
    "df.Hyperlipidemia.value_counts()"
   ]
  },
  {
   "cell_type": "code",
   "execution_count": 31,
   "id": "a42d9a06-37cc-445a-be5f-f0352470ff0e",
   "metadata": {
    "tags": []
   },
   "outputs": [
    {
     "data": {
      "text/plain": [
       "BackPain\n",
       "No     5886\n",
       "Yes    4114\n",
       "Name: count, dtype: int64"
      ]
     },
     "execution_count": 31,
     "metadata": {},
     "output_type": "execute_result"
    }
   ],
   "source": [
    "# BackPain\n",
    "df.BackPain.value_counts()"
   ]
  },
  {
   "cell_type": "code",
   "execution_count": 32,
   "id": "0a5b5af0-1cfe-4324-ac21-599dfc42c79b",
   "metadata": {
    "tags": []
   },
   "outputs": [
    {
     "data": {
      "text/plain": [
       "Anxiety\n",
       "No     6785\n",
       "Yes    3215\n",
       "Name: count, dtype: int64"
      ]
     },
     "execution_count": 32,
     "metadata": {},
     "output_type": "execute_result"
    }
   ],
   "source": [
    "# Anxiety\n",
    "df.Anxiety.value_counts()"
   ]
  },
  {
   "cell_type": "code",
   "execution_count": 33,
   "id": "3b2cea46-c9c7-44f8-b305-313cb635621f",
   "metadata": {
    "tags": []
   },
   "outputs": [
    {
     "data": {
      "text/plain": [
       "Allergic_rhinitis\n",
       "No     6059\n",
       "Yes    3941\n",
       "Name: count, dtype: int64"
      ]
     },
     "execution_count": 33,
     "metadata": {},
     "output_type": "execute_result"
    }
   ],
   "source": [
    "# Allergic_rhinitis\n",
    "df.Allergic_rhinitis.value_counts()"
   ]
  },
  {
   "cell_type": "code",
   "execution_count": 34,
   "id": "30d25fd9-3bd4-449d-8f50-0d37eca74021",
   "metadata": {
    "tags": []
   },
   "outputs": [
    {
     "data": {
      "text/plain": [
       "Reflux_esophagitis\n",
       "No     5865\n",
       "Yes    4135\n",
       "Name: count, dtype: int64"
      ]
     },
     "execution_count": 34,
     "metadata": {},
     "output_type": "execute_result"
    }
   ],
   "source": [
    "# Reflux_esophagitis\n",
    "df.Reflux_esophagitis.value_counts()"
   ]
  },
  {
   "cell_type": "code",
   "execution_count": 35,
   "id": "82cafb5a-c047-44fd-a31c-9aff0cd3440e",
   "metadata": {
    "tags": []
   },
   "outputs": [
    {
     "data": {
      "text/plain": [
       "Asthma\n",
       "No     7107\n",
       "Yes    2893\n",
       "Name: count, dtype: int64"
      ]
     },
     "execution_count": 35,
     "metadata": {},
     "output_type": "execute_result"
    }
   ],
   "source": [
    "# Asthma\n",
    "df.Asthma.value_counts()"
   ]
  },
  {
   "cell_type": "code",
   "execution_count": 36,
   "id": "4001c855-d8b6-460d-85d5-83e1784f0ede",
   "metadata": {},
   "outputs": [
    {
     "data": {
      "text/plain": [
       "Services\n",
       "Blood Work     5265\n",
       "Intravenous    3130\n",
       "CT Scan        1225\n",
       "MRI             380\n",
       "Name: count, dtype: int64"
      ]
     },
     "execution_count": 36,
     "metadata": {},
     "output_type": "execute_result"
    }
   ],
   "source": [
    "# Services\n",
    "df.Services.value_counts()"
   ]
  },
  {
   "cell_type": "code",
   "execution_count": 37,
   "id": "2442d0e5-624f-4b6d-b415-6450111c7da3",
   "metadata": {},
   "outputs": [
    {
     "data": {
      "text/plain": [
       "count    10000.000000\n",
       "mean        34.455299\n",
       "std         26.309341\n",
       "min          1.001981\n",
       "25%          7.896215\n",
       "50%         35.836244\n",
       "75%         61.161020\n",
       "max         71.981490\n",
       "Name: Initial_days, dtype: float64"
      ]
     },
     "execution_count": 37,
     "metadata": {},
     "output_type": "execute_result"
    }
   ],
   "source": [
    "# Initial_days\n",
    "df.Initial_days.describe()"
   ]
  },
  {
   "cell_type": "code",
   "execution_count": 38,
   "id": "07d84de2-33a9-4827-9bf2-7cfee9dbeede",
   "metadata": {
    "tags": []
   },
   "outputs": [
    {
     "data": {
      "text/plain": [
       "count    10000.000000\n",
       "mean      5312.172769\n",
       "std       2180.393838\n",
       "min       1938.312067\n",
       "25%       3179.374015\n",
       "50%       5213.952000\n",
       "75%       7459.699750\n",
       "max       9180.728000\n",
       "Name: TotalCharge, dtype: float64"
      ]
     },
     "execution_count": 38,
     "metadata": {},
     "output_type": "execute_result"
    }
   ],
   "source": [
    "# TotalCharge\n",
    "df.TotalCharge.describe()"
   ]
  },
  {
   "cell_type": "code",
   "execution_count": 39,
   "id": "7986ac0f-de89-4a7e-9101-0436d15f9b7d",
   "metadata": {
    "tags": []
   },
   "outputs": [
    {
     "data": {
      "text/plain": [
       "count    10000.000000\n",
       "mean     12934.528587\n",
       "std       6542.601544\n",
       "min       3125.703000\n",
       "25%       7986.487755\n",
       "50%      11573.977735\n",
       "75%      15626.490000\n",
       "max      30566.070000\n",
       "Name: Additional_charges, dtype: float64"
      ]
     },
     "execution_count": 39,
     "metadata": {},
     "output_type": "execute_result"
    }
   ],
   "source": [
    "# Additional_charges\n",
    "df.Additional_charges.describe()"
   ]
  },
  {
   "cell_type": "code",
   "execution_count": 40,
   "id": "00fb2d9b-7056-42d0-87b8-9ade71901e75",
   "metadata": {
    "tags": []
   },
   "outputs": [
    {
     "data": {
      "text/plain": [
       "count    10000.000000\n",
       "mean         3.518800\n",
       "std          1.031966\n",
       "min          1.000000\n",
       "25%          3.000000\n",
       "50%          4.000000\n",
       "75%          4.000000\n",
       "max          8.000000\n",
       "Name: Item1, dtype: float64"
      ]
     },
     "execution_count": 40,
     "metadata": {},
     "output_type": "execute_result"
    }
   ],
   "source": [
    "# Item1\n",
    "df.Item1.describe()"
   ]
  },
  {
   "cell_type": "code",
   "execution_count": 41,
   "id": "b9fb1f96-ba43-42d6-97e2-f1391e21fd75",
   "metadata": {
    "tags": []
   },
   "outputs": [
    {
     "data": {
      "text/plain": [
       "count    10000.000000\n",
       "mean         3.506700\n",
       "std          1.034825\n",
       "min          1.000000\n",
       "25%          3.000000\n",
       "50%          3.000000\n",
       "75%          4.000000\n",
       "max          7.000000\n",
       "Name: Item2, dtype: float64"
      ]
     },
     "execution_count": 41,
     "metadata": {},
     "output_type": "execute_result"
    }
   ],
   "source": [
    "# Item2\n",
    "df.Item2.describe()"
   ]
  },
  {
   "cell_type": "code",
   "execution_count": 42,
   "id": "823f6e54-9805-449d-9192-5d292fd22c83",
   "metadata": {
    "tags": []
   },
   "outputs": [
    {
     "data": {
      "text/plain": [
       "count    10000.000000\n",
       "mean         3.511100\n",
       "std          1.032755\n",
       "min          1.000000\n",
       "25%          3.000000\n",
       "50%          4.000000\n",
       "75%          4.000000\n",
       "max          8.000000\n",
       "Name: Item3, dtype: float64"
      ]
     },
     "execution_count": 42,
     "metadata": {},
     "output_type": "execute_result"
    }
   ],
   "source": [
    "# Item3\n",
    "df.Item3.describe()"
   ]
  },
  {
   "cell_type": "code",
   "execution_count": 43,
   "id": "16ad3240-6b36-4aab-b46a-7e4df2caaaed",
   "metadata": {
    "tags": []
   },
   "outputs": [
    {
     "data": {
      "text/plain": [
       "count    10000.000000\n",
       "mean         3.515100\n",
       "std          1.036282\n",
       "min          1.000000\n",
       "25%          3.000000\n",
       "50%          4.000000\n",
       "75%          4.000000\n",
       "max          7.000000\n",
       "Name: Item4, dtype: float64"
      ]
     },
     "execution_count": 43,
     "metadata": {},
     "output_type": "execute_result"
    }
   ],
   "source": [
    "# Item4\n",
    "df.Item4.describe()"
   ]
  },
  {
   "cell_type": "code",
   "execution_count": 44,
   "id": "81aed4c6-0031-4b87-b4f5-03ff7225880d",
   "metadata": {
    "tags": []
   },
   "outputs": [
    {
     "data": {
      "text/plain": [
       "count    10000.000000\n",
       "mean         3.496900\n",
       "std          1.030192\n",
       "min          1.000000\n",
       "25%          3.000000\n",
       "50%          3.000000\n",
       "75%          4.000000\n",
       "max          7.000000\n",
       "Name: Item5, dtype: float64"
      ]
     },
     "execution_count": 44,
     "metadata": {},
     "output_type": "execute_result"
    }
   ],
   "source": [
    "# Item5\n",
    "df.Item5.describe()"
   ]
  },
  {
   "cell_type": "code",
   "execution_count": 45,
   "id": "c308aa86-6244-464d-bc0d-719a0150f712",
   "metadata": {
    "tags": []
   },
   "outputs": [
    {
     "data": {
      "text/plain": [
       "count    10000.000000\n",
       "mean         3.522500\n",
       "std          1.032376\n",
       "min          1.000000\n",
       "25%          3.000000\n",
       "50%          4.000000\n",
       "75%          4.000000\n",
       "max          7.000000\n",
       "Name: Item6, dtype: float64"
      ]
     },
     "execution_count": 45,
     "metadata": {},
     "output_type": "execute_result"
    }
   ],
   "source": [
    "# Item6\n",
    "df.Item6.describe()"
   ]
  },
  {
   "cell_type": "code",
   "execution_count": 46,
   "id": "883ca7aa-d98d-4dfa-8303-24a7aad07dee",
   "metadata": {
    "tags": []
   },
   "outputs": [
    {
     "data": {
      "text/plain": [
       "count    10000.000000\n",
       "mean         3.494000\n",
       "std          1.021405\n",
       "min          1.000000\n",
       "25%          3.000000\n",
       "50%          3.000000\n",
       "75%          4.000000\n",
       "max          7.000000\n",
       "Name: Item7, dtype: float64"
      ]
     },
     "execution_count": 46,
     "metadata": {},
     "output_type": "execute_result"
    }
   ],
   "source": [
    "# Item7\n",
    "df.Item7.describe()"
   ]
  },
  {
   "cell_type": "code",
   "execution_count": 47,
   "id": "9ce1410f-30c0-41f3-8f69-faf290866abb",
   "metadata": {
    "tags": []
   },
   "outputs": [
    {
     "data": {
      "text/plain": [
       "count    10000.000000\n",
       "mean         3.509700\n",
       "std          1.042312\n",
       "min          1.000000\n",
       "25%          3.000000\n",
       "50%          3.000000\n",
       "75%          4.000000\n",
       "max          7.000000\n",
       "Name: Item8, dtype: float64"
      ]
     },
     "execution_count": 47,
     "metadata": {},
     "output_type": "execute_result"
    }
   ],
   "source": [
    "# Item8\n",
    "df.Item8.describe()"
   ]
  },
  {
   "cell_type": "code",
   "execution_count": 48,
   "id": "918ca040-192d-4994-85b0-3bd1143af355",
   "metadata": {},
   "outputs": [],
   "source": [
    "# Variables to keep\n",
    "# Area, Children, Age, Income, Marital, Gender, VitD_levels, Doc_visits, Full_meals_eaten, VitD_supp, Soft_drink, Initial_admin, HighBlood, Stroke, Complication_risk, Overweight, Arthritis, Diabetes, Hyperlipidemia, BackPain, Anxiety, Allergic_rhinitis, Reflux_esophagitis, Asthma, Services, Initial_days"
   ]
  },
  {
   "cell_type": "code",
   "execution_count": 49,
   "id": "e0781165-6ae8-418a-bbf3-e072789914b1",
   "metadata": {},
   "outputs": [],
   "source": [
    "# Data Transformation"
   ]
  },
  {
   "cell_type": "code",
   "execution_count": 50,
   "id": "2502b6a7-c4e2-4e23-86fc-39159ff85091",
   "metadata": {},
   "outputs": [],
   "source": [
    "# Round Initial_days\n",
    "df['Initial_days'] = df.Initial_days.round(1)"
   ]
  },
  {
   "cell_type": "code",
   "execution_count": 51,
   "id": "830b2fa6-c09d-4b2c-bdb5-139078359c48",
   "metadata": {
    "tags": []
   },
   "outputs": [],
   "source": [
    "# Remove outliers (> {Mean + 2*std})"
   ]
  },
  {
   "cell_type": "code",
   "execution_count": 52,
   "id": "b7db3585-817d-4603-b67d-ebcc7cf97f95",
   "metadata": {},
   "outputs": [],
   "source": [
    "# Children outliers\n",
    "df['Children'] = np.where(df['Children'] > 5, np.nan, df['Children'])\n",
    "df['Children'].fillna(df['Children'].median(), inplace=True)"
   ]
  },
  {
   "cell_type": "code",
   "execution_count": 53,
   "id": "864fd902-037d-48eb-9ca3-7bc06219276a",
   "metadata": {
    "tags": []
   },
   "outputs": [],
   "source": [
    "# Setting Income outliers to NAs\n",
    "df['Income'] = np.where(df['Income'] > 97532.79, np.nan, df['Income'])\n",
    "\n",
    "# Setting Income NaN outliers to Median value\n",
    "df['Income'].fillna(df['Income'].median(), inplace=True)\n",
    "\n"
   ]
  },
  {
   "cell_type": "code",
   "execution_count": 54,
   "id": "e0133783-204f-439d-bb3f-dc7fe715e0fa",
   "metadata": {},
   "outputs": [],
   "source": [
    "# Setting values to 2 decimal places to better represent income\n",
    "df['Income'] = df.Income.round(2)"
   ]
  },
  {
   "cell_type": "code",
   "execution_count": 55,
   "id": "ef1ec963-fc5b-4f5e-bc26-1fa34da753e4",
   "metadata": {
    "tags": []
   },
   "outputs": [],
   "source": [
    "# VitD_levels outliers\n",
    "df['VitD_levels'] = np.where(df['VitD_levels'] > 21.99, np.nan, df['VitD_levels'])\n",
    "df['VitD_levels'].fillna(df['VitD_levels'].median(), inplace=True)\n",
    "\n",
    "# Round VitD_levels\n",
    "df['VitD_levels'] = df.VitD_levels.round(2)"
   ]
  },
  {
   "cell_type": "code",
   "execution_count": 56,
   "id": "f2e75a1a-44d4-417b-8f79-5383076c3ceb",
   "metadata": {},
   "outputs": [],
   "source": [
    "# Full_meals_eaten outliers\n",
    "df['Full_meals_eaten'] = np.where(df['Full_meals_eaten'] > 3, np.nan, df['Full_meals_eaten'])\n",
    "df['Full_meals_eaten'].fillna(df['Full_meals_eaten'].median(), inplace=True)"
   ]
  },
  {
   "cell_type": "code",
   "execution_count": 57,
   "id": "413872f1-9907-4fcb-9e1d-01d4b569a169",
   "metadata": {},
   "outputs": [],
   "source": [
    "# Type conversion "
   ]
  },
  {
   "cell_type": "code",
   "execution_count": 58,
   "id": "ec249154-8fff-46be-8be4-799f6a7b222d",
   "metadata": {},
   "outputs": [],
   "source": [
    "df['Full_meals_eaten'] = df['Full_meals_eaten'].astype(int)"
   ]
  },
  {
   "cell_type": "code",
   "execution_count": 59,
   "id": "9edd1dcd-312e-4f2f-8a92-b457bf87d4b8",
   "metadata": {},
   "outputs": [],
   "source": [
    "df['Children'] = df['Children'].astype(int)"
   ]
  },
  {
   "cell_type": "code",
   "execution_count": 60,
   "id": "d21f03e2-f408-40de-b407-0be151471b9b",
   "metadata": {
    "tags": []
   },
   "outputs": [],
   "source": [
    "# Reexpress booleans/categoricals into numeric values"
   ]
  },
  {
   "cell_type": "code",
   "execution_count": 61,
   "id": "36696596-845e-4ab1-a8ea-8781a03528e8",
   "metadata": {},
   "outputs": [],
   "source": [
    "df['ReAdmis'] = df['ReAdmis'].map({'Yes': '1', 'No': '0'})"
   ]
  },
  {
   "cell_type": "code",
   "execution_count": 62,
   "id": "c708d813-ec47-470f-aa47-a64f513cb5c3",
   "metadata": {},
   "outputs": [],
   "source": [
    "df['Soft_drink'] = df['Soft_drink'].map({'Yes': '1', 'No': '0'})"
   ]
  },
  {
   "cell_type": "code",
   "execution_count": 63,
   "id": "69bd3cd1-6ca8-43c1-b37f-6baaa01b4c32",
   "metadata": {
    "tags": []
   },
   "outputs": [],
   "source": [
    "df['HighBlood'] = df['HighBlood'].map({'Yes': '1', 'No': '0'})"
   ]
  },
  {
   "cell_type": "code",
   "execution_count": 64,
   "id": "78c39d04-6ec4-4865-afa2-b7a002994873",
   "metadata": {
    "tags": []
   },
   "outputs": [],
   "source": [
    "df['Stroke'] = df['Stroke'].map({'Yes': '1', 'No': '0'})\n"
   ]
  },
  {
   "cell_type": "code",
   "execution_count": 65,
   "id": "69a7c63c-f45c-470a-9645-a4e9bff056e6",
   "metadata": {
    "tags": []
   },
   "outputs": [],
   "source": [
    "df['Overweight'] = df['Overweight'].map({'Yes': '1', 'No': '0'})"
   ]
  },
  {
   "cell_type": "code",
   "execution_count": 66,
   "id": "4c2349d7-ce23-4e16-820e-289879149152",
   "metadata": {
    "tags": []
   },
   "outputs": [],
   "source": [
    "df['Arthritis'] = df['Arthritis'].map({'Yes': '1', 'No': '0'})"
   ]
  },
  {
   "cell_type": "code",
   "execution_count": 67,
   "id": "fe19194d-47ab-4c15-a2db-de1d73ffd477",
   "metadata": {
    "tags": []
   },
   "outputs": [],
   "source": [
    "df['Diabetes'] = df['Diabetes'].map({'Yes': '1', 'No': '0'})"
   ]
  },
  {
   "cell_type": "code",
   "execution_count": 68,
   "id": "8c1eea48-f56e-4c2f-8b4d-98150800483d",
   "metadata": {},
   "outputs": [],
   "source": [
    "df['Hyperlipidemia'] = df['Hyperlipidemia'].map({'Yes': '1', 'No': '0'})"
   ]
  },
  {
   "cell_type": "code",
   "execution_count": 69,
   "id": "faef68d8-f930-4317-93e3-4a8545a2a62f",
   "metadata": {},
   "outputs": [],
   "source": [
    "df['BackPain'] = df['BackPain'].map({'Yes': '1', 'No': '0'})"
   ]
  },
  {
   "cell_type": "code",
   "execution_count": 70,
   "id": "ba9718d9-6171-4915-8882-5b024be64151",
   "metadata": {},
   "outputs": [],
   "source": [
    "df['Anxiety'] = df['Anxiety'].map({'Yes': '1', 'No': '0'})"
   ]
  },
  {
   "cell_type": "code",
   "execution_count": 71,
   "id": "5a808603-98cb-4379-8685-59d2387167f3",
   "metadata": {},
   "outputs": [],
   "source": [
    "df['Allergic_rhinitis'] = df['Allergic_rhinitis'].map({'Yes': '1', 'No': '0'})"
   ]
  },
  {
   "cell_type": "code",
   "execution_count": 72,
   "id": "98a4b645-52b9-4501-8b14-3a0736cc51a7",
   "metadata": {},
   "outputs": [],
   "source": [
    "df['Reflux_esophagitis'] = df['Reflux_esophagitis'].map({'Yes': '1', 'No': '0'})"
   ]
  },
  {
   "cell_type": "code",
   "execution_count": 73,
   "id": "0ed18052-81cf-4e94-bd1e-6b2e0cf15045",
   "metadata": {},
   "outputs": [],
   "source": [
    "df['Asthma'] = df['Asthma'].map({'Yes': '1', 'No': '0'})"
   ]
  },
  {
   "cell_type": "code",
   "execution_count": 74,
   "id": "d039fa58-8b99-4855-b596-35e1cfca1ebd",
   "metadata": {
    "tags": []
   },
   "outputs": [],
   "source": [
    "# Create dummy variables and adding to dataframe"
   ]
  },
  {
   "cell_type": "code",
   "execution_count": 75,
   "id": "2a9e3186-7afa-46b3-84ff-228f4f4c347d",
   "metadata": {},
   "outputs": [],
   "source": [
    "# Area dummies\n",
    "area_dummies = pd.get_dummies(df.Area, columns=['Rural', 'Urban'])"
   ]
  },
  {
   "cell_type": "code",
   "execution_count": 76,
   "id": "2e06ac0f-6d6a-49f5-942e-d83c941f34b3",
   "metadata": {},
   "outputs": [],
   "source": [
    "df.insert(1, 'Area_rural', area_dummies['Rural'])"
   ]
  },
  {
   "cell_type": "code",
   "execution_count": 77,
   "id": "1d7afe5b-8710-49c3-aefb-38dd78804f82",
   "metadata": {},
   "outputs": [],
   "source": [
    "df.insert(2, 'Area_urban', area_dummies['Urban'])"
   ]
  },
  {
   "cell_type": "code",
   "execution_count": 78,
   "id": "528a287f-4be9-4993-9434-0c08caea22d3",
   "metadata": {},
   "outputs": [],
   "source": [
    "# Marital dummies\n",
    "marital_dummies = pd.get_dummies(df.Marital, columns=['Divorced', 'Married', 'Widowed'])"
   ]
  },
  {
   "cell_type": "code",
   "execution_count": 79,
   "id": "224d4501-2f3b-4c37-8111-28cb5f86783a",
   "metadata": {},
   "outputs": [],
   "source": [
    "df.insert(4, 'Marital_divorced', marital_dummies['Divorced'])"
   ]
  },
  {
   "cell_type": "code",
   "execution_count": 80,
   "id": "c33a2a96-d6cc-4542-a5cb-5d09bcb250a5",
   "metadata": {},
   "outputs": [],
   "source": [
    "df.insert(5, 'Marital_married', marital_dummies['Married'])"
   ]
  },
  {
   "cell_type": "code",
   "execution_count": 81,
   "id": "3533298d-0478-405f-88fa-1ffaa05db3ad",
   "metadata": {},
   "outputs": [],
   "source": [
    "df.insert(6, 'Marital_never_married', marital_dummies['Never Married'])"
   ]
  },
  {
   "cell_type": "code",
   "execution_count": 82,
   "id": "fa2286db-f75a-4593-aee9-d3d5e698255d",
   "metadata": {},
   "outputs": [],
   "source": [
    "# Gender dummies\n",
    "gender_dummies = pd.get_dummies(df.Gender, columns=['Male', 'Female'])"
   ]
  },
  {
   "cell_type": "code",
   "execution_count": 83,
   "id": "d89ef445-d854-4117-adef-f92fec72f218",
   "metadata": {},
   "outputs": [],
   "source": [
    "df.insert(7, 'Gender_male', gender_dummies['Male'])"
   ]
  },
  {
   "cell_type": "code",
   "execution_count": 84,
   "id": "d753c722-c293-42d8-80f9-f14bc37b20e1",
   "metadata": {},
   "outputs": [],
   "source": [
    "df.insert(8, 'Gender_female', gender_dummies['Female'])"
   ]
  },
  {
   "cell_type": "code",
   "execution_count": 85,
   "id": "ea4153e6-5fd0-4b0c-8c6f-f9cef260a8f1",
   "metadata": {},
   "outputs": [],
   "source": [
    "# Initial_admin dummies\n",
    "initial_admin_dummies = pd.get_dummies(df.Initial_admin, columns=['Elective Admission', 'Emergency Admission'])"
   ]
  },
  {
   "cell_type": "code",
   "execution_count": 86,
   "id": "ec72c9a6-a946-4586-a70f-5e997aa29101",
   "metadata": {
    "tags": []
   },
   "outputs": [],
   "source": [
    "df.insert(25, 'Initial_admin_elective_admission', initial_admin_dummies['Elective Admission'])"
   ]
  },
  {
   "cell_type": "code",
   "execution_count": 87,
   "id": "ad7b48fd-55aa-4d30-8793-76d14cd0f0cd",
   "metadata": {
    "tags": []
   },
   "outputs": [],
   "source": [
    "df.insert(25, 'Initial_admin_emergency_admission', initial_admin_dummies['Emergency Admission'])"
   ]
  },
  {
   "cell_type": "code",
   "execution_count": 88,
   "id": "8477d277-fca9-48ae-b97c-4598185d650a",
   "metadata": {},
   "outputs": [],
   "source": [
    "# Complication_risk dummies\n",
    "complication_risk_dummies = pd.get_dummies(df.Complication_risk, columns=['High', 'Low'])"
   ]
  },
  {
   "cell_type": "code",
   "execution_count": 89,
   "id": "a2375930-058e-45ae-9f03-e4765514ec46",
   "metadata": {},
   "outputs": [],
   "source": [
    "df.insert(28, 'Complication_risk_high', complication_risk_dummies['High'])"
   ]
  },
  {
   "cell_type": "code",
   "execution_count": 90,
   "id": "42c2476e-a286-43de-8113-8e29c30c36af",
   "metadata": {},
   "outputs": [],
   "source": [
    "df.insert(29, 'Complication_risk_low', complication_risk_dummies['Low'])"
   ]
  },
  {
   "cell_type": "code",
   "execution_count": 91,
   "id": "d87bc63d-eb4c-4351-8976-c223990b16e4",
   "metadata": {
    "tags": []
   },
   "outputs": [],
   "source": [
    "# Services dummies\n",
    "services_dummies = pd.get_dummies(df.Services, columns=['Blood Work', 'Intravenous', 'CT Scan'])\n",
    "                    "
   ]
  },
  {
   "cell_type": "code",
   "execution_count": 92,
   "id": "3c1d8f1c-8105-425e-9de7-880f4157eda5",
   "metadata": {
    "tags": []
   },
   "outputs": [],
   "source": [
    "df.insert(41, 'Services_blood_work', services_dummies['Blood Work'])"
   ]
  },
  {
   "cell_type": "code",
   "execution_count": 93,
   "id": "1f3e5296-3f63-4161-a11b-85fedbd97c01",
   "metadata": {
    "tags": []
   },
   "outputs": [],
   "source": [
    "df.insert(41, 'Services_intravenous', services_dummies['Intravenous'])"
   ]
  },
  {
   "cell_type": "code",
   "execution_count": 94,
   "id": "6292aee4-1323-40f0-b863-5b4473ef9c5f",
   "metadata": {
    "tags": []
   },
   "outputs": [],
   "source": [
    "df.insert(41, 'Services_ct_scan', services_dummies['CT Scan'])"
   ]
  },
  {
   "cell_type": "code",
   "execution_count": 95,
   "id": "22a63fbf-80c2-4520-9f1d-4ce331e1faa0",
   "metadata": {
    "tags": []
   },
   "outputs": [],
   "source": [
    "# Map dummies to numerical values"
   ]
  },
  {
   "cell_type": "code",
   "execution_count": 96,
   "id": "ab303535-399a-4526-8200-e49c4f9764c7",
   "metadata": {},
   "outputs": [],
   "source": [
    "df['Area_rural'] = df['Area_rural'].astype(int)"
   ]
  },
  {
   "cell_type": "code",
   "execution_count": 97,
   "id": "c97516d4-5f4b-4110-bb45-955435a2bccf",
   "metadata": {},
   "outputs": [],
   "source": [
    "df['Area_urban'] = df['Area_urban'].astype(int)"
   ]
  },
  {
   "cell_type": "code",
   "execution_count": 98,
   "id": "3190b161-2f1c-49bd-8a57-e7622ec91dae",
   "metadata": {},
   "outputs": [],
   "source": [
    "df['Marital_divorced'] = df['Marital_divorced'].astype(int)"
   ]
  },
  {
   "cell_type": "code",
   "execution_count": 99,
   "id": "95e02921-3939-442f-8d51-16f70cbcc56e",
   "metadata": {},
   "outputs": [],
   "source": [
    "df['Marital_married'] = df['Marital_married'].astype(int)"
   ]
  },
  {
   "cell_type": "code",
   "execution_count": 100,
   "id": "9e9df18b-0786-4318-9fed-5b4ce560fb9a",
   "metadata": {},
   "outputs": [],
   "source": [
    "df['Marital_never_married'] = df['Marital_never_married'].astype(int)"
   ]
  },
  {
   "cell_type": "code",
   "execution_count": 101,
   "id": "53398d9a-4f9b-48da-99c2-d28e4b1b5339",
   "metadata": {},
   "outputs": [],
   "source": [
    "df['Gender_male'] = df['Gender_male'].astype(int)"
   ]
  },
  {
   "cell_type": "code",
   "execution_count": 102,
   "id": "dbe49d54-36b6-46a7-95c0-3cbe4b765a1e",
   "metadata": {},
   "outputs": [],
   "source": [
    "df['Gender_female'] = df['Gender_female'].astype(int)"
   ]
  },
  {
   "cell_type": "code",
   "execution_count": 103,
   "id": "a03324a9-1094-4147-834d-8dae58162ba6",
   "metadata": {
    "tags": []
   },
   "outputs": [],
   "source": [
    "df['Initial_admin_elective_admission'] = df['Initial_admin_elective_admission'].astype(int)"
   ]
  },
  {
   "cell_type": "code",
   "execution_count": 104,
   "id": "987a2572-1dc9-41cf-b6cd-6a52abc5a0b8",
   "metadata": {
    "tags": []
   },
   "outputs": [],
   "source": [
    "df['Initial_admin_emergency_admission'] = df['Initial_admin_emergency_admission'].astype(int)"
   ]
  },
  {
   "cell_type": "code",
   "execution_count": 105,
   "id": "19e071dd-91d8-4ab0-ab43-ba2f2ba0260a",
   "metadata": {},
   "outputs": [],
   "source": [
    "df['Complication_risk_high'] = df['Complication_risk_high'].astype(int)"
   ]
  },
  {
   "cell_type": "code",
   "execution_count": 106,
   "id": "b9bc539e-c237-4383-9d91-ed8e16c146d0",
   "metadata": {},
   "outputs": [],
   "source": [
    "df['Complication_risk_low'] = df['Complication_risk_low'].astype(int)"
   ]
  },
  {
   "cell_type": "code",
   "execution_count": 107,
   "id": "6b30cc6e-9e21-490f-a424-c5417505d564",
   "metadata": {
    "tags": []
   },
   "outputs": [],
   "source": [
    "df['Services_blood_work'] = df['Services_blood_work'].astype(int)"
   ]
  },
  {
   "cell_type": "code",
   "execution_count": 108,
   "id": "2263d84a-991c-4fdd-b531-236501c5ca92",
   "metadata": {
    "tags": []
   },
   "outputs": [],
   "source": [
    "df['Services_intravenous'] = df['Services_intravenous'].astype(int)"
   ]
  },
  {
   "cell_type": "code",
   "execution_count": 109,
   "id": "dc65956a-abc9-4bc6-a58c-1b708546edd6",
   "metadata": {
    "tags": []
   },
   "outputs": [],
   "source": [
    "df['Services_ct_scan'] = df['Services_ct_scan'].astype(int)"
   ]
  },
  {
   "cell_type": "code",
   "execution_count": 110,
   "id": "fdb4dcd6-5f39-4ff2-9da7-ff1dc8467aae",
   "metadata": {},
   "outputs": [],
   "source": [
    "# Drop unneeded columns"
   ]
  },
  {
   "cell_type": "code",
   "execution_count": 111,
   "id": "3c4f4944-13be-4efe-8c14-3943a2a24c50",
   "metadata": {},
   "outputs": [],
   "source": [
    "df = df.drop(['CaseOrder', 'Customer_id', 'Interaction', 'UID', 'City', 'State', 'County', 'Zip', 'Lat', 'Lng', 'Population', 'Area', 'TimeZone', 'Job', 'Marital', 'Gender', 'Initial_admin', 'Complication_risk', 'TotalCharge', 'Services', 'Additional_charges', 'Item1', 'Item2', 'Item3', 'Item4', 'Item5', 'Item6', 'Item7', 'Item8'], axis=1)\n"
   ]
  },
  {
   "cell_type": "code",
   "execution_count": 112,
   "id": "03f9e1c4-14f4-4caa-bae3-5b2617f84346",
   "metadata": {
    "tags": []
   },
   "outputs": [],
   "source": [
    "# Assign predictors\n",
    "# Assign dependent variable"
   ]
  },
  {
   "cell_type": "code",
   "execution_count": 113,
   "id": "702d65f7-9132-4e0b-a1f6-8f4f5c5ec22a",
   "metadata": {
    "tags": []
   },
   "outputs": [],
   "source": [
    "X = df.drop(columns='ReAdmis')"
   ]
  },
  {
   "cell_type": "code",
   "execution_count": 114,
   "id": "93fe2e1d-34d9-404c-b2ee-b93e09a477a8",
   "metadata": {
    "tags": []
   },
   "outputs": [],
   "source": [
    "y = df.ReAdmis"
   ]
  },
  {
   "cell_type": "code",
   "execution_count": 115,
   "id": "03ce14a5-3824-4f3c-8032-0b815dd518b2",
   "metadata": {},
   "outputs": [],
   "source": [
    "# Scale variables"
   ]
  },
  {
   "cell_type": "code",
   "execution_count": 116,
   "id": "c5d2e793-ddcc-4ba1-9b1f-9752ea82aa4e",
   "metadata": {},
   "outputs": [],
   "source": [
    "X = pd.DataFrame(preprocessing.StandardScaler().fit_transform(X), columns=X.columns)"
   ]
  },
  {
   "cell_type": "code",
   "execution_count": 117,
   "id": "df6cc706-be25-4f92-99f6-080b4d9c8dfb",
   "metadata": {
    "tags": []
   },
   "outputs": [],
   "source": [
    "# SelectKBest\n",
    "skbest = SelectKBest(k='all') \n",
    "X_new = skbest.fit_transform(X,y)"
   ]
  },
  {
   "cell_type": "code",
   "execution_count": 118,
   "id": "d2d1db75-1094-4c78-a193-00d9ebe9991e",
   "metadata": {},
   "outputs": [
    {
     "data": {
      "text/html": [
       "<div>\n",
       "<style scoped>\n",
       "    .dataframe tbody tr th:only-of-type {\n",
       "        vertical-align: middle;\n",
       "    }\n",
       "\n",
       "    .dataframe tbody tr th {\n",
       "        vertical-align: top;\n",
       "    }\n",
       "\n",
       "    .dataframe thead th {\n",
       "        text-align: right;\n",
       "    }\n",
       "</style>\n",
       "<table border=\"1\" class=\"dataframe\">\n",
       "  <thead>\n",
       "    <tr style=\"text-align: right;\">\n",
       "      <th></th>\n",
       "      <th>Feature</th>\n",
       "      <th>p_value</th>\n",
       "    </tr>\n",
       "  </thead>\n",
       "  <tbody>\n",
       "    <tr>\n",
       "      <th>33</th>\n",
       "      <td>Initial_days</td>\n",
       "      <td>0.000000</td>\n",
       "    </tr>\n",
       "    <tr>\n",
       "      <th>22</th>\n",
       "      <td>Services_ct_scan</td>\n",
       "      <td>0.014707</td>\n",
       "    </tr>\n",
       "    <tr>\n",
       "      <th>2</th>\n",
       "      <td>Marital_divorced</td>\n",
       "      <td>0.030143</td>\n",
       "    </tr>\n",
       "    <tr>\n",
       "      <th>23</th>\n",
       "      <td>Services_intravenous</td>\n",
       "      <td>0.042233</td>\n",
       "    </tr>\n",
       "    <tr>\n",
       "      <th>10</th>\n",
       "      <td>Initial_admin_emergency_admission</td>\n",
       "      <td>0.048766</td>\n",
       "    </tr>\n",
       "  </tbody>\n",
       "</table>\n",
       "</div>"
      ],
      "text/plain": [
       "                              Feature   p_value\n",
       "33                       Initial_days  0.000000\n",
       "22                   Services_ct_scan  0.014707\n",
       "2                    Marital_divorced  0.030143\n",
       "23               Services_intravenous  0.042233\n",
       "10  Initial_admin_emergency_admission  0.048766"
      ]
     },
     "execution_count": 118,
     "metadata": {},
     "output_type": "execute_result"
    }
   ],
   "source": [
    "# Determining p-values / listing < .05\n",
    "p_values = pd.DataFrame({'Feature': X.columns, 'p_value': skbest.pvalues_}).sort_values('p_value')\n",
    "p_values[p_values['p_value'] < 0.05]"
   ]
  },
  {
   "cell_type": "code",
   "execution_count": 119,
   "id": "02834cbc-042e-48a6-be92-39c52579cf80",
   "metadata": {},
   "outputs": [
    {
     "name": "stdout",
     "output_type": "stream",
     "text": [
      "33                         Initial_days\n",
      "22                     Services_ct_scan\n",
      "2                      Marital_divorced\n",
      "23                 Services_intravenous\n",
      "10    Initial_admin_emergency_admission\n",
      "Name: Feature, dtype: object\n"
     ]
    }
   ],
   "source": [
    "# Variables to keep (<.05 p-value)\n",
    "features_to_keep = p_values['Feature'][p_values['p_value'] < 0.05]\n",
    "print(features_to_keep)"
   ]
  },
  {
   "cell_type": "code",
   "execution_count": 120,
   "id": "aa321100-5e46-42dc-9ec4-c2459531549b",
   "metadata": {},
   "outputs": [],
   "source": [
    "# Check VIFs"
   ]
  },
  {
   "cell_type": "code",
   "execution_count": 121,
   "id": "95f91d07-8e57-43aa-8632-1a0c19eec7cd",
   "metadata": {
    "tags": []
   },
   "outputs": [],
   "source": [
    "X_refined = df[['Marital_divorced', 'Services_ct_scan', 'Initial_days', 'Services_intravenous', 'Initial_admin_emergency_admission']]"
   ]
  },
  {
   "cell_type": "code",
   "execution_count": 122,
   "id": "871bbce3-1351-4590-9bef-228c715ae2b2",
   "metadata": {
    "tags": []
   },
   "outputs": [
    {
     "data": {
      "text/html": [
       "<div>\n",
       "<style scoped>\n",
       "    .dataframe tbody tr th:only-of-type {\n",
       "        vertical-align: middle;\n",
       "    }\n",
       "\n",
       "    .dataframe tbody tr th {\n",
       "        vertical-align: top;\n",
       "    }\n",
       "\n",
       "    .dataframe thead th {\n",
       "        text-align: right;\n",
       "    }\n",
       "</style>\n",
       "<table border=\"1\" class=\"dataframe\">\n",
       "  <thead>\n",
       "    <tr style=\"text-align: right;\">\n",
       "      <th></th>\n",
       "      <th>VIF</th>\n",
       "      <th>variable</th>\n",
       "    </tr>\n",
       "  </thead>\n",
       "  <tbody>\n",
       "    <tr>\n",
       "      <th>0</th>\n",
       "      <td>1.173547</td>\n",
       "      <td>Marital_divorced</td>\n",
       "    </tr>\n",
       "    <tr>\n",
       "      <th>1</th>\n",
       "      <td>1.142885</td>\n",
       "      <td>Services_ct_scan</td>\n",
       "    </tr>\n",
       "    <tr>\n",
       "      <th>2</th>\n",
       "      <td>1.706014</td>\n",
       "      <td>Initial_days</td>\n",
       "    </tr>\n",
       "    <tr>\n",
       "      <th>3</th>\n",
       "      <td>1.340727</td>\n",
       "      <td>Services_intravenous</td>\n",
       "    </tr>\n",
       "    <tr>\n",
       "      <th>4</th>\n",
       "      <td>1.582593</td>\n",
       "      <td>Initial_admin_emergency_admission</td>\n",
       "    </tr>\n",
       "  </tbody>\n",
       "</table>\n",
       "</div>"
      ],
      "text/plain": [
       "        VIF                           variable\n",
       "0  1.173547                   Marital_divorced\n",
       "1  1.142885                   Services_ct_scan\n",
       "2  1.706014                       Initial_days\n",
       "3  1.340727               Services_intravenous\n",
       "4  1.582593  Initial_admin_emergency_admission"
      ]
     },
     "execution_count": 122,
     "metadata": {},
     "output_type": "execute_result"
    }
   ],
   "source": [
    "vif = pd.DataFrame()\n",
    "vif['VIF'] = [variance_inflation_factor(X_refined.values, i) for i in range(X_refined.shape[1])]\n",
    "vif['variable'] = X_refined.columns\n",
    "vif"
   ]
  },
  {
   "cell_type": "code",
   "execution_count": 123,
   "id": "3293244c-9939-4140-8994-eccd8eb347c8",
   "metadata": {},
   "outputs": [],
   "source": [
    "# Cleaned Data Set\n",
    "df = X\n",
    "df.insert(15, 'ReAdmis', y)"
   ]
  },
  {
   "cell_type": "code",
   "execution_count": 124,
   "id": "f345dd56-0126-4f5f-bdf7-cfb6407c405e",
   "metadata": {},
   "outputs": [],
   "source": [
    "# Create .csv\n",
    "df.to_csv('cleand209data.csv', index=False)\n"
   ]
  },
  {
   "cell_type": "markdown",
   "id": "81a94aeb-67a7-446c-bf83-abe8be9971b7",
   "metadata": {
    "tags": []
   },
   "source": [
    "D1:  Split data"
   ]
  },
  {
   "cell_type": "code",
   "execution_count": 126,
   "id": "364237e4-b0b1-4005-9e56-034e118ff826",
   "metadata": {},
   "outputs": [],
   "source": [
    "# Load clean data set\n",
    "df = pd.read_csv(\"C:/Users/Owner/cleand209data.csv\")"
   ]
  },
  {
   "cell_type": "code",
   "execution_count": 127,
   "id": "fc34c302-8464-45de-bc02-41165ce25f6b",
   "metadata": {},
   "outputs": [],
   "source": [
    "X = df[['Marital_divorced', 'Services_ct_scan', 'Initial_days', 'Services_intravenous', 'Initial_admin_emergency_admission']]"
   ]
  },
  {
   "cell_type": "code",
   "execution_count": 128,
   "id": "c1667916-b5ed-46a7-b1fc-c20e71ffa17a",
   "metadata": {},
   "outputs": [],
   "source": [
    "y = df['ReAdmis']"
   ]
  },
  {
   "cell_type": "code",
   "execution_count": 129,
   "id": "4e4cc1d6-8500-4aae-9ac5-657ad7cf098f",
   "metadata": {},
   "outputs": [],
   "source": [
    "X_train, X_test, y_train, y_test= train_test_split(X, y, train_size=.8, test_size=.2, random_state=8)"
   ]
  },
  {
   "cell_type": "code",
   "execution_count": 130,
   "id": "4ddd00f7-faf3-4f48-bc02-d8cb3ab350e9",
   "metadata": {},
   "outputs": [],
   "source": [
    "# Output to .csvs"
   ]
  },
  {
   "cell_type": "code",
   "execution_count": 131,
   "id": "376fcf2f-5eec-4f64-b5c4-bb0397659aea",
   "metadata": {
    "tags": []
   },
   "outputs": [],
   "source": [
    "pd.DataFrame(X_train).to_csv('X_train.csv')\n",
    "pd.DataFrame(X_test).to_csv('X_test.csv')\n",
    "pd.DataFrame(y_train).to_csv('y_train.csv')\n",
    "pd.DataFrame(y_test).to_csv('y_test.csv')"
   ]
  },
  {
   "cell_type": "markdown",
   "id": "e7836cb4-6cdd-40de-84e7-e87b1e90f846",
   "metadata": {},
   "source": [
    "D2:  Perform K-NN and analysis"
   ]
  },
  {
   "cell_type": "code",
   "execution_count": 133,
   "id": "57414dbd-e9e4-46aa-bd31-555cc96b87d1",
   "metadata": {
    "tags": []
   },
   "outputs": [
    {
     "data": {
      "text/plain": [
       "{'n_neighbors': 7}"
      ]
     },
     "execution_count": 133,
     "metadata": {},
     "output_type": "execute_result"
    }
   ],
   "source": [
    "# Find optimum number of neighbors / cross-validation\n",
    "param_grid = {'n_neighbors': np.arange(1, 25)}\n",
    "knn = KNeighborsClassifier()\n",
    "knn_two = GridSearchCV(knn, param_grid)\n",
    "knn_two.fit(X_train, y_train)\n",
    "knn_two.best_params_"
   ]
  },
  {
   "cell_type": "code",
   "execution_count": 134,
   "id": "b5022296-f169-44ec-9ebf-6d634e10de59",
   "metadata": {
    "tags": []
   },
   "outputs": [
    {
     "name": "stdout",
     "output_type": "stream",
     "text": [
      "Mean Score: 0.9835\n"
     ]
    }
   ],
   "source": [
    "# Mean score\n",
    "print(\"Mean Score:\", knn_two.best_score_)"
   ]
  },
  {
   "cell_type": "code",
   "execution_count": 135,
   "id": "1692cc07-0d83-4291-90bd-f90700813dd7",
   "metadata": {},
   "outputs": [],
   "source": [
    "# Accuracy of kNN model"
   ]
  },
  {
   "cell_type": "code",
   "execution_count": 136,
   "id": "ca9046f7-7202-45db-a0fa-e6056cbc2228",
   "metadata": {},
   "outputs": [
    {
     "name": "stdout",
     "output_type": "stream",
     "text": [
      "Accuracy: 0.9715\n"
     ]
    }
   ],
   "source": [
    "knn = KNeighborsClassifier(n_neighbors=7)\n",
    "knn.fit(X_train, y_train)\n",
    "print(\"Accuracy:\", knn.score(X_test, y_test))"
   ]
  },
  {
   "cell_type": "code",
   "execution_count": 137,
   "id": "51520efc-bfed-4f9f-9a0e-4848d50541ff",
   "metadata": {},
   "outputs": [
    {
     "name": "stdout",
     "output_type": "stream",
     "text": [
      "AUC: 0.9947041947483999\n"
     ]
    }
   ],
   "source": [
    "# AUC score for kNN model\n",
    "y_predicted_probability = knn.predict_proba(X_test)[:,1]\n",
    "print(\"AUC:\", roc_auc_score(y_test, y_predicted_probability))"
   ]
  },
  {
   "cell_type": "code",
   "execution_count": 138,
   "id": "7c4b3747-96cb-497a-86d5-51c1745c82c5",
   "metadata": {
    "tags": []
   },
   "outputs": [
    {
     "name": "stdout",
     "output_type": "stream",
     "text": [
      "              precision    recall  f1-score   support\n",
      "\n",
      "           0       0.98      0.97      0.98      1301\n",
      "           1       0.95      0.97      0.96       699\n",
      "\n",
      "    accuracy                           0.97      2000\n",
      "   macro avg       0.97      0.97      0.97      2000\n",
      "weighted avg       0.97      0.97      0.97      2000\n",
      "\n"
     ]
    }
   ],
   "source": [
    "# Classification Report\n",
    "y_predicted = knn.predict(X_test)\n",
    "print(classification_report(y_test, y_predicted))"
   ]
  },
  {
   "cell_type": "code",
   "execution_count": 139,
   "id": "43028675-41e1-40fc-8641-a1d4d67ae5f8",
   "metadata": {},
   "outputs": [],
   "source": [
    "# Confusion Matrix"
   ]
  },
  {
   "cell_type": "code",
   "execution_count": 140,
   "id": "b5a85247-74fc-4434-94d8-9df220a97d6a",
   "metadata": {},
   "outputs": [
    {
     "name": "stdout",
     "output_type": "stream",
     "text": [
      "Confusion Matrix\n",
      " [[1265   36]\n",
      " [  21  678]]\n"
     ]
    }
   ],
   "source": [
    "print(\"Confusion Matrix\\n\", confusion_matrix(y_test, y_predicted))"
   ]
  },
  {
   "cell_type": "code",
   "execution_count": 141,
   "id": "e0da80f7-422d-4cd2-8159-4daea2cfc37c",
   "metadata": {
    "tags": []
   },
   "outputs": [
    {
     "data": {
      "text/plain": [
       "Text(0.5, 1.0, 'Heatmap for Confusion Matrix')"
      ]
     },
     "execution_count": 141,
     "metadata": {},
     "output_type": "execute_result"
    },
    {
     "data": {
      "image/png": "[encoded data removed]",
      "text/plain": [
       "<Figure size 640x480 with 2 Axes>"
      ]
     },
     "metadata": {},
     "output_type": "display_data"
    }
   ],
   "source": [
    "# Heatmap for Confusion Matrix\n",
    "seaborn.heatmap(confusion_matrix(y_test, y_predicted), annot=True, fmt='G', cmap='coolwarm' )\n",
    "plt.xlabel('Predicted')\n",
    "plt.ylabel('Test')\n",
    "plt.title('Heatmap for Confusion Matrix')\n"
   ]
  },
  {
   "cell_type": "code",
   "execution_count": 142,
   "id": "92870b09-6a61-4d6f-b844-4d531910f3f9",
   "metadata": {
    "tags": []
   },
   "outputs": [],
   "source": [
    "#  (Course Materials, n.d.)\n",
    "#  Model Complexity Curve\n",
    "neighbors = np.arange(1, 25)\n",
    "train_accuracy = np.empty(len(neighbors))\n",
    "test_accuracy = np.empty(len(neighbors))"
   ]
  },
  {
   "cell_type": "code",
   "execution_count": 143,
   "id": "71519d9f-b7d3-4d42-8cc8-d126039a3b1b",
   "metadata": {
    "tags": []
   },
   "outputs": [
    {
     "name": "stdout",
     "output_type": "stream",
     "text": [
      "Training Accuracy: 0.9815 \n",
      "Test Accuracy: 0.972\n"
     ]
    }
   ],
   "source": [
    "#  Loop k, classifier fit with training data, find accuracy of both training and test data\n",
    "for i, k in enumerate(neighbors):\n",
    "    knn = KNeighborsClassifier(n_neighbors=k)\n",
    "    knn.fit(X_train, y_train)\n",
    "    train_accuracy[i] = knn.score(X_train, y_train)\n",
    "    test_accuracy[i] = knn.score(X_test, y_test)\n",
    "print(\"Training Accuracy:\", train_accuracy[i], \"\\nTest Accuracy:\", test_accuracy[i])"
   ]
  },
  {
   "cell_type": "code",
   "execution_count": 144,
   "id": "8fa9b14d-bb3f-420e-bd57-e7d110ea0bf0",
   "metadata": {
    "tags": []
   },
   "outputs": [
    {
     "data": {
      "image/png": "[encoded data removed]",
      "text/plain": [
       "<Figure size 640x480 with 1 Axes>"
      ]
     },
     "metadata": {},
     "output_type": "display_data"
    }
   ],
   "source": [
    "# Visualization\n",
    "plt.title('k-NN for Neighbors < 25')\n",
    "plt.plot(neighbors, test_accuracy, label = 'Testing Accuracy')\n",
    "plt.plot(neighbors, train_accuracy, label='Training Accuracy')\n",
    "plt.legend()\n",
    "plt.xlabel('Number of Neighbors')\n",
    "plt.ylabel('Accuracy')\n",
    "plt.show()"
   ]
  },
  {
   "cell_type": "code",
   "execution_count": 145,
   "id": "d215e395-21af-4281-95d2-2246fd1d0fdb",
   "metadata": {},
   "outputs": [],
   "source": [
    "# (How to plot ROC curve in Python, 2024) "
   ]
  },
  {
   "cell_type": "code",
   "execution_count": 146,
   "id": "7b5eaa88-44c7-4762-a576-1077f5330220",
   "metadata": {
    "tags": []
   },
   "outputs": [
    {
     "name": "stdout",
     "output_type": "stream",
     "text": [
      "AUC-ROC: 0.9947041947483999\n"
     ]
    }
   ],
   "source": [
    "auc_roc = roc_auc_score(y_test, y_predicted_probability)\n",
    "print(\"AUC-ROC:\", auc_roc)"
   ]
  },
  {
   "cell_type": "code",
   "execution_count": 147,
   "id": "ae8270f4-269a-4a15-9366-4a9bde673440",
   "metadata": {
    "tags": []
   },
   "outputs": [
    {
     "data": {
      "image/png": "[encoded data removed]",
      "text/plain": [
       "<Figure size 640x480 with 1 Axes>"
      ]
     },
     "metadata": {},
     "output_type": "display_data"
    }
   ],
   "source": [
    "# Roc Curve\n",
    "fpr, tpr, thresholds = roc_curve(y_test, y_predicted_probability)\n",
    "plt.plot(fpr, tpr)\n",
    "plt.plot([0,1], [0,1], 'k--')\n",
    "plt.xlim([0.0, 1.0])\n",
    "plt.ylim([0.0, 1.05])\n",
    "plt.xlabel('False Positive Rate')\n",
    "plt.ylabel('true Positive Rate')\n",
    "plt.title('ROC Curve')\n",
    "plt.show()\n"
   ]
  },
  {
   "cell_type": "code",
   "execution_count": null,
   "id": "e29894ee-39aa-4257-ad5c-f30e4b8a40f5",
   "metadata": {},
   "outputs": [],
   "source": []
  }
 ],
 "metadata": {
  "kernelspec": {
   "display_name": "Python 3 (ipykernel)",
   "language": "python",
   "name": "python3"
  },
  "language_info": {
   "codemirror_mode": {
    "name": "ipython",
    "version": 3
   },
   "file_extension": ".py",
   "mimetype": "text/x-python",
   "name": "python",
   "nbconvert_exporter": "python",
   "pygments_lexer": "ipython3",
   "version": "3.11.7"
  }
 },
 "nbformat": 4,
 "nbformat_minor": 5
}
